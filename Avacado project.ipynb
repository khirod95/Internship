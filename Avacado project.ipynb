{
 "cells": [
  {
   "cell_type": "code",
   "execution_count": 43,
   "id": "b3456608",
   "metadata": {},
   "outputs": [],
   "source": [
    "import pandas as pd\n",
    "import numpy as np\n",
    "import matplotlib.pyplot as plt\n",
    "import seaborn as sns\n",
    "from sklearn.preprocessing import LabelEncoder\n",
    "from sklearn.preprocessing import StandardScaler\n",
    "from sklearn.model_selection import train_test_split\n",
    "from sklearn.linear_model import LogisticRegression"
   ]
  },
  {
   "cell_type": "code",
   "execution_count": 2,
   "id": "25037c00",
   "metadata": {},
   "outputs": [],
   "source": [
    "df = pd.read_csv(\"C:\\\\Users\\\\Khiro\\\\OneDrive\\\\Desktop\\\\avocado.csv\")"
   ]
  },
  {
   "cell_type": "code",
   "execution_count": 3,
   "id": "225dff27",
   "metadata": {},
   "outputs": [
    {
     "data": {
      "text/html": [
       "<div>\n",
       "<style scoped>\n",
       "    .dataframe tbody tr th:only-of-type {\n",
       "        vertical-align: middle;\n",
       "    }\n",
       "\n",
       "    .dataframe tbody tr th {\n",
       "        vertical-align: top;\n",
       "    }\n",
       "\n",
       "    .dataframe thead th {\n",
       "        text-align: right;\n",
       "    }\n",
       "</style>\n",
       "<table border=\"1\" class=\"dataframe\">\n",
       "  <thead>\n",
       "    <tr style=\"text-align: right;\">\n",
       "      <th></th>\n",
       "      <th>Unnamed: 0</th>\n",
       "      <th>Date</th>\n",
       "      <th>AveragePrice</th>\n",
       "      <th>Total Volume</th>\n",
       "      <th>4046</th>\n",
       "      <th>4225</th>\n",
       "      <th>4770</th>\n",
       "      <th>Total Bags</th>\n",
       "      <th>Small Bags</th>\n",
       "      <th>Large Bags</th>\n",
       "      <th>XLarge Bags</th>\n",
       "      <th>type</th>\n",
       "      <th>year</th>\n",
       "      <th>region</th>\n",
       "    </tr>\n",
       "  </thead>\n",
       "  <tbody>\n",
       "    <tr>\n",
       "      <th>0</th>\n",
       "      <td>0</td>\n",
       "      <td>2015-12-27</td>\n",
       "      <td>1.33</td>\n",
       "      <td>64236.62</td>\n",
       "      <td>1036.74</td>\n",
       "      <td>54454.85</td>\n",
       "      <td>48.16</td>\n",
       "      <td>8696.87</td>\n",
       "      <td>8603.62</td>\n",
       "      <td>93.25</td>\n",
       "      <td>0.0</td>\n",
       "      <td>conventional</td>\n",
       "      <td>2015</td>\n",
       "      <td>Albany</td>\n",
       "    </tr>\n",
       "    <tr>\n",
       "      <th>1</th>\n",
       "      <td>1</td>\n",
       "      <td>2015-12-20</td>\n",
       "      <td>1.35</td>\n",
       "      <td>54876.98</td>\n",
       "      <td>674.28</td>\n",
       "      <td>44638.81</td>\n",
       "      <td>58.33</td>\n",
       "      <td>9505.56</td>\n",
       "      <td>9408.07</td>\n",
       "      <td>97.49</td>\n",
       "      <td>0.0</td>\n",
       "      <td>conventional</td>\n",
       "      <td>2015</td>\n",
       "      <td>Albany</td>\n",
       "    </tr>\n",
       "    <tr>\n",
       "      <th>2</th>\n",
       "      <td>2</td>\n",
       "      <td>2015-12-13</td>\n",
       "      <td>0.93</td>\n",
       "      <td>118220.22</td>\n",
       "      <td>794.70</td>\n",
       "      <td>109149.67</td>\n",
       "      <td>130.50</td>\n",
       "      <td>8145.35</td>\n",
       "      <td>8042.21</td>\n",
       "      <td>103.14</td>\n",
       "      <td>0.0</td>\n",
       "      <td>conventional</td>\n",
       "      <td>2015</td>\n",
       "      <td>Albany</td>\n",
       "    </tr>\n",
       "    <tr>\n",
       "      <th>3</th>\n",
       "      <td>3</td>\n",
       "      <td>2015-12-06</td>\n",
       "      <td>1.08</td>\n",
       "      <td>78992.15</td>\n",
       "      <td>1132.00</td>\n",
       "      <td>71976.41</td>\n",
       "      <td>72.58</td>\n",
       "      <td>5811.16</td>\n",
       "      <td>5677.40</td>\n",
       "      <td>133.76</td>\n",
       "      <td>0.0</td>\n",
       "      <td>conventional</td>\n",
       "      <td>2015</td>\n",
       "      <td>Albany</td>\n",
       "    </tr>\n",
       "    <tr>\n",
       "      <th>4</th>\n",
       "      <td>4</td>\n",
       "      <td>2015-11-29</td>\n",
       "      <td>1.28</td>\n",
       "      <td>51039.60</td>\n",
       "      <td>941.48</td>\n",
       "      <td>43838.39</td>\n",
       "      <td>75.78</td>\n",
       "      <td>6183.95</td>\n",
       "      <td>5986.26</td>\n",
       "      <td>197.69</td>\n",
       "      <td>0.0</td>\n",
       "      <td>conventional</td>\n",
       "      <td>2015</td>\n",
       "      <td>Albany</td>\n",
       "    </tr>\n",
       "  </tbody>\n",
       "</table>\n",
       "</div>"
      ],
      "text/plain": [
       "   Unnamed: 0        Date  AveragePrice  Total Volume     4046       4225  \\\n",
       "0           0  2015-12-27          1.33      64236.62  1036.74   54454.85   \n",
       "1           1  2015-12-20          1.35      54876.98   674.28   44638.81   \n",
       "2           2  2015-12-13          0.93     118220.22   794.70  109149.67   \n",
       "3           3  2015-12-06          1.08      78992.15  1132.00   71976.41   \n",
       "4           4  2015-11-29          1.28      51039.60   941.48   43838.39   \n",
       "\n",
       "     4770  Total Bags  Small Bags  Large Bags  XLarge Bags          type  \\\n",
       "0   48.16     8696.87     8603.62       93.25          0.0  conventional   \n",
       "1   58.33     9505.56     9408.07       97.49          0.0  conventional   \n",
       "2  130.50     8145.35     8042.21      103.14          0.0  conventional   \n",
       "3   72.58     5811.16     5677.40      133.76          0.0  conventional   \n",
       "4   75.78     6183.95     5986.26      197.69          0.0  conventional   \n",
       "\n",
       "   year  region  \n",
       "0  2015  Albany  \n",
       "1  2015  Albany  \n",
       "2  2015  Albany  \n",
       "3  2015  Albany  \n",
       "4  2015  Albany  "
      ]
     },
     "execution_count": 3,
     "metadata": {},
     "output_type": "execute_result"
    }
   ],
   "source": [
    "df.head()"
   ]
  },
  {
   "cell_type": "code",
   "execution_count": 4,
   "id": "bc018840",
   "metadata": {},
   "outputs": [
    {
     "data": {
      "text/html": [
       "<div>\n",
       "<style scoped>\n",
       "    .dataframe tbody tr th:only-of-type {\n",
       "        vertical-align: middle;\n",
       "    }\n",
       "\n",
       "    .dataframe tbody tr th {\n",
       "        vertical-align: top;\n",
       "    }\n",
       "\n",
       "    .dataframe thead th {\n",
       "        text-align: right;\n",
       "    }\n",
       "</style>\n",
       "<table border=\"1\" class=\"dataframe\">\n",
       "  <thead>\n",
       "    <tr style=\"text-align: right;\">\n",
       "      <th></th>\n",
       "      <th>Unnamed: 0</th>\n",
       "      <th>Date</th>\n",
       "      <th>AveragePrice</th>\n",
       "      <th>Total Volume</th>\n",
       "      <th>4046</th>\n",
       "      <th>4225</th>\n",
       "      <th>4770</th>\n",
       "      <th>Total Bags</th>\n",
       "      <th>Small Bags</th>\n",
       "      <th>Large Bags</th>\n",
       "      <th>XLarge Bags</th>\n",
       "      <th>type</th>\n",
       "      <th>year</th>\n",
       "      <th>region</th>\n",
       "    </tr>\n",
       "  </thead>\n",
       "  <tbody>\n",
       "    <tr>\n",
       "      <th>18244</th>\n",
       "      <td>7</td>\n",
       "      <td>2018-02-04</td>\n",
       "      <td>1.63</td>\n",
       "      <td>17074.83</td>\n",
       "      <td>2046.96</td>\n",
       "      <td>1529.20</td>\n",
       "      <td>0.00</td>\n",
       "      <td>13498.67</td>\n",
       "      <td>13066.82</td>\n",
       "      <td>431.85</td>\n",
       "      <td>0.0</td>\n",
       "      <td>organic</td>\n",
       "      <td>2018</td>\n",
       "      <td>WestTexNewMexico</td>\n",
       "    </tr>\n",
       "    <tr>\n",
       "      <th>18245</th>\n",
       "      <td>8</td>\n",
       "      <td>2018-01-28</td>\n",
       "      <td>1.71</td>\n",
       "      <td>13888.04</td>\n",
       "      <td>1191.70</td>\n",
       "      <td>3431.50</td>\n",
       "      <td>0.00</td>\n",
       "      <td>9264.84</td>\n",
       "      <td>8940.04</td>\n",
       "      <td>324.80</td>\n",
       "      <td>0.0</td>\n",
       "      <td>organic</td>\n",
       "      <td>2018</td>\n",
       "      <td>WestTexNewMexico</td>\n",
       "    </tr>\n",
       "    <tr>\n",
       "      <th>18246</th>\n",
       "      <td>9</td>\n",
       "      <td>2018-01-21</td>\n",
       "      <td>1.87</td>\n",
       "      <td>13766.76</td>\n",
       "      <td>1191.92</td>\n",
       "      <td>2452.79</td>\n",
       "      <td>727.94</td>\n",
       "      <td>9394.11</td>\n",
       "      <td>9351.80</td>\n",
       "      <td>42.31</td>\n",
       "      <td>0.0</td>\n",
       "      <td>organic</td>\n",
       "      <td>2018</td>\n",
       "      <td>WestTexNewMexico</td>\n",
       "    </tr>\n",
       "    <tr>\n",
       "      <th>18247</th>\n",
       "      <td>10</td>\n",
       "      <td>2018-01-14</td>\n",
       "      <td>1.93</td>\n",
       "      <td>16205.22</td>\n",
       "      <td>1527.63</td>\n",
       "      <td>2981.04</td>\n",
       "      <td>727.01</td>\n",
       "      <td>10969.54</td>\n",
       "      <td>10919.54</td>\n",
       "      <td>50.00</td>\n",
       "      <td>0.0</td>\n",
       "      <td>organic</td>\n",
       "      <td>2018</td>\n",
       "      <td>WestTexNewMexico</td>\n",
       "    </tr>\n",
       "    <tr>\n",
       "      <th>18248</th>\n",
       "      <td>11</td>\n",
       "      <td>2018-01-07</td>\n",
       "      <td>1.62</td>\n",
       "      <td>17489.58</td>\n",
       "      <td>2894.77</td>\n",
       "      <td>2356.13</td>\n",
       "      <td>224.53</td>\n",
       "      <td>12014.15</td>\n",
       "      <td>11988.14</td>\n",
       "      <td>26.01</td>\n",
       "      <td>0.0</td>\n",
       "      <td>organic</td>\n",
       "      <td>2018</td>\n",
       "      <td>WestTexNewMexico</td>\n",
       "    </tr>\n",
       "  </tbody>\n",
       "</table>\n",
       "</div>"
      ],
      "text/plain": [
       "       Unnamed: 0        Date  AveragePrice  Total Volume     4046     4225  \\\n",
       "18244           7  2018-02-04          1.63      17074.83  2046.96  1529.20   \n",
       "18245           8  2018-01-28          1.71      13888.04  1191.70  3431.50   \n",
       "18246           9  2018-01-21          1.87      13766.76  1191.92  2452.79   \n",
       "18247          10  2018-01-14          1.93      16205.22  1527.63  2981.04   \n",
       "18248          11  2018-01-07          1.62      17489.58  2894.77  2356.13   \n",
       "\n",
       "         4770  Total Bags  Small Bags  Large Bags  XLarge Bags     type  year  \\\n",
       "18244    0.00    13498.67    13066.82      431.85          0.0  organic  2018   \n",
       "18245    0.00     9264.84     8940.04      324.80          0.0  organic  2018   \n",
       "18246  727.94     9394.11     9351.80       42.31          0.0  organic  2018   \n",
       "18247  727.01    10969.54    10919.54       50.00          0.0  organic  2018   \n",
       "18248  224.53    12014.15    11988.14       26.01          0.0  organic  2018   \n",
       "\n",
       "                 region  \n",
       "18244  WestTexNewMexico  \n",
       "18245  WestTexNewMexico  \n",
       "18246  WestTexNewMexico  \n",
       "18247  WestTexNewMexico  \n",
       "18248  WestTexNewMexico  "
      ]
     },
     "execution_count": 4,
     "metadata": {},
     "output_type": "execute_result"
    }
   ],
   "source": [
    "df.tail()"
   ]
  },
  {
   "cell_type": "code",
   "execution_count": 5,
   "id": "63c2bd57",
   "metadata": {},
   "outputs": [
    {
     "data": {
      "text/plain": [
       "(18249, 14)"
      ]
     },
     "execution_count": 5,
     "metadata": {},
     "output_type": "execute_result"
    }
   ],
   "source": [
    "df.shape"
   ]
  },
  {
   "cell_type": "code",
   "execution_count": 6,
   "id": "7c4f0dd4",
   "metadata": {},
   "outputs": [
    {
     "data": {
      "text/html": [
       "<div>\n",
       "<style scoped>\n",
       "    .dataframe tbody tr th:only-of-type {\n",
       "        vertical-align: middle;\n",
       "    }\n",
       "\n",
       "    .dataframe tbody tr th {\n",
       "        vertical-align: top;\n",
       "    }\n",
       "\n",
       "    .dataframe thead th {\n",
       "        text-align: right;\n",
       "    }\n",
       "</style>\n",
       "<table border=\"1\" class=\"dataframe\">\n",
       "  <thead>\n",
       "    <tr style=\"text-align: right;\">\n",
       "      <th></th>\n",
       "      <th>Unnamed: 0</th>\n",
       "      <th>AveragePrice</th>\n",
       "      <th>Total Volume</th>\n",
       "      <th>4046</th>\n",
       "      <th>4225</th>\n",
       "      <th>4770</th>\n",
       "      <th>Total Bags</th>\n",
       "      <th>Small Bags</th>\n",
       "      <th>Large Bags</th>\n",
       "      <th>XLarge Bags</th>\n",
       "      <th>year</th>\n",
       "    </tr>\n",
       "  </thead>\n",
       "  <tbody>\n",
       "    <tr>\n",
       "      <th>count</th>\n",
       "      <td>18249.000000</td>\n",
       "      <td>18249.000000</td>\n",
       "      <td>1.824900e+04</td>\n",
       "      <td>1.824900e+04</td>\n",
       "      <td>1.824900e+04</td>\n",
       "      <td>1.824900e+04</td>\n",
       "      <td>1.824900e+04</td>\n",
       "      <td>1.824900e+04</td>\n",
       "      <td>1.824900e+04</td>\n",
       "      <td>18249.000000</td>\n",
       "      <td>18249.000000</td>\n",
       "    </tr>\n",
       "    <tr>\n",
       "      <th>mean</th>\n",
       "      <td>24.232232</td>\n",
       "      <td>1.405978</td>\n",
       "      <td>8.506440e+05</td>\n",
       "      <td>2.930084e+05</td>\n",
       "      <td>2.951546e+05</td>\n",
       "      <td>2.283974e+04</td>\n",
       "      <td>2.396392e+05</td>\n",
       "      <td>1.821947e+05</td>\n",
       "      <td>5.433809e+04</td>\n",
       "      <td>3106.426507</td>\n",
       "      <td>2016.147899</td>\n",
       "    </tr>\n",
       "    <tr>\n",
       "      <th>std</th>\n",
       "      <td>15.481045</td>\n",
       "      <td>0.402677</td>\n",
       "      <td>3.453545e+06</td>\n",
       "      <td>1.264989e+06</td>\n",
       "      <td>1.204120e+06</td>\n",
       "      <td>1.074641e+05</td>\n",
       "      <td>9.862424e+05</td>\n",
       "      <td>7.461785e+05</td>\n",
       "      <td>2.439660e+05</td>\n",
       "      <td>17692.894652</td>\n",
       "      <td>0.939938</td>\n",
       "    </tr>\n",
       "    <tr>\n",
       "      <th>min</th>\n",
       "      <td>0.000000</td>\n",
       "      <td>0.440000</td>\n",
       "      <td>8.456000e+01</td>\n",
       "      <td>0.000000e+00</td>\n",
       "      <td>0.000000e+00</td>\n",
       "      <td>0.000000e+00</td>\n",
       "      <td>0.000000e+00</td>\n",
       "      <td>0.000000e+00</td>\n",
       "      <td>0.000000e+00</td>\n",
       "      <td>0.000000</td>\n",
       "      <td>2015.000000</td>\n",
       "    </tr>\n",
       "    <tr>\n",
       "      <th>25%</th>\n",
       "      <td>10.000000</td>\n",
       "      <td>1.100000</td>\n",
       "      <td>1.083858e+04</td>\n",
       "      <td>8.540700e+02</td>\n",
       "      <td>3.008780e+03</td>\n",
       "      <td>0.000000e+00</td>\n",
       "      <td>5.088640e+03</td>\n",
       "      <td>2.849420e+03</td>\n",
       "      <td>1.274700e+02</td>\n",
       "      <td>0.000000</td>\n",
       "      <td>2015.000000</td>\n",
       "    </tr>\n",
       "    <tr>\n",
       "      <th>50%</th>\n",
       "      <td>24.000000</td>\n",
       "      <td>1.370000</td>\n",
       "      <td>1.073768e+05</td>\n",
       "      <td>8.645300e+03</td>\n",
       "      <td>2.906102e+04</td>\n",
       "      <td>1.849900e+02</td>\n",
       "      <td>3.974383e+04</td>\n",
       "      <td>2.636282e+04</td>\n",
       "      <td>2.647710e+03</td>\n",
       "      <td>0.000000</td>\n",
       "      <td>2016.000000</td>\n",
       "    </tr>\n",
       "    <tr>\n",
       "      <th>75%</th>\n",
       "      <td>38.000000</td>\n",
       "      <td>1.660000</td>\n",
       "      <td>4.329623e+05</td>\n",
       "      <td>1.110202e+05</td>\n",
       "      <td>1.502069e+05</td>\n",
       "      <td>6.243420e+03</td>\n",
       "      <td>1.107834e+05</td>\n",
       "      <td>8.333767e+04</td>\n",
       "      <td>2.202925e+04</td>\n",
       "      <td>132.500000</td>\n",
       "      <td>2017.000000</td>\n",
       "    </tr>\n",
       "    <tr>\n",
       "      <th>max</th>\n",
       "      <td>52.000000</td>\n",
       "      <td>3.250000</td>\n",
       "      <td>6.250565e+07</td>\n",
       "      <td>2.274362e+07</td>\n",
       "      <td>2.047057e+07</td>\n",
       "      <td>2.546439e+06</td>\n",
       "      <td>1.937313e+07</td>\n",
       "      <td>1.338459e+07</td>\n",
       "      <td>5.719097e+06</td>\n",
       "      <td>551693.650000</td>\n",
       "      <td>2018.000000</td>\n",
       "    </tr>\n",
       "  </tbody>\n",
       "</table>\n",
       "</div>"
      ],
      "text/plain": [
       "         Unnamed: 0  AveragePrice  Total Volume          4046          4225  \\\n",
       "count  18249.000000  18249.000000  1.824900e+04  1.824900e+04  1.824900e+04   \n",
       "mean      24.232232      1.405978  8.506440e+05  2.930084e+05  2.951546e+05   \n",
       "std       15.481045      0.402677  3.453545e+06  1.264989e+06  1.204120e+06   \n",
       "min        0.000000      0.440000  8.456000e+01  0.000000e+00  0.000000e+00   \n",
       "25%       10.000000      1.100000  1.083858e+04  8.540700e+02  3.008780e+03   \n",
       "50%       24.000000      1.370000  1.073768e+05  8.645300e+03  2.906102e+04   \n",
       "75%       38.000000      1.660000  4.329623e+05  1.110202e+05  1.502069e+05   \n",
       "max       52.000000      3.250000  6.250565e+07  2.274362e+07  2.047057e+07   \n",
       "\n",
       "               4770    Total Bags    Small Bags    Large Bags    XLarge Bags  \\\n",
       "count  1.824900e+04  1.824900e+04  1.824900e+04  1.824900e+04   18249.000000   \n",
       "mean   2.283974e+04  2.396392e+05  1.821947e+05  5.433809e+04    3106.426507   \n",
       "std    1.074641e+05  9.862424e+05  7.461785e+05  2.439660e+05   17692.894652   \n",
       "min    0.000000e+00  0.000000e+00  0.000000e+00  0.000000e+00       0.000000   \n",
       "25%    0.000000e+00  5.088640e+03  2.849420e+03  1.274700e+02       0.000000   \n",
       "50%    1.849900e+02  3.974383e+04  2.636282e+04  2.647710e+03       0.000000   \n",
       "75%    6.243420e+03  1.107834e+05  8.333767e+04  2.202925e+04     132.500000   \n",
       "max    2.546439e+06  1.937313e+07  1.338459e+07  5.719097e+06  551693.650000   \n",
       "\n",
       "               year  \n",
       "count  18249.000000  \n",
       "mean    2016.147899  \n",
       "std        0.939938  \n",
       "min     2015.000000  \n",
       "25%     2015.000000  \n",
       "50%     2016.000000  \n",
       "75%     2017.000000  \n",
       "max     2018.000000  "
      ]
     },
     "execution_count": 6,
     "metadata": {},
     "output_type": "execute_result"
    }
   ],
   "source": [
    "df.describe()"
   ]
  },
  {
   "cell_type": "code",
   "execution_count": 7,
   "id": "a957f6e1",
   "metadata": {},
   "outputs": [
    {
     "name": "stdout",
     "output_type": "stream",
     "text": [
      "<class 'pandas.core.frame.DataFrame'>\n",
      "RangeIndex: 18249 entries, 0 to 18248\n",
      "Data columns (total 14 columns):\n",
      " #   Column        Non-Null Count  Dtype  \n",
      "---  ------        --------------  -----  \n",
      " 0   Unnamed: 0    18249 non-null  int64  \n",
      " 1   Date          18249 non-null  object \n",
      " 2   AveragePrice  18249 non-null  float64\n",
      " 3   Total Volume  18249 non-null  float64\n",
      " 4   4046          18249 non-null  float64\n",
      " 5   4225          18249 non-null  float64\n",
      " 6   4770          18249 non-null  float64\n",
      " 7   Total Bags    18249 non-null  float64\n",
      " 8   Small Bags    18249 non-null  float64\n",
      " 9   Large Bags    18249 non-null  float64\n",
      " 10  XLarge Bags   18249 non-null  float64\n",
      " 11  type          18249 non-null  object \n",
      " 12  year          18249 non-null  int64  \n",
      " 13  region        18249 non-null  object \n",
      "dtypes: float64(9), int64(2), object(3)\n",
      "memory usage: 1.9+ MB\n"
     ]
    }
   ],
   "source": [
    "df.info()"
   ]
  },
  {
   "cell_type": "code",
   "execution_count": 8,
   "id": "a6f09c5b",
   "metadata": {},
   "outputs": [
    {
     "data": {
      "text/plain": [
       "Index(['Unnamed: 0', 'Date', 'AveragePrice', 'Total Volume', '4046', '4225',\n",
       "       '4770', 'Total Bags', 'Small Bags', 'Large Bags', 'XLarge Bags', 'type',\n",
       "       'year', 'region'],\n",
       "      dtype='object')"
      ]
     },
     "execution_count": 8,
     "metadata": {},
     "output_type": "execute_result"
    }
   ],
   "source": [
    "df.columns"
   ]
  },
  {
   "cell_type": "code",
   "execution_count": 10,
   "id": "6fdaf738",
   "metadata": {},
   "outputs": [
    {
     "data": {
      "text/plain": [
       "Unnamed: 0      0\n",
       "Date            0\n",
       "AveragePrice    0\n",
       "Total Volume    0\n",
       "4046            0\n",
       "4225            0\n",
       "4770            0\n",
       "Total Bags      0\n",
       "Small Bags      0\n",
       "Large Bags      0\n",
       "XLarge Bags     0\n",
       "type            0\n",
       "year            0\n",
       "region          0\n",
       "dtype: int64"
      ]
     },
     "execution_count": 10,
     "metadata": {},
     "output_type": "execute_result"
    }
   ],
   "source": [
    "df.isnull().sum()"
   ]
  },
  {
   "cell_type": "code",
   "execution_count": 15,
   "id": "a6c7f2e7",
   "metadata": {},
   "outputs": [
    {
     "data": {
      "image/png": "[encoded data removed]",
      "text/plain": [
       "<Figure size 432x288 with 11 Axes>"
      ]
     },
     "metadata": {
      "needs_background": "light"
     },
     "output_type": "display_data"
    }
   ],
   "source": [
    "plt.figure\n",
    "for i in range(len(df.columns)):\n",
    "    if df.dtypes[i] != 'object':\n",
    "        plt.subplot(3,5, i+1)\n",
    "        plt.boxplot(df[df.columns[i]])\n",
    "        plt.title(df.columns[i])\n",
    "plt.show()"
   ]
  },
  {
   "cell_type": "code",
   "execution_count": 17,
   "id": "9f6a0f89",
   "metadata": {},
   "outputs": [],
   "source": [
    "def get_uniques(df,columns):\n",
    "    return {column:list(df[column].unique())for column in columns}\n"
   ]
  },
  {
   "cell_type": "code",
   "execution_count": 24,
   "id": "1fd3e58d",
   "metadata": {},
   "outputs": [
    {
     "data": {
      "text/plain": [
       "{'region': ['Albany',\n",
       "  'Atlanta',\n",
       "  'BaltimoreWashington',\n",
       "  'Boise',\n",
       "  'Boston',\n",
       "  'BuffaloRochester',\n",
       "  'California',\n",
       "  'Charlotte',\n",
       "  'Chicago',\n",
       "  'CincinnatiDayton',\n",
       "  'Columbus',\n",
       "  'DallasFtWorth',\n",
       "  'Denver',\n",
       "  'Detroit',\n",
       "  'GrandRapids',\n",
       "  'GreatLakes',\n",
       "  'HarrisburgScranton',\n",
       "  'HartfordSpringfield',\n",
       "  'Houston',\n",
       "  'Indianapolis',\n",
       "  'Jacksonville',\n",
       "  'LasVegas',\n",
       "  'LosAngeles',\n",
       "  'Louisville',\n",
       "  'MiamiFtLauderdale',\n",
       "  'Midsouth',\n",
       "  'Nashville',\n",
       "  'NewOrleansMobile',\n",
       "  'NewYork',\n",
       "  'Northeast',\n",
       "  'NorthernNewEngland',\n",
       "  'Orlando',\n",
       "  'Philadelphia',\n",
       "  'PhoenixTucson',\n",
       "  'Pittsburgh',\n",
       "  'Plains',\n",
       "  'Portland',\n",
       "  'RaleighGreensboro',\n",
       "  'RichmondNorfolk',\n",
       "  'Roanoke',\n",
       "  'Sacramento',\n",
       "  'SanDiego',\n",
       "  'SanFrancisco',\n",
       "  'Seattle',\n",
       "  'SouthCarolina',\n",
       "  'SouthCentral',\n",
       "  'Southeast',\n",
       "  'Spokane',\n",
       "  'StLouis',\n",
       "  'Syracuse',\n",
       "  'Tampa',\n",
       "  'TotalUS',\n",
       "  'West',\n",
       "  'WestTexNewMexico'],\n",
       " 'Date': ['2015-12-27',\n",
       "  '2015-12-20',\n",
       "  '2015-12-13',\n",
       "  '2015-12-06',\n",
       "  '2015-11-29',\n",
       "  '2015-11-22',\n",
       "  '2015-11-15',\n",
       "  '2015-11-08',\n",
       "  '2015-11-01',\n",
       "  '2015-10-25',\n",
       "  '2015-10-18',\n",
       "  '2015-10-11',\n",
       "  '2015-10-04',\n",
       "  '2015-09-27',\n",
       "  '2015-09-20',\n",
       "  '2015-09-13',\n",
       "  '2015-09-06',\n",
       "  '2015-08-30',\n",
       "  '2015-08-23',\n",
       "  '2015-08-16',\n",
       "  '2015-08-09',\n",
       "  '2015-08-02',\n",
       "  '2015-07-26',\n",
       "  '2015-07-19',\n",
       "  '2015-07-12',\n",
       "  '2015-07-05',\n",
       "  '2015-06-28',\n",
       "  '2015-06-21',\n",
       "  '2015-06-14',\n",
       "  '2015-06-07',\n",
       "  '2015-05-31',\n",
       "  '2015-05-24',\n",
       "  '2015-05-17',\n",
       "  '2015-05-10',\n",
       "  '2015-05-03',\n",
       "  '2015-04-26',\n",
       "  '2015-04-19',\n",
       "  '2015-04-12',\n",
       "  '2015-04-05',\n",
       "  '2015-03-29',\n",
       "  '2015-03-22',\n",
       "  '2015-03-15',\n",
       "  '2015-03-08',\n",
       "  '2015-03-01',\n",
       "  '2015-02-22',\n",
       "  '2015-02-15',\n",
       "  '2015-02-08',\n",
       "  '2015-02-01',\n",
       "  '2015-01-25',\n",
       "  '2015-01-18',\n",
       "  '2015-01-11',\n",
       "  '2015-01-04',\n",
       "  '2016-12-25',\n",
       "  '2016-12-18',\n",
       "  '2016-12-11',\n",
       "  '2016-12-04',\n",
       "  '2016-11-27',\n",
       "  '2016-11-20',\n",
       "  '2016-11-13',\n",
       "  '2016-11-06',\n",
       "  '2016-10-30',\n",
       "  '2016-10-23',\n",
       "  '2016-10-16',\n",
       "  '2016-10-09',\n",
       "  '2016-10-02',\n",
       "  '2016-09-25',\n",
       "  '2016-09-18',\n",
       "  '2016-09-11',\n",
       "  '2016-09-04',\n",
       "  '2016-08-28',\n",
       "  '2016-08-21',\n",
       "  '2016-08-14',\n",
       "  '2016-08-07',\n",
       "  '2016-07-31',\n",
       "  '2016-07-24',\n",
       "  '2016-07-17',\n",
       "  '2016-07-10',\n",
       "  '2016-07-03',\n",
       "  '2016-06-26',\n",
       "  '2016-06-19',\n",
       "  '2016-06-12',\n",
       "  '2016-06-05',\n",
       "  '2016-05-29',\n",
       "  '2016-05-22',\n",
       "  '2016-05-15',\n",
       "  '2016-05-08',\n",
       "  '2016-05-01',\n",
       "  '2016-04-24',\n",
       "  '2016-04-17',\n",
       "  '2016-04-10',\n",
       "  '2016-04-03',\n",
       "  '2016-03-27',\n",
       "  '2016-03-20',\n",
       "  '2016-03-13',\n",
       "  '2016-03-06',\n",
       "  '2016-02-28',\n",
       "  '2016-02-21',\n",
       "  '2016-02-14',\n",
       "  '2016-02-07',\n",
       "  '2016-01-31',\n",
       "  '2016-01-24',\n",
       "  '2016-01-17',\n",
       "  '2016-01-10',\n",
       "  '2016-01-03',\n",
       "  '2017-12-31',\n",
       "  '2017-12-24',\n",
       "  '2017-12-17',\n",
       "  '2017-12-10',\n",
       "  '2017-12-03',\n",
       "  '2017-11-26',\n",
       "  '2017-11-19',\n",
       "  '2017-11-12',\n",
       "  '2017-11-05',\n",
       "  '2017-10-29',\n",
       "  '2017-10-22',\n",
       "  '2017-10-15',\n",
       "  '2017-10-08',\n",
       "  '2017-10-01',\n",
       "  '2017-09-24',\n",
       "  '2017-09-17',\n",
       "  '2017-09-10',\n",
       "  '2017-09-03',\n",
       "  '2017-08-27',\n",
       "  '2017-08-20',\n",
       "  '2017-08-13',\n",
       "  '2017-08-06',\n",
       "  '2017-07-30',\n",
       "  '2017-07-23',\n",
       "  '2017-07-16',\n",
       "  '2017-07-09',\n",
       "  '2017-07-02',\n",
       "  '2017-06-25',\n",
       "  '2017-06-18',\n",
       "  '2017-06-11',\n",
       "  '2017-06-04',\n",
       "  '2017-05-28',\n",
       "  '2017-05-21',\n",
       "  '2017-05-14',\n",
       "  '2017-05-07',\n",
       "  '2017-04-30',\n",
       "  '2017-04-23',\n",
       "  '2017-04-16',\n",
       "  '2017-04-09',\n",
       "  '2017-04-02',\n",
       "  '2017-03-26',\n",
       "  '2017-03-19',\n",
       "  '2017-03-12',\n",
       "  '2017-03-05',\n",
       "  '2017-02-26',\n",
       "  '2017-02-19',\n",
       "  '2017-02-12',\n",
       "  '2017-02-05',\n",
       "  '2017-01-29',\n",
       "  '2017-01-22',\n",
       "  '2017-01-15',\n",
       "  '2017-01-08',\n",
       "  '2017-01-01',\n",
       "  '2018-03-25',\n",
       "  '2018-03-18',\n",
       "  '2018-03-11',\n",
       "  '2018-03-04',\n",
       "  '2018-02-25',\n",
       "  '2018-02-18',\n",
       "  '2018-02-11',\n",
       "  '2018-02-04',\n",
       "  '2018-01-28',\n",
       "  '2018-01-21',\n",
       "  '2018-01-14',\n",
       "  '2018-01-07'],\n",
       " 'type': ['conventional', 'organic']}"
      ]
     },
     "execution_count": 24,
     "metadata": {},
     "output_type": "execute_result"
    }
   ],
   "source": [
    "titles_columns = [\"region\",\"Date\",\"type\"]\n",
    "get_uniques(df,titles_columns)"
   ]
  },
  {
   "cell_type": "code",
   "execution_count": 30,
   "id": "cf3e9492",
   "metadata": {},
   "outputs": [
    {
     "data": {
      "text/plain": [
       "array(['2015-12-27', '2015-12-20', '2015-12-13', '2015-12-06',\n",
       "       '2015-11-29', '2015-11-22', '2015-11-15', '2015-11-08',\n",
       "       '2015-11-01', '2015-10-25', '2015-10-18', '2015-10-11',\n",
       "       '2015-10-04', '2015-09-27', '2015-09-20', '2015-09-13',\n",
       "       '2015-09-06', '2015-08-30', '2015-08-23', '2015-08-16',\n",
       "       '2015-08-09', '2015-08-02', '2015-07-26', '2015-07-19',\n",
       "       '2015-07-12', '2015-07-05', '2015-06-28', '2015-06-21',\n",
       "       '2015-06-14', '2015-06-07', '2015-05-31', '2015-05-24',\n",
       "       '2015-05-17', '2015-05-10', '2015-05-03', '2015-04-26',\n",
       "       '2015-04-19', '2015-04-12', '2015-04-05', '2015-03-29',\n",
       "       '2015-03-22', '2015-03-15', '2015-03-08', '2015-03-01',\n",
       "       '2015-02-22', '2015-02-15', '2015-02-08', '2015-02-01',\n",
       "       '2015-01-25', '2015-01-18', '2015-01-11', '2015-01-04',\n",
       "       '2016-12-25', '2016-12-18', '2016-12-11', '2016-12-04',\n",
       "       '2016-11-27', '2016-11-20', '2016-11-13', '2016-11-06',\n",
       "       '2016-10-30', '2016-10-23', '2016-10-16', '2016-10-09',\n",
       "       '2016-10-02', '2016-09-25', '2016-09-18', '2016-09-11',\n",
       "       '2016-09-04', '2016-08-28', '2016-08-21', '2016-08-14',\n",
       "       '2016-08-07', '2016-07-31', '2016-07-24', '2016-07-17',\n",
       "       '2016-07-10', '2016-07-03', '2016-06-26', '2016-06-19',\n",
       "       '2016-06-12', '2016-06-05', '2016-05-29', '2016-05-22',\n",
       "       '2016-05-15', '2016-05-08', '2016-05-01', '2016-04-24',\n",
       "       '2016-04-17', '2016-04-10', '2016-04-03', '2016-03-27',\n",
       "       '2016-03-20', '2016-03-13', '2016-03-06', '2016-02-28',\n",
       "       '2016-02-21', '2016-02-14', '2016-02-07', '2016-01-31',\n",
       "       '2016-01-24', '2016-01-17', '2016-01-10', '2016-01-03',\n",
       "       '2017-12-31', '2017-12-24', '2017-12-17', '2017-12-10',\n",
       "       '2017-12-03', '2017-11-26', '2017-11-19', '2017-11-12',\n",
       "       '2017-11-05', '2017-10-29', '2017-10-22', '2017-10-15',\n",
       "       '2017-10-08', '2017-10-01', '2017-09-24', '2017-09-17',\n",
       "       '2017-09-10', '2017-09-03', '2017-08-27', '2017-08-20',\n",
       "       '2017-08-13', '2017-08-06', '2017-07-30', '2017-07-23',\n",
       "       '2017-07-16', '2017-07-09', '2017-07-02', '2017-06-25',\n",
       "       '2017-06-18', '2017-06-11', '2017-06-04', '2017-05-28',\n",
       "       '2017-05-21', '2017-05-14', '2017-05-07', '2017-04-30',\n",
       "       '2017-04-23', '2017-04-16', '2017-04-09', '2017-04-02',\n",
       "       '2017-03-26', '2017-03-19', '2017-03-12', '2017-03-05',\n",
       "       '2017-02-26', '2017-02-19', '2017-02-12', '2017-02-05',\n",
       "       '2017-01-29', '2017-01-22', '2017-01-15', '2017-01-08',\n",
       "       '2017-01-01', '2018-03-25', '2018-03-18', '2018-03-11',\n",
       "       '2018-03-04', '2018-02-25', '2018-02-18', '2018-02-11',\n",
       "       '2018-02-04', '2018-01-28', '2018-01-21', '2018-01-14',\n",
       "       '2018-01-07'], dtype=object)"
      ]
     },
     "execution_count": 30,
     "metadata": {},
     "output_type": "execute_result"
    }
   ],
   "source": [
    "df[\"Date\"].unique()"
   ]
  },
  {
   "cell_type": "code",
   "execution_count": 40,
   "id": "b771ab84",
   "metadata": {},
   "outputs": [],
   "source": [
    "def ordinal_encode(df, column, ordering):\n",
    "    df = df.copy()\n",
    "    df[column]=df[column].apply(lambda x: ordering.index(x))\n",
    "    return df\n",
    "def onehot_encode(df, column):\n",
    "    df = df.copy()\n",
    "    df.drop(column, axis=1,inplace=True)\n",
    "    return df"
   ]
  },
  {
   "cell_type": "code",
   "execution_count": 53,
   "id": "83a8b84a",
   "metadata": {},
   "outputs": [],
   "source": [
    "x = df.drop(titles_columns, axis=1)\n",
    "y = df[titles_columns]"
   ]
  },
  {
   "cell_type": "code",
   "execution_count": 56,
   "id": "1cc8db72",
   "metadata": {},
   "outputs": [
    {
     "data": {
      "text/plain": [
       "(18249, 11)"
      ]
     },
     "execution_count": 56,
     "metadata": {},
     "output_type": "execute_result"
    }
   ],
   "source": [
    "x.shape"
   ]
  },
  {
   "cell_type": "code",
   "execution_count": 57,
   "id": "bf9aceba",
   "metadata": {},
   "outputs": [
    {
     "data": {
      "text/plain": [
       "(18249, 3)"
      ]
     },
     "execution_count": 57,
     "metadata": {},
     "output_type": "execute_result"
    }
   ],
   "source": [
    "y.shape"
   ]
  },
  {
   "cell_type": "code",
   "execution_count": 61,
   "id": "c65725d4",
   "metadata": {},
   "outputs": [],
   "source": [
    "x_train, x_test, y_train, y_test = train_test_split(x, y, train_size=0.8)"
   ]
  },
  {
   "cell_type": "code",
   "execution_count": 65,
   "id": "98ab0c8e",
   "metadata": {},
   "outputs": [],
   "source": [
    "sns.set()"
   ]
  },
  {
   "cell_type": "code",
   "execution_count": 66,
   "id": "3ecb472d",
   "metadata": {},
   "outputs": [
    {
     "name": "stderr",
     "output_type": "stream",
     "text": [
      "C:\\Users\\Khiro\\anaconda3\\lib\\site-packages\\seaborn\\_decorators.py:36: FutureWarning: Pass the following variable as a keyword arg: x. From version 0.12, the only valid positional argument will be `data`, and passing other arguments without an explicit keyword will result in an error or misinterpretation.\n",
      "  warnings.warn(\n"
     ]
    },
    {
     "data": {
      "text/plain": [
       "<AxesSubplot:xlabel='Date', ylabel='count'>"
      ]
     },
     "execution_count": 66,
     "metadata": {},
     "output_type": "execute_result"
    },
    {
     "data": {
      "image/png": "[encoded data removed]",
      "text/plain": [
       "<Figure size 432x288 with 1 Axes>"
      ]
     },
     "metadata": {},
     "output_type": "display_data"
    }
   ],
   "source": [
    "sns.countplot('Date',data=df)"
   ]
  },
  {
   "cell_type": "code",
   "execution_count": 67,
   "id": "063600b4",
   "metadata": {},
   "outputs": [
    {
     "name": "stderr",
     "output_type": "stream",
     "text": [
      "C:\\Users\\Khiro\\anaconda3\\lib\\site-packages\\seaborn\\_decorators.py:36: FutureWarning: Pass the following variable as a keyword arg: x. From version 0.12, the only valid positional argument will be `data`, and passing other arguments without an explicit keyword will result in an error or misinterpretation.\n",
      "  warnings.warn(\n"
     ]
    },
    {
     "data": {
      "text/plain": [
       "<AxesSubplot:xlabel='region', ylabel='count'>"
      ]
     },
     "execution_count": 67,
     "metadata": {},
     "output_type": "execute_result"
    },
    {
     "data": {
      "image/png": "[encoded data removed]",
      "text/plain": [
       "<Figure size 432x288 with 1 Axes>"
      ]
     },
     "metadata": {},
     "output_type": "display_data"
    }
   ],
   "source": [
    "sns.countplot('region',data=df)"
   ]
  },
  {
   "cell_type": "code",
   "execution_count": 68,
   "id": "21b3bf4f",
   "metadata": {},
   "outputs": [
    {
     "name": "stderr",
     "output_type": "stream",
     "text": [
      "C:\\Users\\Khiro\\anaconda3\\lib\\site-packages\\seaborn\\_decorators.py:36: FutureWarning: Pass the following variable as a keyword arg: x. From version 0.12, the only valid positional argument will be `data`, and passing other arguments without an explicit keyword will result in an error or misinterpretation.\n",
      "  warnings.warn(\n"
     ]
    },
    {
     "data": {
      "text/plain": [
       "<AxesSubplot:xlabel='type', ylabel='count'>"
      ]
     },
     "execution_count": 68,
     "metadata": {},
     "output_type": "execute_result"
    },
    {
     "data": {
      "image/png": "[encoded data removed]",
      "text/plain": [
       "<Figure size 432x288 with 1 Axes>"
      ]
     },
     "metadata": {},
     "output_type": "display_data"
    }
   ],
   "source": [
    "sns.countplot('type',data=df)"
   ]
  },
  {
   "cell_type": "code",
   "execution_count": null,
   "id": "7f1ba8e0",
   "metadata": {},
   "outputs": [],
   "source": []
  }
 ],
 "metadata": {
  "kernelspec": {
   "display_name": "Python 3",
   "language": "python",
   "name": "python3"
  },
  "language_info": {
   "codemirror_mode": {
    "name": "ipython",
    "version": 3
   },
   "file_extension": ".py",
   "mimetype": "text/x-python",
   "name": "python",
   "nbconvert_exporter": "python",
   "pygments_lexer": "ipython3",
   "version": "3.8.8"
  }
 },
 "nbformat": 4,
 "nbformat_minor": 5
}
