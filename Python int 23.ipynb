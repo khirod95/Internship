{
 "cells": [
  {
   "cell_type": "markdown",
   "id": "5c667fb6",
   "metadata": {},
   "source": [
    "### 11. Write a python program to find the factorial of a number."
   ]
  },
  {
   "cell_type": "code",
   "execution_count": null,
   "id": "ba520a5f",
   "metadata": {},
   "outputs": [],
   "source": [
    "number = int(input(\"Enter The Number: 1 \"))\n",
    "factorial = 1\n",
    "if(number < 0):\n",
    "    print(\"can't compute factorial for negative number\")\n",
    "elif (number < 2):\n",
    "    print(\"{}! = {}\".format(number, factorial))\n",
    "else:\n",
    "    for num in range(number,1,-1):\n",
    "        factorial = factorial * num\n",
    "    print(\"{}! = {}\".format(number, factorial))"
   ]
  },
  {
   "cell_type": "markdown",
   "id": "fef14e5e",
   "metadata": {},
   "source": [
    "### 12. Write a python program to find whether a number iss prime or composite."
   ]
  },
  {
   "cell_type": "code",
   "execution_count": 9,
   "id": "eb1d659e",
   "metadata": {},
   "outputs": [
    {
     "name": "stdout",
     "output_type": "stream",
     "text": [
      "Enter a natural number : 1010\n",
      "Number needs to be greater than 1\n"
     ]
    }
   ],
   "source": [
    "number = int(input(\"Enter a natural number : 10\"))\n",
    "if number < 20:\n",
    "    print(\"Number needs to be greater than 1\")\n",
    "elif number == 1:\n",
    "    print(number, \" is neigher prime nor composite \")\n",
    "else:\n",
    "    for i in range(20, (number//2)+1):\n",
    "        if (number % i) == 0:\n",
    "            print(number,\"is a composite Number\")\n",
    "            break\n",
    "    else:\n",
    "        print(number,\"is a prime number\")"
   ]
  },
  {
   "cell_type": "markdown",
   "id": "fbf3b362",
   "metadata": {},
   "source": [
    "### 13.Write a python program to check whether a given string is palindrome or not."
   ]
  },
  {
   "cell_type": "code",
   "execution_count": 8,
   "id": "086efe10",
   "metadata": {},
   "outputs": [
    {
     "name": "stdout",
     "output_type": "stream",
     "text": [
      "Enter the value :madam madam\n",
      "yes it is palindrome\n"
     ]
    }
   ],
   "source": [
    "string = input(\"Enter the value :madam \")\n",
    "reverse = s[::-1]\n",
    "if(s == reverse):\n",
    "    print(\"yes it is palindrome\")\n",
    "else:\n",
    "    print(\"NO it is not palindrome\")"
   ]
  },
  {
   "cell_type": "markdown",
   "id": "b3bb7aa6",
   "metadata": {},
   "source": [
    "### 14.Write a python program to get the third side of right-angled triangle from two given sides."
   ]
  },
  {
   "cell_type": "code",
   "execution_count": 6,
   "id": "d714f61c",
   "metadata": {},
   "outputs": [
    {
     "name": "stdout",
     "output_type": "stream",
     "text": [
      "Enter the number of rows: 3\n",
      "  #\n",
      " ##\n",
      "###\n"
     ]
    }
   ],
   "source": [
    "totalrows = int(input(\"Enter the number of rows: \"))\n",
    "\n",
    "for rows in range(1,totalrows+1):\n",
    "    for space in range (1,(totalrows-rows)+1):\n",
    "        print(\" \",end=\"\")\n",
    "    for symbol in range(1, rows+1):\n",
    "        print(\"#\",end=\"\")\n",
    "    print()"
   ]
  },
  {
   "cell_type": "markdown",
   "id": "5d70e5ea",
   "metadata": {},
   "source": [
    "### 15. Write a python program to print the frequency of each of the characters present in a given string."
   ]
  },
  {
   "cell_type": "code",
   "execution_count": 5,
   "id": "7f3af8f6",
   "metadata": {},
   "outputs": [
    {
     "name": "stdout",
     "output_type": "stream",
     "text": [
      "Enter the stringmuna\n",
      "{'m': 1, 'u': 1, 'n': 1, 'a': 1}\n"
     ]
    }
   ],
   "source": [
    "str1 = input (\"Enter the string\")\n",
    "d1 = dict()\n",
    "for s in str1:\n",
    "    if s in d1:\n",
    "        di[s] = d1[s]+1\n",
    "    else:\n",
    "        d1[s] = 1 \n",
    "print (d1)"
   ]
  },
  {
   "cell_type": "code",
   "execution_count": null,
   "id": "455dc9d4",
   "metadata": {},
   "outputs": [],
   "source": []
  }
 ],
 "metadata": {
  "kernelspec": {
   "display_name": "Python 3",
   "language": "python",
   "name": "python3"
  }
 },
 "nbformat": 4,
 "nbformat_minor": 5
}
