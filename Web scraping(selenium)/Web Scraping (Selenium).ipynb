{
 "cells": [
  {
   "cell_type": "markdown",
   "id": "954db15f",
   "metadata": {},
   "source": [
    "#### Q1: Write a python program to scrape data for “Data Analyst” Job position in “Bangalore” location. You   have to scrape the job-title, job-location, company_name, experience_required. You have to scrape first 10 jobs data.\n",
    "This task will be done in following steps:\n",
    "1. \tFirst get the webpage https://www.naukri.com/\n",
    "2.\tEnter “Data Analyst” in “Skill, Designations, Companies” field and enter “Bangalore” in “enter the\n",
    "location” field.\n",
    "3.\tThen click the search button.\n",
    "4.\tThen scrape the data for the first 10 jobs results you get.\n",
    "5.\tFinally create a dataframe of the scraped data.\n"
   ]
  },
  {
   "cell_type": "code",
   "execution_count": 2,
   "id": "1bc5738a",
   "metadata": {},
   "outputs": [
    {
     "name": "stdout",
     "output_type": "stream",
     "text": [
      "Requirement already satisfied: selenium in c:\\users\\khiro\\anaconda3\\lib\\site-packages (4.1.0)\n",
      "Requirement already satisfied: trio-websocket~=0.9 in c:\\users\\khiro\\anaconda3\\lib\\site-packages (from selenium) (0.9.2)\n",
      "Requirement already satisfied: trio~=0.17 in c:\\users\\khiro\\anaconda3\\lib\\site-packages (from selenium) (0.19.0)\n",
      "Requirement already satisfied: urllib3[secure]~=1.26 in c:\\users\\khiro\\anaconda3\\lib\\site-packages (from selenium) (1.26.4)\n",
      "Requirement already satisfied: sortedcontainers in c:\\users\\khiro\\anaconda3\\lib\\site-packages (from trio~=0.17->selenium) (2.3.0)\n",
      "Requirement already satisfied: async-generator>=1.9 in c:\\users\\khiro\\anaconda3\\lib\\site-packages (from trio~=0.17->selenium) (1.10)\n",
      "Requirement already satisfied: cffi>=1.14 in c:\\users\\khiro\\anaconda3\\lib\\site-packages (from trio~=0.17->selenium) (1.14.5)\n",
      "Requirement already satisfied: attrs>=19.2.0 in c:\\users\\khiro\\anaconda3\\lib\\site-packages (from trio~=0.17->selenium) (20.3.0)\n",
      "Requirement already satisfied: sniffio in c:\\users\\khiro\\anaconda3\\lib\\site-packages (from trio~=0.17->selenium) (1.2.0)\n",
      "Requirement already satisfied: outcome in c:\\users\\khiro\\anaconda3\\lib\\site-packages (from trio~=0.17->selenium) (1.1.0)\n",
      "Requirement already satisfied: idna in c:\\users\\khiro\\anaconda3\\lib\\site-packages (from trio~=0.17->selenium) (2.10)\n",
      "Requirement already satisfied: pycparser in c:\\users\\khiro\\anaconda3\\lib\\site-packages (from cffi>=1.14->trio~=0.17->selenium) (2.20)\n",
      "Requirement already satisfied: wsproto>=0.14 in c:\\users\\khiro\\anaconda3\\lib\\site-packages (from trio-websocket~=0.9->selenium) (1.0.0)\n",
      "Requirement already satisfied: cryptography>=1.3.4 in c:\\users\\khiro\\anaconda3\\lib\\site-packages (from urllib3[secure]~=1.26->selenium) (3.4.7)\n",
      "Requirement already satisfied: pyOpenSSL>=0.14 in c:\\users\\khiro\\anaconda3\\lib\\site-packages (from urllib3[secure]~=1.26->selenium) (20.0.1)\n",
      "Requirement already satisfied: certifi in c:\\users\\khiro\\anaconda3\\lib\\site-packages (from urllib3[secure]~=1.26->selenium) (2020.12.5)\n",
      "Requirement already satisfied: six>=1.5.2 in c:\\users\\khiro\\anaconda3\\lib\\site-packages (from pyOpenSSL>=0.14->urllib3[secure]~=1.26->selenium) (1.15.0)\n",
      "Requirement already satisfied: h11<1,>=0.9.0 in c:\\users\\khiro\\anaconda3\\lib\\site-packages (from wsproto>=0.14->trio-websocket~=0.9->selenium) (0.12.0)\n"
     ]
    }
   ],
   "source": [
    "!pip install selenium"
   ]
  },
  {
   "cell_type": "code",
   "execution_count": 3,
   "id": "339931c8",
   "metadata": {},
   "outputs": [],
   "source": [
    "import selenium\n",
    "from selenium import webdriver\n",
    "import pandas as pd \n",
    "import warnings\n",
    "warnings.filterwarnings(\"ignore\")"
   ]
  },
  {
   "cell_type": "code",
   "execution_count": 116,
   "id": "1c697780",
   "metadata": {},
   "outputs": [],
   "source": [
    "driver = webdriver.Chrome(r'C:\\Users\\Khiro\\Downloads\\chromedriver_win32\\chromedriver')"
   ]
  },
  {
   "cell_type": "code",
   "execution_count": 117,
   "id": "fa7cc413",
   "metadata": {},
   "outputs": [],
   "source": [
    "driver = webdriver.Chrome('chromedriver')"
   ]
  },
  {
   "cell_type": "code",
   "execution_count": 118,
   "id": "fb84fcb0",
   "metadata": {},
   "outputs": [],
   "source": [
    "url = 'https://www.naukri.com/'\n",
    "driver.get(url)"
   ]
  },
  {
   "cell_type": "code",
   "execution_count": 119,
   "id": "16096418",
   "metadata": {},
   "outputs": [
    {
     "data": {
      "text/plain": [
       "<selenium.webdriver.remote.webelement.WebElement (session=\"93f4aa43c1bef5e56eb6fe4785c78f98\", element=\"5044a8ed-6a96-443b-9902-f5268cfa45a3\")>"
      ]
     },
     "execution_count": 119,
     "metadata": {},
     "output_type": "execute_result"
    }
   ],
   "source": [
    "search_job = driver.find_element_by_id(\"qsb-keyword-sugg\")\n",
    "search_job"
   ]
  },
  {
   "cell_type": "code",
   "execution_count": 120,
   "id": "95afdcd7",
   "metadata": {},
   "outputs": [],
   "source": [
    "search_job.send_keys(\"Data Analyst\")"
   ]
  },
  {
   "cell_type": "code",
   "execution_count": 121,
   "id": "9ffce151",
   "metadata": {},
   "outputs": [
    {
     "data": {
      "text/plain": [
       "<selenium.webdriver.remote.webelement.WebElement (session=\"93f4aa43c1bef5e56eb6fe4785c78f98\", element=\"61889751-5358-469c-b225-6ffc737274cf\")>"
      ]
     },
     "execution_count": 121,
     "metadata": {},
     "output_type": "execute_result"
    }
   ],
   "source": [
    "search_locn = driver.find_element_by_xpath('/html/body/div[1]/div[3]/div[2]/section/div/form/div[2]/div/div/div/div[1]/div[2]/input')\n",
    "search_locn"
   ]
  },
  {
   "cell_type": "code",
   "execution_count": 122,
   "id": "f4a23e4c",
   "metadata": {},
   "outputs": [],
   "source": [
    "search_locn.send_keys(\"Bangalore\")"
   ]
  },
  {
   "cell_type": "code",
   "execution_count": 123,
   "id": "54247fcb",
   "metadata": {},
   "outputs": [
    {
     "data": {
      "text/plain": [
       "<selenium.webdriver.remote.webelement.WebElement (session=\"93f4aa43c1bef5e56eb6fe4785c78f98\", element=\"fc175405-d30d-4233-bfe8-53ba86a21808\")>"
      ]
     },
     "execution_count": 123,
     "metadata": {},
     "output_type": "execute_result"
    }
   ],
   "source": [
    "search_btn = driver.find_element_by_xpath('/html/body/div[1]/div[3]/div[2]/section/div/form/div[3]/button')\n",
    "search_btn"
   ]
  },
  {
   "cell_type": "code",
   "execution_count": 124,
   "id": "b05d3d38",
   "metadata": {},
   "outputs": [],
   "source": [
    "search_btn.click()"
   ]
  },
  {
   "cell_type": "markdown",
   "id": "31d28572",
   "metadata": {},
   "source": [
    "### Extracting job titles"
   ]
  },
  {
   "cell_type": "code",
   "execution_count": 91,
   "id": "6a2ac146",
   "metadata": {},
   "outputs": [
    {
     "data": {
      "text/plain": [
       "[<selenium.webdriver.remote.webelement.WebElement (session=\"2bcead9d227384e5ed9bb85feec670c5\", element=\"773aaafa-1f8f-4b2e-b354-0537f32bd609\")>,\n",
       " <selenium.webdriver.remote.webelement.WebElement (session=\"2bcead9d227384e5ed9bb85feec670c5\", element=\"31ca2237-6d68-4c65-908d-abde41210dd8\")>,\n",
       " <selenium.webdriver.remote.webelement.WebElement (session=\"2bcead9d227384e5ed9bb85feec670c5\", element=\"fd8aacf8-a93c-4960-9d39-0276c84976cd\")>,\n",
       " <selenium.webdriver.remote.webelement.WebElement (session=\"2bcead9d227384e5ed9bb85feec670c5\", element=\"7a36eae5-c4ed-417c-b78c-dc0cd20d0889\")>,\n",
       " <selenium.webdriver.remote.webelement.WebElement (session=\"2bcead9d227384e5ed9bb85feec670c5\", element=\"ef6d95e5-a6cc-4e4d-9f60-c68f9255b45a\")>,\n",
       " <selenium.webdriver.remote.webelement.WebElement (session=\"2bcead9d227384e5ed9bb85feec670c5\", element=\"5ec0f44c-60ad-44bc-baf5-e43b96f49ec5\")>,\n",
       " <selenium.webdriver.remote.webelement.WebElement (session=\"2bcead9d227384e5ed9bb85feec670c5\", element=\"f3a4e709-f6d1-418a-8672-31be6534ada0\")>,\n",
       " <selenium.webdriver.remote.webelement.WebElement (session=\"2bcead9d227384e5ed9bb85feec670c5\", element=\"a58fc8e8-d120-4a1c-ab9a-43797a379b04\")>,\n",
       " <selenium.webdriver.remote.webelement.WebElement (session=\"2bcead9d227384e5ed9bb85feec670c5\", element=\"7ff45045-f13a-4e43-ae14-9e5f0fb9a14b\")>,\n",
       " <selenium.webdriver.remote.webelement.WebElement (session=\"2bcead9d227384e5ed9bb85feec670c5\", element=\"b73687f2-642d-4ac6-a2f3-c87cde9efe21\")>]"
      ]
     },
     "execution_count": 91,
     "metadata": {},
     "output_type": "execute_result"
    }
   ],
   "source": [
    "title_tags = driver.find_elements_by_xpath('//a[@class=\"title fw500 ellipsis\"]')\n",
    "len(title_tags)\n",
    "title_tags[0:10]"
   ]
  },
  {
   "cell_type": "code",
   "execution_count": 92,
   "id": "a6cd95d2",
   "metadata": {},
   "outputs": [
    {
     "data": {
      "text/plain": [
       "['Lead - Data Analyst / Scientist',\n",
       " 'Senior Data Analyst',\n",
       " 'Data Analyst',\n",
       " 'BUSINESS ANALYST -DATA SCIENCE-CONSUMER',\n",
       " 'Data Analyst',\n",
       " 'Senior Data Analyst - Supporting Audits',\n",
       " 'Data Analyst',\n",
       " 'Senior Data Analyst',\n",
       " 'Senior Data Analyst',\n",
       " 'Data Analyst']"
      ]
     },
     "execution_count": 92,
     "metadata": {},
     "output_type": "execute_result"
    }
   ],
   "source": [
    "job_titles = []\n",
    "for i in title_tags:\n",
    "    job_titles.append(i.text)\n",
    "len(job_titles)\n",
    "job_titles[0:10]"
   ]
  },
  {
   "cell_type": "markdown",
   "id": "c66802b9",
   "metadata": {},
   "source": [
    "### Extracting company location"
   ]
  },
  {
   "cell_type": "code",
   "execution_count": 93,
   "id": "45325d92",
   "metadata": {},
   "outputs": [
    {
     "data": {
      "text/plain": [
       "[<selenium.webdriver.remote.webelement.WebElement (session=\"2bcead9d227384e5ed9bb85feec670c5\", element=\"28fd80c5-edf6-4063-9705-c2d0348980ca\")>,\n",
       " <selenium.webdriver.remote.webelement.WebElement (session=\"2bcead9d227384e5ed9bb85feec670c5\", element=\"f22ea1c8-4e17-4726-a94c-742c63181bae\")>,\n",
       " <selenium.webdriver.remote.webelement.WebElement (session=\"2bcead9d227384e5ed9bb85feec670c5\", element=\"cf6fb820-83eb-4bf8-9b61-47ff7523f88e\")>,\n",
       " <selenium.webdriver.remote.webelement.WebElement (session=\"2bcead9d227384e5ed9bb85feec670c5\", element=\"0eb835d1-bcc4-480f-86e1-bcbff85d8474\")>,\n",
       " <selenium.webdriver.remote.webelement.WebElement (session=\"2bcead9d227384e5ed9bb85feec670c5\", element=\"6202c9f7-797c-4ca2-9334-c9477be6cb93\")>,\n",
       " <selenium.webdriver.remote.webelement.WebElement (session=\"2bcead9d227384e5ed9bb85feec670c5\", element=\"531655ff-b664-4a38-8769-55751d834308\")>,\n",
       " <selenium.webdriver.remote.webelement.WebElement (session=\"2bcead9d227384e5ed9bb85feec670c5\", element=\"6187d96b-6408-4772-b736-7c831924a2b5\")>,\n",
       " <selenium.webdriver.remote.webelement.WebElement (session=\"2bcead9d227384e5ed9bb85feec670c5\", element=\"b3149d66-4ac2-494a-a00a-c6e12b839f2e\")>,\n",
       " <selenium.webdriver.remote.webelement.WebElement (session=\"2bcead9d227384e5ed9bb85feec670c5\", element=\"c9b831dd-3e0f-45d0-9e7c-6d5b53d9d01f\")>,\n",
       " <selenium.webdriver.remote.webelement.WebElement (session=\"2bcead9d227384e5ed9bb85feec670c5\", element=\"0af0ee8f-7fe5-41de-a709-6fbe4609d716\")>]"
      ]
     },
     "execution_count": 93,
     "metadata": {},
     "output_type": "execute_result"
    }
   ],
   "source": [
    "locn_tags = driver.find_elements_by_xpath('//li[@class=\"fleft grey-text br2 placeHolderLi location\"]')\n",
    "len(locn_tags)\n",
    "locn_tags[0:10]"
   ]
  },
  {
   "cell_type": "code",
   "execution_count": 94,
   "id": "3ad589c6",
   "metadata": {},
   "outputs": [
    {
     "data": {
      "text/plain": [
       "['Bangalore/Bengaluru',\n",
       " 'Bangalore/Bengaluru',\n",
       " 'Bangalore/Bengaluru',\n",
       " 'Bangalore/Bengaluru',\n",
       " 'Bangalore/Bengaluru',\n",
       " 'Bangalore/Bengaluru',\n",
       " 'Bengaluru/Bangalore',\n",
       " 'Bangalore/Bengaluru',\n",
       " 'Bangalore/Bengaluru',\n",
       " 'Bangalore/Bengaluru']"
      ]
     },
     "execution_count": 94,
     "metadata": {},
     "output_type": "execute_result"
    }
   ],
   "source": [
    "location = []\n",
    "\n",
    "for i in locn_tags:\n",
    "    location.append(i.text)\n",
    "location[0:10]"
   ]
  },
  {
   "cell_type": "markdown",
   "id": "6a49f412",
   "metadata": {},
   "source": [
    "### Extracting company name"
   ]
  },
  {
   "cell_type": "code",
   "execution_count": 95,
   "id": "9ef5e542",
   "metadata": {},
   "outputs": [
    {
     "data": {
      "text/plain": [
       "[<selenium.webdriver.remote.webelement.WebElement (session=\"2bcead9d227384e5ed9bb85feec670c5\", element=\"14bf560e-9c9a-417e-aca9-fbf43d360feb\")>,\n",
       " <selenium.webdriver.remote.webelement.WebElement (session=\"2bcead9d227384e5ed9bb85feec670c5\", element=\"dc428102-02e2-4824-8130-52d73887a4e2\")>,\n",
       " <selenium.webdriver.remote.webelement.WebElement (session=\"2bcead9d227384e5ed9bb85feec670c5\", element=\"d906c15d-f61c-4c64-ade6-e6320a3aa122\")>,\n",
       " <selenium.webdriver.remote.webelement.WebElement (session=\"2bcead9d227384e5ed9bb85feec670c5\", element=\"705952a6-d8dd-4e12-8704-e66bf1cccb34\")>,\n",
       " <selenium.webdriver.remote.webelement.WebElement (session=\"2bcead9d227384e5ed9bb85feec670c5\", element=\"651d2827-1fc3-4f02-9ff5-557cec8538c3\")>,\n",
       " <selenium.webdriver.remote.webelement.WebElement (session=\"2bcead9d227384e5ed9bb85feec670c5\", element=\"a1a3269a-c3a8-4d81-852c-a073b57b9686\")>,\n",
       " <selenium.webdriver.remote.webelement.WebElement (session=\"2bcead9d227384e5ed9bb85feec670c5\", element=\"34813742-1e2b-4135-9ae0-aab9e94abc8e\")>,\n",
       " <selenium.webdriver.remote.webelement.WebElement (session=\"2bcead9d227384e5ed9bb85feec670c5\", element=\"e559f6d5-70cd-468d-9ed1-f0a5b6f0bb99\")>,\n",
       " <selenium.webdriver.remote.webelement.WebElement (session=\"2bcead9d227384e5ed9bb85feec670c5\", element=\"8885fa1e-0a26-43dc-a8ac-e56f282ffc45\")>,\n",
       " <selenium.webdriver.remote.webelement.WebElement (session=\"2bcead9d227384e5ed9bb85feec670c5\", element=\"4380e1ea-2947-4baf-aa0b-21ee92530518\")>]"
      ]
     },
     "execution_count": 95,
     "metadata": {},
     "output_type": "execute_result"
    }
   ],
   "source": [
    "company_tags = driver.find_elements_by_xpath('//a[@class=\"subTitle ellipsis fleft\"]')\n",
    "company_tags[0:10]"
   ]
  },
  {
   "cell_type": "code",
   "execution_count": 96,
   "id": "1bab5bb8",
   "metadata": {},
   "outputs": [
    {
     "data": {
      "text/plain": [
       "['Axim Technologies',\n",
       " 'Schneider Electric',\n",
       " 'Snaphunt',\n",
       " 'BRIDGEi2i Analytics Solutions Private Limited',\n",
       " 'Jeeva Organic',\n",
       " 'Visa',\n",
       " 'Flipkart',\n",
       " 'Glance',\n",
       " 'Glance IT Solution',\n",
       " 'Novel Office']"
      ]
     },
     "execution_count": 96,
     "metadata": {},
     "output_type": "execute_result"
    }
   ],
   "source": [
    "company_names = []\n",
    "\n",
    "for i in company_tags:\n",
    "    company_names.append(i.text)\n",
    "len(company_names)\n",
    "company_names[0:10]"
   ]
  },
  {
   "cell_type": "markdown",
   "id": "ff34508d",
   "metadata": {},
   "source": [
    "### Extracting company experience"
   ]
  },
  {
   "cell_type": "code",
   "execution_count": 97,
   "id": "13d4b291",
   "metadata": {},
   "outputs": [
    {
     "data": {
      "text/plain": [
       "[<selenium.webdriver.remote.webelement.WebElement (session=\"2bcead9d227384e5ed9bb85feec670c5\", element=\"ad43acc4-71ee-4c09-8a22-ac588b8bd655\")>,\n",
       " <selenium.webdriver.remote.webelement.WebElement (session=\"2bcead9d227384e5ed9bb85feec670c5\", element=\"33a19abf-42f7-4c05-9ec9-f5451b14565b\")>,\n",
       " <selenium.webdriver.remote.webelement.WebElement (session=\"2bcead9d227384e5ed9bb85feec670c5\", element=\"871a1f62-ee38-4f60-b269-e9807d8b8856\")>,\n",
       " <selenium.webdriver.remote.webelement.WebElement (session=\"2bcead9d227384e5ed9bb85feec670c5\", element=\"b23b58d3-aa25-40f6-8891-68ce58733dcf\")>,\n",
       " <selenium.webdriver.remote.webelement.WebElement (session=\"2bcead9d227384e5ed9bb85feec670c5\", element=\"ef75131d-e7d8-4d16-bae7-7305a3168ebf\")>,\n",
       " <selenium.webdriver.remote.webelement.WebElement (session=\"2bcead9d227384e5ed9bb85feec670c5\", element=\"ec4d3ba8-f15a-4307-88d7-171b8a38626f\")>,\n",
       " <selenium.webdriver.remote.webelement.WebElement (session=\"2bcead9d227384e5ed9bb85feec670c5\", element=\"e679b57f-e55b-4549-b3a9-c78b49af1a68\")>,\n",
       " <selenium.webdriver.remote.webelement.WebElement (session=\"2bcead9d227384e5ed9bb85feec670c5\", element=\"39e815c3-640e-46cb-99d8-ee92b2feb4ab\")>,\n",
       " <selenium.webdriver.remote.webelement.WebElement (session=\"2bcead9d227384e5ed9bb85feec670c5\", element=\"0a909fe9-00b2-4eee-8a3f-9cc5ad093acf\")>,\n",
       " <selenium.webdriver.remote.webelement.WebElement (session=\"2bcead9d227384e5ed9bb85feec670c5\", element=\"1492edc1-54f5-4d1e-ae05-e3c2bf4e8dfe\")>]"
      ]
     },
     "execution_count": 97,
     "metadata": {},
     "output_type": "execute_result"
    }
   ],
   "source": [
    "exp_tags = driver.find_elements_by_xpath('//li[@class=\"fleft grey-text br2 placeHolderLi experience\"]')\n",
    "len(exp_tags)\n",
    "exp_tags[0:10]"
   ]
  },
  {
   "cell_type": "code",
   "execution_count": 98,
   "id": "942d5a9f",
   "metadata": {},
   "outputs": [
    {
     "data": {
      "text/plain": [
       "['12-14 Yrs',\n",
       " '0-2 Yrs',\n",
       " '0-2 Yrs',\n",
       " '0-2 Yrs',\n",
       " '3-8 Yrs',\n",
       " '5-8 Yrs',\n",
       " '1-2 Yrs',\n",
       " '1-6 Yrs',\n",
       " '1-6 Yrs',\n",
       " '0-3 Yrs']"
      ]
     },
     "execution_count": 98,
     "metadata": {},
     "output_type": "execute_result"
    }
   ],
   "source": [
    "experience = []\n",
    "\n",
    "for i in exp_tags:\n",
    "    experience.append(i.text)\n",
    "len(experience)\n",
    "experience[0:10]"
   ]
  },
  {
   "cell_type": "code",
   "execution_count": 101,
   "id": "8dc2eabf",
   "metadata": {},
   "outputs": [
    {
     "data": {
      "text/plain": [
       "(20, 20, 20, 20)"
      ]
     },
     "execution_count": 101,
     "metadata": {},
     "output_type": "execute_result"
    }
   ],
   "source": [
    "len(job_titles),len(location),len(company_names),len(experience)"
   ]
  },
  {
   "cell_type": "code",
   "execution_count": 102,
   "id": "78d4438d",
   "metadata": {},
   "outputs": [
    {
     "data": {
      "text/html": [
       "<div>\n",
       "<style scoped>\n",
       "    .dataframe tbody tr th:only-of-type {\n",
       "        vertical-align: middle;\n",
       "    }\n",
       "\n",
       "    .dataframe tbody tr th {\n",
       "        vertical-align: top;\n",
       "    }\n",
       "\n",
       "    .dataframe thead th {\n",
       "        text-align: right;\n",
       "    }\n",
       "</style>\n",
       "<table border=\"1\" class=\"dataframe\">\n",
       "  <thead>\n",
       "    <tr style=\"text-align: right;\">\n",
       "      <th></th>\n",
       "      <th>Job Title</th>\n",
       "      <th>Location</th>\n",
       "      <th>Company Name</th>\n",
       "      <th>Experience</th>\n",
       "    </tr>\n",
       "  </thead>\n",
       "  <tbody>\n",
       "    <tr>\n",
       "      <th>0</th>\n",
       "      <td>Lead - Data Analyst / Scientist</td>\n",
       "      <td>Bangalore/Bengaluru</td>\n",
       "      <td>Axim Technologies</td>\n",
       "      <td>12-14 Yrs</td>\n",
       "    </tr>\n",
       "    <tr>\n",
       "      <th>1</th>\n",
       "      <td>Senior Data Analyst</td>\n",
       "      <td>Bangalore/Bengaluru</td>\n",
       "      <td>Schneider Electric</td>\n",
       "      <td>0-2 Yrs</td>\n",
       "    </tr>\n",
       "    <tr>\n",
       "      <th>2</th>\n",
       "      <td>Data Analyst</td>\n",
       "      <td>Bangalore/Bengaluru</td>\n",
       "      <td>Snaphunt</td>\n",
       "      <td>0-2 Yrs</td>\n",
       "    </tr>\n",
       "    <tr>\n",
       "      <th>3</th>\n",
       "      <td>BUSINESS ANALYST -DATA SCIENCE-CONSUMER</td>\n",
       "      <td>Bangalore/Bengaluru</td>\n",
       "      <td>BRIDGEi2i Analytics Solutions Private Limited</td>\n",
       "      <td>0-2 Yrs</td>\n",
       "    </tr>\n",
       "    <tr>\n",
       "      <th>4</th>\n",
       "      <td>Data Analyst</td>\n",
       "      <td>Bangalore/Bengaluru</td>\n",
       "      <td>Jeeva Organic</td>\n",
       "      <td>3-8 Yrs</td>\n",
       "    </tr>\n",
       "    <tr>\n",
       "      <th>5</th>\n",
       "      <td>Senior Data Analyst - Supporting Audits</td>\n",
       "      <td>Bangalore/Bengaluru</td>\n",
       "      <td>Visa</td>\n",
       "      <td>5-8 Yrs</td>\n",
       "    </tr>\n",
       "    <tr>\n",
       "      <th>6</th>\n",
       "      <td>Data Analyst</td>\n",
       "      <td>Bengaluru/Bangalore</td>\n",
       "      <td>Flipkart</td>\n",
       "      <td>1-2 Yrs</td>\n",
       "    </tr>\n",
       "    <tr>\n",
       "      <th>7</th>\n",
       "      <td>Senior Data Analyst</td>\n",
       "      <td>Bangalore/Bengaluru</td>\n",
       "      <td>Glance</td>\n",
       "      <td>1-6 Yrs</td>\n",
       "    </tr>\n",
       "    <tr>\n",
       "      <th>8</th>\n",
       "      <td>Senior Data Analyst</td>\n",
       "      <td>Bangalore/Bengaluru</td>\n",
       "      <td>Glance IT Solution</td>\n",
       "      <td>1-6 Yrs</td>\n",
       "    </tr>\n",
       "    <tr>\n",
       "      <th>9</th>\n",
       "      <td>Data Analyst</td>\n",
       "      <td>Bangalore/Bengaluru</td>\n",
       "      <td>Novel Office</td>\n",
       "      <td>0-3 Yrs</td>\n",
       "    </tr>\n",
       "  </tbody>\n",
       "</table>\n",
       "</div>"
      ],
      "text/plain": [
       "                                 Job Title             Location  \\\n",
       "0          Lead - Data Analyst / Scientist  Bangalore/Bengaluru   \n",
       "1                      Senior Data Analyst  Bangalore/Bengaluru   \n",
       "2                             Data Analyst  Bangalore/Bengaluru   \n",
       "3  BUSINESS ANALYST -DATA SCIENCE-CONSUMER  Bangalore/Bengaluru   \n",
       "4                             Data Analyst  Bangalore/Bengaluru   \n",
       "5  Senior Data Analyst - Supporting Audits  Bangalore/Bengaluru   \n",
       "6                             Data Analyst  Bengaluru/Bangalore   \n",
       "7                      Senior Data Analyst  Bangalore/Bengaluru   \n",
       "8                      Senior Data Analyst  Bangalore/Bengaluru   \n",
       "9                             Data Analyst  Bangalore/Bengaluru   \n",
       "\n",
       "                                    Company Name Experience  \n",
       "0                              Axim Technologies  12-14 Yrs  \n",
       "1                             Schneider Electric    0-2 Yrs  \n",
       "2                                       Snaphunt    0-2 Yrs  \n",
       "3  BRIDGEi2i Analytics Solutions Private Limited    0-2 Yrs  \n",
       "4                                  Jeeva Organic    3-8 Yrs  \n",
       "5                                           Visa    5-8 Yrs  \n",
       "6                                       Flipkart    1-2 Yrs  \n",
       "7                                         Glance    1-6 Yrs  \n",
       "8                             Glance IT Solution    1-6 Yrs  \n",
       "9                                   Novel Office    0-3 Yrs  "
      ]
     },
     "execution_count": 102,
     "metadata": {},
     "output_type": "execute_result"
    }
   ],
   "source": [
    "jobs = pd.DataFrame({})\n",
    "jobs['Job Title'] = job_titles[:10]\n",
    "jobs['Location'] = location[:10]\n",
    "jobs['Company Name'] = company_names[:10]\n",
    "jobs['Experience'] = experience[:10]\n",
    "jobs"
   ]
  },
  {
   "cell_type": "code",
   "execution_count": null,
   "id": "4b5a1c5c",
   "metadata": {},
   "outputs": [],
   "source": []
  },
  {
   "cell_type": "markdown",
   "id": "d6bc287d",
   "metadata": {},
   "source": [
    "#### Q2: Write a python program to scrape data for “Data Scientist” Job position in “Bangalore” location. You have to scrape the job-title, job-location, company_name. You have to scrape first 10 jobs data.\n",
    "This task will be done in following steps:\n",
    "1.\tFirst get the webpage https://www.naukri.com/\n",
    "2.\tEnter “Data Scientist” in “Skill, Designations, Companies” field and enter “Bangalore” in “enter the\n",
    "location” field.\n",
    "3.\tThen click the search button.\n",
    "4.\tThen scrape the data for the first 10 jobs results you get.\n",
    "5.\tFinally create a dataframe of the scraped data.\n"
   ]
  },
  {
   "cell_type": "code",
   "execution_count": 164,
   "id": "53f8ce6e",
   "metadata": {},
   "outputs": [],
   "source": [
    "import selenium\n",
    "from selenium import webdriver\n",
    "import pandas as pd \n",
    "import warnings\n",
    "warnings.filterwarnings(\"ignore\")"
   ]
  },
  {
   "cell_type": "code",
   "execution_count": 166,
   "id": "aedff62c",
   "metadata": {},
   "outputs": [],
   "source": [
    "driver = webdriver.Chrome(r'C:\\Users\\Khiro\\Downloads\\chromedriver_win32\\chromedriver')"
   ]
  },
  {
   "cell_type": "code",
   "execution_count": 167,
   "id": "c4f73687",
   "metadata": {},
   "outputs": [],
   "source": [
    "driver = webdriver.Chrome('chromedriver')"
   ]
  },
  {
   "cell_type": "code",
   "execution_count": 168,
   "id": "0d24b7eb",
   "metadata": {},
   "outputs": [],
   "source": [
    "url = 'https://www.naukri.com/'\n",
    "driver.get(url)"
   ]
  },
  {
   "cell_type": "code",
   "execution_count": 169,
   "id": "f9fdfd46",
   "metadata": {},
   "outputs": [
    {
     "data": {
      "text/plain": [
       "[<selenium.webdriver.remote.webelement.WebElement (session=\"bd3337c9433943f997a1de9645af62af\", element=\"31954530-8ad2-49cb-a079-4842daf054c6\")>]"
      ]
     },
     "execution_count": 169,
     "metadata": {},
     "output_type": "execute_result"
    }
   ],
   "source": [
    "search_job = driver.find_elements_by_id('qsb-keyword-sugg')\n",
    "search_job"
   ]
  },
  {
   "cell_type": "code",
   "execution_count": 171,
   "id": "ec528d15",
   "metadata": {},
   "outputs": [
    {
     "ename": "AttributeError",
     "evalue": "'list' object has no attribute 'send_keys'",
     "output_type": "error",
     "traceback": [
      "\u001b[1;31m---------------------------------------------------------------------------\u001b[0m",
      "\u001b[1;31mAttributeError\u001b[0m                            Traceback (most recent call last)",
      "\u001b[1;32m<ipython-input-171-d00f62c18558>\u001b[0m in \u001b[0;36m<module>\u001b[1;34m\u001b[0m\n\u001b[1;32m----> 1\u001b[1;33m \u001b[0msearch_job\u001b[0m\u001b[1;33m.\u001b[0m\u001b[0msend_keys\u001b[0m\u001b[1;33m(\u001b[0m\u001b[1;34m\"Data Scientist\"\u001b[0m\u001b[1;33m)\u001b[0m\u001b[1;33m\u001b[0m\u001b[1;33m\u001b[0m\u001b[0m\n\u001b[0m",
      "\u001b[1;31mAttributeError\u001b[0m: 'list' object has no attribute 'send_keys'"
     ]
    }
   ],
   "source": [
    "search_job.send_keys(\"Data Scientist\")"
   ]
  },
  {
   "cell_type": "markdown",
   "id": "ba9ee1e9",
   "metadata": {},
   "source": [
    "### Extracting job titles"
   ]
  },
  {
   "cell_type": "code",
   "execution_count": 172,
   "id": "5c588a07",
   "metadata": {},
   "outputs": [
    {
     "data": {
      "text/plain": [
       "[<selenium.webdriver.remote.webelement.WebElement (session=\"bd3337c9433943f997a1de9645af62af\", element=\"c5aa72a9-1cd3-4c9b-9d54-df08c4463770\")>,\n",
       " <selenium.webdriver.remote.webelement.WebElement (session=\"bd3337c9433943f997a1de9645af62af\", element=\"c8e0c866-9758-4e0f-a1e2-88e4f3e947f3\")>,\n",
       " <selenium.webdriver.remote.webelement.WebElement (session=\"bd3337c9433943f997a1de9645af62af\", element=\"8eaa42d4-fb29-4d7f-a0d9-95f72d0f4c66\")>,\n",
       " <selenium.webdriver.remote.webelement.WebElement (session=\"bd3337c9433943f997a1de9645af62af\", element=\"a06f5874-15c2-4f10-afe4-bf295468c085\")>,\n",
       " <selenium.webdriver.remote.webelement.WebElement (session=\"bd3337c9433943f997a1de9645af62af\", element=\"0ac549a1-46c2-4cb4-a786-0b23518fba24\")>,\n",
       " <selenium.webdriver.remote.webelement.WebElement (session=\"bd3337c9433943f997a1de9645af62af\", element=\"ffd2fd3e-fa74-4f16-8125-22c174953b66\")>,\n",
       " <selenium.webdriver.remote.webelement.WebElement (session=\"bd3337c9433943f997a1de9645af62af\", element=\"69134115-6931-44db-88ee-5f3f5d3cd938\")>,\n",
       " <selenium.webdriver.remote.webelement.WebElement (session=\"bd3337c9433943f997a1de9645af62af\", element=\"16b02d4c-812b-4d07-a809-f4565d496427\")>,\n",
       " <selenium.webdriver.remote.webelement.WebElement (session=\"bd3337c9433943f997a1de9645af62af\", element=\"41775828-40a2-4133-90ba-eb7e69273f49\")>,\n",
       " <selenium.webdriver.remote.webelement.WebElement (session=\"bd3337c9433943f997a1de9645af62af\", element=\"22620116-795b-41b3-8b53-4a541de76572\")>]"
      ]
     },
     "execution_count": 172,
     "metadata": {},
     "output_type": "execute_result"
    }
   ],
   "source": [
    "title_tags = driver.find_elements_by_xpath('//a[@class=\"title fw500 ellipsis\"]')\n",
    "len(title_tags)\n",
    "title_tags[0:10]"
   ]
  },
  {
   "cell_type": "code",
   "execution_count": 173,
   "id": "bad19feb",
   "metadata": {},
   "outputs": [
    {
     "data": {
      "text/plain": [
       "['Lead/Senior Data Scientist (NLP)',\n",
       " 'Global Tax Automation & Operations | Data Scientist Senior Analyst',\n",
       " 'Senior Data Scientist',\n",
       " 'Lead Data Scientist - Prescriptive Analytics/Predictive Modeling',\n",
       " 'Lead Data Scientist - NLP/OpenCV',\n",
       " 'Lead - Data Analyst / Scientist',\n",
       " 'Job opening with Wipro For Data Scientist',\n",
       " 'Spark ML Data Scientist',\n",
       " 'Spark ML Data Scientist',\n",
       " 'Senior Data Scientist - Logistics']"
      ]
     },
     "execution_count": 173,
     "metadata": {},
     "output_type": "execute_result"
    }
   ],
   "source": [
    "job_titles = []\n",
    "for i in title_tags:\n",
    "    job_titles.append(i.text)\n",
    "len(job_titles)\n",
    "job_titles[0:10]"
   ]
  },
  {
   "cell_type": "markdown",
   "id": "849ae606",
   "metadata": {},
   "source": [
    "### Extracting company location"
   ]
  },
  {
   "cell_type": "code",
   "execution_count": 174,
   "id": "549fff3c",
   "metadata": {},
   "outputs": [
    {
     "data": {
      "text/plain": [
       "[<selenium.webdriver.remote.webelement.WebElement (session=\"bd3337c9433943f997a1de9645af62af\", element=\"14bab4cd-880b-4923-8ab3-b33f2bc82785\")>,\n",
       " <selenium.webdriver.remote.webelement.WebElement (session=\"bd3337c9433943f997a1de9645af62af\", element=\"b83382fe-588a-4d92-9349-406afc09d6ee\")>,\n",
       " <selenium.webdriver.remote.webelement.WebElement (session=\"bd3337c9433943f997a1de9645af62af\", element=\"d3f140c7-6a5e-470f-82f8-733b11e2c798\")>,\n",
       " <selenium.webdriver.remote.webelement.WebElement (session=\"bd3337c9433943f997a1de9645af62af\", element=\"27ccc88a-8d1b-4cf2-a0bb-bc91560cad34\")>,\n",
       " <selenium.webdriver.remote.webelement.WebElement (session=\"bd3337c9433943f997a1de9645af62af\", element=\"9c0bad42-306a-411d-afaa-a0ed4a18252b\")>,\n",
       " <selenium.webdriver.remote.webelement.WebElement (session=\"bd3337c9433943f997a1de9645af62af\", element=\"5de65fb8-ad4d-4c83-9306-8a0d02ef59b2\")>,\n",
       " <selenium.webdriver.remote.webelement.WebElement (session=\"bd3337c9433943f997a1de9645af62af\", element=\"fa973832-376a-4df5-b455-d68abe3ece98\")>,\n",
       " <selenium.webdriver.remote.webelement.WebElement (session=\"bd3337c9433943f997a1de9645af62af\", element=\"152fe138-97ec-4171-9dee-3324c60e1244\")>,\n",
       " <selenium.webdriver.remote.webelement.WebElement (session=\"bd3337c9433943f997a1de9645af62af\", element=\"0561414b-e842-4e29-b740-7da9058363cd\")>,\n",
       " <selenium.webdriver.remote.webelement.WebElement (session=\"bd3337c9433943f997a1de9645af62af\", element=\"08e70676-eea7-44c9-8e57-e2a8f38bd943\")>]"
      ]
     },
     "execution_count": 174,
     "metadata": {},
     "output_type": "execute_result"
    }
   ],
   "source": [
    "locn_tags = driver.find_elements_by_xpath('//li[@class=\"fleft grey-text br2 placeHolderLi location\"]')\n",
    "len(locn_tags)\n",
    "locn_tags[0:10]"
   ]
  },
  {
   "cell_type": "code",
   "execution_count": 175,
   "id": "024c9d98",
   "metadata": {},
   "outputs": [
    {
     "data": {
      "text/plain": [
       "['Bangalore/Bengaluru\\n(WFH during Covid)',\n",
       " 'Bangalore/Bengaluru',\n",
       " 'Gurgaon/Gurugram, Bangalore/Bengaluru, Mumbai (All Areas)',\n",
       " 'Hyderabad/Secunderabad, Bangalore/Bengaluru',\n",
       " 'Hyderabad/Secunderabad, Bangalore/Bengaluru',\n",
       " 'Bangalore/Bengaluru',\n",
       " 'Hyderabad/Secunderabad, Pune, Chennai, Bangalore/Bengaluru',\n",
       " 'Hyderabad/Secunderabad, Pune, Bangalore/Bengaluru\\n(WFH during Covid)',\n",
       " 'Hyderabad/Secunderabad, Pune, Bangalore/Bengaluru',\n",
       " 'Bangalore/Bengaluru']"
      ]
     },
     "execution_count": 175,
     "metadata": {},
     "output_type": "execute_result"
    }
   ],
   "source": [
    "location = []\n",
    "\n",
    "for i in locn_tags:\n",
    "    location.append(i.text)\n",
    "location[0:10]"
   ]
  },
  {
   "cell_type": "markdown",
   "id": "73a41ec1",
   "metadata": {},
   "source": [
    "### Extracting comapny name"
   ]
  },
  {
   "cell_type": "code",
   "execution_count": 176,
   "id": "53b2c326",
   "metadata": {},
   "outputs": [
    {
     "data": {
      "text/plain": [
       "[<selenium.webdriver.remote.webelement.WebElement (session=\"bd3337c9433943f997a1de9645af62af\", element=\"262ab593-e2dd-419b-b0bb-692030d899fb\")>,\n",
       " <selenium.webdriver.remote.webelement.WebElement (session=\"bd3337c9433943f997a1de9645af62af\", element=\"4f8cb632-0048-4970-b6b9-8e974e407d77\")>,\n",
       " <selenium.webdriver.remote.webelement.WebElement (session=\"bd3337c9433943f997a1de9645af62af\", element=\"859fba52-0513-44f9-b2f1-1c365417ccb1\")>,\n",
       " <selenium.webdriver.remote.webelement.WebElement (session=\"bd3337c9433943f997a1de9645af62af\", element=\"6a1e82f7-c5fd-4f1c-b6d1-cb7ee836c10e\")>,\n",
       " <selenium.webdriver.remote.webelement.WebElement (session=\"bd3337c9433943f997a1de9645af62af\", element=\"534292ca-b750-4165-b8ba-35dd8b5301b3\")>,\n",
       " <selenium.webdriver.remote.webelement.WebElement (session=\"bd3337c9433943f997a1de9645af62af\", element=\"3f131af5-a5b6-43a1-9d9b-99b712c3378f\")>,\n",
       " <selenium.webdriver.remote.webelement.WebElement (session=\"bd3337c9433943f997a1de9645af62af\", element=\"961393cc-f7e6-49ce-ba0e-6c7f13c3e01d\")>,\n",
       " <selenium.webdriver.remote.webelement.WebElement (session=\"bd3337c9433943f997a1de9645af62af\", element=\"08bc6f89-06a8-46e4-a48c-2338e8224398\")>,\n",
       " <selenium.webdriver.remote.webelement.WebElement (session=\"bd3337c9433943f997a1de9645af62af\", element=\"c851c3da-2d7a-4bc2-b853-34473d776ce7\")>,\n",
       " <selenium.webdriver.remote.webelement.WebElement (session=\"bd3337c9433943f997a1de9645af62af\", element=\"31b9271a-b784-4b17-b020-85beec38e966\")>]"
      ]
     },
     "execution_count": 176,
     "metadata": {},
     "output_type": "execute_result"
    }
   ],
   "source": [
    "company_tags = driver.find_elements_by_xpath('//a[@class=\"subTitle ellipsis fleft\"]')\n",
    "company_tags[0:10]"
   ]
  },
  {
   "cell_type": "code",
   "execution_count": 177,
   "id": "782f0063",
   "metadata": {},
   "outputs": [
    {
     "data": {
      "text/plain": [
       "['Samya.AI A FRACTAL Entity',\n",
       " 'Dell',\n",
       " 'Fractal Analytics',\n",
       " 'Codersbrain',\n",
       " 'Codersbrain',\n",
       " 'Axim Technologies',\n",
       " 'Wipro',\n",
       " 'Wipro',\n",
       " 'Wipro',\n",
       " 'Gojek Tech']"
      ]
     },
     "execution_count": 177,
     "metadata": {},
     "output_type": "execute_result"
    }
   ],
   "source": [
    "company_names = []\n",
    "\n",
    "for i in company_tags:\n",
    "    company_names.append(i.text)\n",
    "len(company_names)\n",
    "company_names[0:10]"
   ]
  },
  {
   "cell_type": "code",
   "execution_count": 178,
   "id": "ed154e20",
   "metadata": {},
   "outputs": [
    {
     "data": {
      "text/plain": [
       "(20, 20, 20)"
      ]
     },
     "execution_count": 178,
     "metadata": {},
     "output_type": "execute_result"
    }
   ],
   "source": [
    "len(job_titles),len(location),len(company_names)"
   ]
  },
  {
   "cell_type": "code",
   "execution_count": 180,
   "id": "850ee17c",
   "metadata": {},
   "outputs": [
    {
     "data": {
      "text/html": [
       "<div>\n",
       "<style scoped>\n",
       "    .dataframe tbody tr th:only-of-type {\n",
       "        vertical-align: middle;\n",
       "    }\n",
       "\n",
       "    .dataframe tbody tr th {\n",
       "        vertical-align: top;\n",
       "    }\n",
       "\n",
       "    .dataframe thead th {\n",
       "        text-align: right;\n",
       "    }\n",
       "</style>\n",
       "<table border=\"1\" class=\"dataframe\">\n",
       "  <thead>\n",
       "    <tr style=\"text-align: right;\">\n",
       "      <th></th>\n",
       "      <th>Job Title</th>\n",
       "      <th>Location</th>\n",
       "      <th>Company Name</th>\n",
       "    </tr>\n",
       "  </thead>\n",
       "  <tbody>\n",
       "    <tr>\n",
       "      <th>0</th>\n",
       "      <td>Lead/Senior Data Scientist (NLP)</td>\n",
       "      <td>Bangalore/Bengaluru\\n(WFH during Covid)</td>\n",
       "      <td>Samya.AI A FRACTAL Entity</td>\n",
       "    </tr>\n",
       "    <tr>\n",
       "      <th>1</th>\n",
       "      <td>Global Tax Automation &amp; Operations | Data Scie...</td>\n",
       "      <td>Bangalore/Bengaluru</td>\n",
       "      <td>Dell</td>\n",
       "    </tr>\n",
       "    <tr>\n",
       "      <th>2</th>\n",
       "      <td>Senior Data Scientist</td>\n",
       "      <td>Gurgaon/Gurugram, Bangalore/Bengaluru, Mumbai ...</td>\n",
       "      <td>Fractal Analytics</td>\n",
       "    </tr>\n",
       "    <tr>\n",
       "      <th>3</th>\n",
       "      <td>Lead Data Scientist - Prescriptive Analytics/P...</td>\n",
       "      <td>Hyderabad/Secunderabad, Bangalore/Bengaluru</td>\n",
       "      <td>Codersbrain</td>\n",
       "    </tr>\n",
       "    <tr>\n",
       "      <th>4</th>\n",
       "      <td>Lead Data Scientist - NLP/OpenCV</td>\n",
       "      <td>Hyderabad/Secunderabad, Bangalore/Bengaluru</td>\n",
       "      <td>Codersbrain</td>\n",
       "    </tr>\n",
       "    <tr>\n",
       "      <th>5</th>\n",
       "      <td>Lead - Data Analyst / Scientist</td>\n",
       "      <td>Bangalore/Bengaluru</td>\n",
       "      <td>Axim Technologies</td>\n",
       "    </tr>\n",
       "    <tr>\n",
       "      <th>6</th>\n",
       "      <td>Job opening with Wipro For Data Scientist</td>\n",
       "      <td>Hyderabad/Secunderabad, Pune, Chennai, Bangalo...</td>\n",
       "      <td>Wipro</td>\n",
       "    </tr>\n",
       "    <tr>\n",
       "      <th>7</th>\n",
       "      <td>Spark ML Data Scientist</td>\n",
       "      <td>Hyderabad/Secunderabad, Pune, Bangalore/Bengal...</td>\n",
       "      <td>Wipro</td>\n",
       "    </tr>\n",
       "    <tr>\n",
       "      <th>8</th>\n",
       "      <td>Spark ML Data Scientist</td>\n",
       "      <td>Hyderabad/Secunderabad, Pune, Bangalore/Bengaluru</td>\n",
       "      <td>Wipro</td>\n",
       "    </tr>\n",
       "    <tr>\n",
       "      <th>9</th>\n",
       "      <td>Senior Data Scientist - Logistics</td>\n",
       "      <td>Bangalore/Bengaluru</td>\n",
       "      <td>Gojek Tech</td>\n",
       "    </tr>\n",
       "  </tbody>\n",
       "</table>\n",
       "</div>"
      ],
      "text/plain": [
       "                                           Job Title  \\\n",
       "0                   Lead/Senior Data Scientist (NLP)   \n",
       "1  Global Tax Automation & Operations | Data Scie...   \n",
       "2                              Senior Data Scientist   \n",
       "3  Lead Data Scientist - Prescriptive Analytics/P...   \n",
       "4                   Lead Data Scientist - NLP/OpenCV   \n",
       "5                    Lead - Data Analyst / Scientist   \n",
       "6          Job opening with Wipro For Data Scientist   \n",
       "7                            Spark ML Data Scientist   \n",
       "8                            Spark ML Data Scientist   \n",
       "9                  Senior Data Scientist - Logistics   \n",
       "\n",
       "                                            Location  \\\n",
       "0            Bangalore/Bengaluru\\n(WFH during Covid)   \n",
       "1                                Bangalore/Bengaluru   \n",
       "2  Gurgaon/Gurugram, Bangalore/Bengaluru, Mumbai ...   \n",
       "3        Hyderabad/Secunderabad, Bangalore/Bengaluru   \n",
       "4        Hyderabad/Secunderabad, Bangalore/Bengaluru   \n",
       "5                                Bangalore/Bengaluru   \n",
       "6  Hyderabad/Secunderabad, Pune, Chennai, Bangalo...   \n",
       "7  Hyderabad/Secunderabad, Pune, Bangalore/Bengal...   \n",
       "8  Hyderabad/Secunderabad, Pune, Bangalore/Bengaluru   \n",
       "9                                Bangalore/Bengaluru   \n",
       "\n",
       "                Company Name  \n",
       "0  Samya.AI A FRACTAL Entity  \n",
       "1                       Dell  \n",
       "2          Fractal Analytics  \n",
       "3                Codersbrain  \n",
       "4                Codersbrain  \n",
       "5          Axim Technologies  \n",
       "6                      Wipro  \n",
       "7                      Wipro  \n",
       "8                      Wipro  \n",
       "9                 Gojek Tech  "
      ]
     },
     "execution_count": 180,
     "metadata": {},
     "output_type": "execute_result"
    }
   ],
   "source": [
    "jobs = pd.DataFrame({})\n",
    "jobs['Job Title'] = job_titles[:10]\n",
    "jobs['Location'] = location[:10]\n",
    "jobs['Company Name'] = company_names[:10]\n",
    "jobs"
   ]
  },
  {
   "cell_type": "markdown",
   "id": "3eefa08e",
   "metadata": {},
   "source": [
    "### Q3: You have to use the location and salary filter.\n",
    "You have to scrape data for “Data Scientist” designation for first 10 job results.\n",
    "You have to scrape the job-title, job-location, company name, experience required. The location filter to be used is “Delhi/NCR”. The salary filter to be used is “3-6” lakhs\n",
    "\n",
    "The task will be done as shown in the below steps:\n",
    "1.\tfirst get the webpage https://www.naukri.com/\n",
    "2.\tEnter “Data Scientist” in “Skill, Designations, and Companies” field.\n",
    "3.\tThen click the search button.\n",
    "4.\tThen apply the location filter and salary filter by checking the respective boxes\n",
    "5.\tThen scrape the data for the first 10 jobs results you get.\n",
    "6.\tFinally create a dataframe of the scraped data.\n"
   ]
  },
  {
   "cell_type": "code",
   "execution_count": 243,
   "id": "329f5df2",
   "metadata": {},
   "outputs": [],
   "source": [
    "driver = webdriver.Chrome(r'C:\\Users\\Khiro\\Downloads\\chromedriver_win32\\chromedriver')"
   ]
  },
  {
   "cell_type": "code",
   "execution_count": 244,
   "id": "08bcae17",
   "metadata": {},
   "outputs": [],
   "source": [
    "driver = webdriver.Chrome('chromedriver')"
   ]
  },
  {
   "cell_type": "code",
   "execution_count": 245,
   "id": "1d376ef1",
   "metadata": {},
   "outputs": [],
   "source": [
    "url = 'https://www.naukri.com/'\n",
    "driver.get(url)"
   ]
  },
  {
   "cell_type": "code",
   "execution_count": 247,
   "id": "c33f9785",
   "metadata": {},
   "outputs": [
    {
     "data": {
      "text/plain": [
       "<selenium.webdriver.remote.webelement.WebElement (session=\"b77671b47ae7cd643bb8cccf31c9eadb\", element=\"beeb45f2-3367-40ee-aa08-e1a57bddcc7a\")>"
      ]
     },
     "execution_count": 247,
     "metadata": {},
     "output_type": "execute_result"
    }
   ],
   "source": [
    "search_job = driver.find_element_by_id(\"qsb-keyword-sugg\")\n",
    "search_job"
   ]
  },
  {
   "cell_type": "code",
   "execution_count": 248,
   "id": "f6bd8816",
   "metadata": {},
   "outputs": [],
   "source": [
    "search_job.send_keys(\"Data Scientist\")"
   ]
  },
  {
   "cell_type": "code",
   "execution_count": 249,
   "id": "c86d8537",
   "metadata": {},
   "outputs": [
    {
     "data": {
      "text/plain": [
       "<selenium.webdriver.remote.webelement.WebElement (session=\"b77671b47ae7cd643bb8cccf31c9eadb\", element=\"bf1c5e16-abae-4533-9d3d-146367c808c7\")>"
      ]
     },
     "execution_count": 249,
     "metadata": {},
     "output_type": "execute_result"
    }
   ],
   "source": [
    "search_locn = driver.find_element_by_xpath('/html/body/div[1]/div[3]/div[2]/section/div/form/div[2]/div/div/div/div[1]/div[2]/input')\n",
    "search_locn"
   ]
  },
  {
   "cell_type": "code",
   "execution_count": 250,
   "id": "17ce5c18",
   "metadata": {},
   "outputs": [
    {
     "ename": "AttributeError",
     "evalue": "'WebElement' object has no attribute 'send'",
     "output_type": "error",
     "traceback": [
      "\u001b[1;31m---------------------------------------------------------------------------\u001b[0m",
      "\u001b[1;31mAttributeError\u001b[0m                            Traceback (most recent call last)",
      "\u001b[1;32m<ipython-input-250-aafe34277edf>\u001b[0m in \u001b[0;36m<module>\u001b[1;34m\u001b[0m\n\u001b[1;32m----> 1\u001b[1;33m \u001b[0msearch_locn\u001b[0m\u001b[1;33m.\u001b[0m\u001b[0msend\u001b[0m\u001b[1;33m.\u001b[0m\u001b[0mkeys\u001b[0m\u001b[1;33m(\u001b[0m\u001b[1;34m\"Delhi\"\u001b[0m\u001b[1;33m)\u001b[0m\u001b[1;33m\u001b[0m\u001b[1;33m\u001b[0m\u001b[0m\n\u001b[0m",
      "\u001b[1;31mAttributeError\u001b[0m: 'WebElement' object has no attribute 'send'"
     ]
    }
   ],
   "source": [
    "search_locn.send.keys(\"Delhi\")"
   ]
  },
  {
   "cell_type": "code",
   "execution_count": 251,
   "id": "94bedd13",
   "metadata": {},
   "outputs": [
    {
     "data": {
      "text/plain": [
       "<selenium.webdriver.remote.webelement.WebElement (session=\"b77671b47ae7cd643bb8cccf31c9eadb\", element=\"aa86d66e-dee8-4b46-bd14-7d3a859c3241\")>"
      ]
     },
     "execution_count": 251,
     "metadata": {},
     "output_type": "execute_result"
    }
   ],
   "source": [
    "search_btn = driver.find_element_by_xpath('/html/body/div[1]/div[3]/div[2]/section/div/form/div[3]/button')\n",
    "search_btn"
   ]
  },
  {
   "cell_type": "code",
   "execution_count": 252,
   "id": "cffa8863",
   "metadata": {},
   "outputs": [],
   "source": [
    "search_btn.click()"
   ]
  },
  {
   "cell_type": "code",
   "execution_count": 254,
   "id": "d2e1259b",
   "metadata": {},
   "outputs": [],
   "source": [
    "salary_check = driver.find_element_by_xpath('/html/body/div[1]/div[3]/div[2]/section[1]/div[2]/div[2]/div[2]/div[1]/label/i')"
   ]
  },
  {
   "cell_type": "code",
   "execution_count": 255,
   "id": "0b413346",
   "metadata": {},
   "outputs": [],
   "source": [
    "salary_check.click()"
   ]
  },
  {
   "cell_type": "markdown",
   "id": "f8adab19",
   "metadata": {},
   "source": [
    "### Extracting job titles"
   ]
  },
  {
   "cell_type": "code",
   "execution_count": 256,
   "id": "b02dd44e",
   "metadata": {},
   "outputs": [
    {
     "data": {
      "text/plain": [
       "[<selenium.webdriver.remote.webelement.WebElement (session=\"b77671b47ae7cd643bb8cccf31c9eadb\", element=\"3b23f026-ddef-45fd-9949-68cef14b894e\")>,\n",
       " <selenium.webdriver.remote.webelement.WebElement (session=\"b77671b47ae7cd643bb8cccf31c9eadb\", element=\"06636817-0e5a-40a5-906c-91b78b55285a\")>,\n",
       " <selenium.webdriver.remote.webelement.WebElement (session=\"b77671b47ae7cd643bb8cccf31c9eadb\", element=\"e5a5efad-f438-4d23-98cd-dd8ca2eecf52\")>,\n",
       " <selenium.webdriver.remote.webelement.WebElement (session=\"b77671b47ae7cd643bb8cccf31c9eadb\", element=\"7d03c105-22f9-4eeb-a7eb-e768b564d4f1\")>,\n",
       " <selenium.webdriver.remote.webelement.WebElement (session=\"b77671b47ae7cd643bb8cccf31c9eadb\", element=\"b603434d-9285-4e50-99a3-88302e1b1258\")>,\n",
       " <selenium.webdriver.remote.webelement.WebElement (session=\"b77671b47ae7cd643bb8cccf31c9eadb\", element=\"acb76372-f266-4573-8596-3aa063e2ed6d\")>,\n",
       " <selenium.webdriver.remote.webelement.WebElement (session=\"b77671b47ae7cd643bb8cccf31c9eadb\", element=\"9604aaf8-9d38-407b-b2c7-e47361e777ac\")>,\n",
       " <selenium.webdriver.remote.webelement.WebElement (session=\"b77671b47ae7cd643bb8cccf31c9eadb\", element=\"4ff8b5d1-cb5d-46f7-92cf-5897ee058d36\")>,\n",
       " <selenium.webdriver.remote.webelement.WebElement (session=\"b77671b47ae7cd643bb8cccf31c9eadb\", element=\"aee5a684-ad85-4b89-98f9-270131e55898\")>,\n",
       " <selenium.webdriver.remote.webelement.WebElement (session=\"b77671b47ae7cd643bb8cccf31c9eadb\", element=\"71bc8c98-3913-434c-915e-12c81da821aa\")>]"
      ]
     },
     "execution_count": 256,
     "metadata": {},
     "output_type": "execute_result"
    }
   ],
   "source": [
    "title_tags = driver.find_elements_by_xpath('//a[@class=\"title fw500 ellipsis\"]')\n",
    "len(title_tags)\n",
    "title_tags[0:10]"
   ]
  },
  {
   "cell_type": "code",
   "execution_count": 257,
   "id": "fd6a50ad",
   "metadata": {},
   "outputs": [
    {
     "data": {
      "text/plain": [
       "['Data Scientist | Python | Machine Learning | Deep Learning- Fresher',\n",
       " 'Senior Data Scientist I',\n",
       " 'Openings For Jr/mid/Sr level data Scientists',\n",
       " 'Data Scientist role',\n",
       " 'Data Scientist role',\n",
       " 'Urgent Hiring For Data Scientist',\n",
       " 'Urgent Hiring For Data Scientist',\n",
       " 'Data Scientist Internship',\n",
       " 'Data Scientist',\n",
       " 'Data Scientist']"
      ]
     },
     "execution_count": 257,
     "metadata": {},
     "output_type": "execute_result"
    }
   ],
   "source": [
    "job_titles = []\n",
    "for i in title_tags:\n",
    "    job_titles.append(i.text)\n",
    "len(job_titles)\n",
    "job_titles[0:10]"
   ]
  },
  {
   "cell_type": "markdown",
   "id": "ea173d87",
   "metadata": {},
   "source": [
    "### Extracting company name"
   ]
  },
  {
   "cell_type": "code",
   "execution_count": 258,
   "id": "8129fcf2",
   "metadata": {},
   "outputs": [
    {
     "data": {
      "text/plain": [
       "[<selenium.webdriver.remote.webelement.WebElement (session=\"b77671b47ae7cd643bb8cccf31c9eadb\", element=\"99d810f2-9052-4f0c-820d-53dc21112143\")>,\n",
       " <selenium.webdriver.remote.webelement.WebElement (session=\"b77671b47ae7cd643bb8cccf31c9eadb\", element=\"158a6a9e-71ae-4a26-8c52-a369669189d7\")>,\n",
       " <selenium.webdriver.remote.webelement.WebElement (session=\"b77671b47ae7cd643bb8cccf31c9eadb\", element=\"ca1f6115-34dc-4786-acec-e6fab2569f0a\")>,\n",
       " <selenium.webdriver.remote.webelement.WebElement (session=\"b77671b47ae7cd643bb8cccf31c9eadb\", element=\"be052abe-cfcc-4cd2-8aed-3990fd141288\")>,\n",
       " <selenium.webdriver.remote.webelement.WebElement (session=\"b77671b47ae7cd643bb8cccf31c9eadb\", element=\"b204f351-f0e1-4fdf-abc8-bae42e764f82\")>,\n",
       " <selenium.webdriver.remote.webelement.WebElement (session=\"b77671b47ae7cd643bb8cccf31c9eadb\", element=\"f315811f-7832-4c43-8de6-49c31fab1158\")>,\n",
       " <selenium.webdriver.remote.webelement.WebElement (session=\"b77671b47ae7cd643bb8cccf31c9eadb\", element=\"ffeaf30f-9852-43af-9110-8ae3afbc294c\")>,\n",
       " <selenium.webdriver.remote.webelement.WebElement (session=\"b77671b47ae7cd643bb8cccf31c9eadb\", element=\"38ce353a-920a-4a39-ad63-d18df80ee8da\")>,\n",
       " <selenium.webdriver.remote.webelement.WebElement (session=\"b77671b47ae7cd643bb8cccf31c9eadb\", element=\"d37ae25c-76ce-44e2-9644-4c62687b1e83\")>,\n",
       " <selenium.webdriver.remote.webelement.WebElement (session=\"b77671b47ae7cd643bb8cccf31c9eadb\", element=\"c9ca9991-b06c-4dd6-8617-bf4585444392\")>]"
      ]
     },
     "execution_count": 258,
     "metadata": {},
     "output_type": "execute_result"
    }
   ],
   "source": [
    "company_tags = driver.find_elements_by_xpath('//a[@class=\"subTitle ellipsis fleft\"]')\n",
    "company_tags[0:10]"
   ]
  },
  {
   "cell_type": "code",
   "execution_count": 259,
   "id": "64a86a42",
   "metadata": {},
   "outputs": [
    {
     "data": {
      "text/plain": [
       "['Schlesinger Group',\n",
       " 'Delhivery',\n",
       " 'Pluto seven business solutions (p) limited',\n",
       " 'Mount Talent Consulting Private Limited',\n",
       " 'Mount Talent Consulting Private Limited',\n",
       " 'Mount Talent Consulting Private Limited',\n",
       " 'Mount Talent Consulting Private Limited',\n",
       " 'iHackers Inc',\n",
       " 'LG',\n",
       " 'Teleperformance']"
      ]
     },
     "execution_count": 259,
     "metadata": {},
     "output_type": "execute_result"
    }
   ],
   "source": [
    "company_names = []\n",
    "\n",
    "for i in company_tags:\n",
    "    company_names.append(i.text)\n",
    "len(company_names)\n",
    "company_names[0:10]"
   ]
  },
  {
   "cell_type": "markdown",
   "id": "11907486",
   "metadata": {},
   "source": [
    "### Extracting location"
   ]
  },
  {
   "cell_type": "code",
   "execution_count": 269,
   "id": "0de71447",
   "metadata": {},
   "outputs": [
    {
     "data": {
      "text/plain": [
       "[<selenium.webdriver.remote.webelement.WebElement (session=\"b77671b47ae7cd643bb8cccf31c9eadb\", element=\"1253d8b5-3b5d-4717-9e4f-7d26e92d0c04\")>,\n",
       " <selenium.webdriver.remote.webelement.WebElement (session=\"b77671b47ae7cd643bb8cccf31c9eadb\", element=\"db326bd5-6344-4492-abb4-a6f963430e87\")>,\n",
       " <selenium.webdriver.remote.webelement.WebElement (session=\"b77671b47ae7cd643bb8cccf31c9eadb\", element=\"2d2ceecc-6cb2-46ea-841d-ee4eed300934\")>,\n",
       " <selenium.webdriver.remote.webelement.WebElement (session=\"b77671b47ae7cd643bb8cccf31c9eadb\", element=\"4a50ffb4-07b2-40cd-b154-74ec3014993a\")>,\n",
       " <selenium.webdriver.remote.webelement.WebElement (session=\"b77671b47ae7cd643bb8cccf31c9eadb\", element=\"fb4f878c-ef7f-4496-a43c-0ccff06b0465\")>,\n",
       " <selenium.webdriver.remote.webelement.WebElement (session=\"b77671b47ae7cd643bb8cccf31c9eadb\", element=\"0e2ac1a2-20c9-4b41-9ad4-0e6b7f1acb20\")>,\n",
       " <selenium.webdriver.remote.webelement.WebElement (session=\"b77671b47ae7cd643bb8cccf31c9eadb\", element=\"ad74a221-3511-4e31-8c88-afbe2680c9f8\")>,\n",
       " <selenium.webdriver.remote.webelement.WebElement (session=\"b77671b47ae7cd643bb8cccf31c9eadb\", element=\"0831faad-0d35-41e9-91f4-5b3748fcae0e\")>,\n",
       " <selenium.webdriver.remote.webelement.WebElement (session=\"b77671b47ae7cd643bb8cccf31c9eadb\", element=\"fede1daa-951c-4760-8c0a-5ebbb76eb042\")>,\n",
       " <selenium.webdriver.remote.webelement.WebElement (session=\"b77671b47ae7cd643bb8cccf31c9eadb\", element=\"6a6c5217-e0f7-4ce6-a565-9f4b3a5b5bb8\")>]"
      ]
     },
     "execution_count": 269,
     "metadata": {},
     "output_type": "execute_result"
    }
   ],
   "source": [
    "locn_tags = driver.find_elements_by_xpath('//li[@class=\"fleft grey-text br2 placeHolderLi location\"]')\n",
    "len(locn_tags)\n",
    "locn_tags[0:10]"
   ]
  },
  {
   "cell_type": "code",
   "execution_count": 270,
   "id": "ac935938",
   "metadata": {},
   "outputs": [
    {
     "data": {
      "text/plain": [
       "['Noida, Gurgaon/Gurugram, Delhi / NCR',\n",
       " 'Gurgaon/Gurugram',\n",
       " 'Kolkata, Hyderabad/Secunderabad, Pune, Ahmedabad, Chennai, Bangalore/Bengaluru, Delhi / NCR, Mumbai (All Areas)\\n(WFH during Covid)',\n",
       " 'Noida, Hyderabad/Secunderabad, Pune, Gurgaon/Gurugram, Bangalore/Bengaluru, Delhi / NCR\\n(WFH during Covid)',\n",
       " 'Noida, Hyderabad/Secunderabad, Pune, Gurgaon/Gurugram, Bangalore/Bengaluru, Delhi / NCR\\n(WFH during Covid)',\n",
       " 'Gurgaon/Gurugram, Bangalore/Bengaluru',\n",
       " 'Gurgaon/Gurugram, Bangalore/Bengaluru',\n",
       " 'New Delhi',\n",
       " 'Noida, New Delhi, Faridabad, Gurgaon/Gurugram, Delhi / NCR',\n",
       " 'Gurgaon/Gurugram, Chennai']"
      ]
     },
     "execution_count": 270,
     "metadata": {},
     "output_type": "execute_result"
    }
   ],
   "source": [
    "location = []\n",
    "\n",
    "for i in locn_tags:\n",
    "    location.append(i.text)\n",
    "location[0:10]"
   ]
  },
  {
   "cell_type": "markdown",
   "id": "efa07cfe",
   "metadata": {},
   "source": [
    "### Extracting experience"
   ]
  },
  {
   "cell_type": "code",
   "execution_count": 271,
   "id": "629033bd",
   "metadata": {},
   "outputs": [
    {
     "data": {
      "text/plain": [
       "[<selenium.webdriver.remote.webelement.WebElement (session=\"b77671b47ae7cd643bb8cccf31c9eadb\", element=\"dfca0c1c-20a4-42fc-b48d-c4b5c802211b\")>,\n",
       " <selenium.webdriver.remote.webelement.WebElement (session=\"b77671b47ae7cd643bb8cccf31c9eadb\", element=\"4adcea68-497c-4588-8581-128136d09573\")>,\n",
       " <selenium.webdriver.remote.webelement.WebElement (session=\"b77671b47ae7cd643bb8cccf31c9eadb\", element=\"d9f31aa8-9448-4978-acaf-8b229402d2ff\")>,\n",
       " <selenium.webdriver.remote.webelement.WebElement (session=\"b77671b47ae7cd643bb8cccf31c9eadb\", element=\"09dd8636-8034-4300-a61b-b89800689478\")>,\n",
       " <selenium.webdriver.remote.webelement.WebElement (session=\"b77671b47ae7cd643bb8cccf31c9eadb\", element=\"b6abd01c-92a7-4869-9921-dba46d7b08ee\")>,\n",
       " <selenium.webdriver.remote.webelement.WebElement (session=\"b77671b47ae7cd643bb8cccf31c9eadb\", element=\"def6e417-e0e3-4770-b927-988f02e124f1\")>,\n",
       " <selenium.webdriver.remote.webelement.WebElement (session=\"b77671b47ae7cd643bb8cccf31c9eadb\", element=\"1dd22f31-1576-4310-9154-d5227b86938e\")>,\n",
       " <selenium.webdriver.remote.webelement.WebElement (session=\"b77671b47ae7cd643bb8cccf31c9eadb\", element=\"86795a39-c65e-4473-b433-01c445cd1697\")>,\n",
       " <selenium.webdriver.remote.webelement.WebElement (session=\"b77671b47ae7cd643bb8cccf31c9eadb\", element=\"4e0bde6d-0d8e-48fb-abb4-66851b15ae8f\")>,\n",
       " <selenium.webdriver.remote.webelement.WebElement (session=\"b77671b47ae7cd643bb8cccf31c9eadb\", element=\"11311b8e-ad32-46b2-9211-07f3b29906df\")>]"
      ]
     },
     "execution_count": 271,
     "metadata": {},
     "output_type": "execute_result"
    }
   ],
   "source": [
    "exp_tags = driver.find_elements_by_xpath('//li[@class=\"fleft grey-text br2 placeHolderLi experience\"]')\n",
    "len(exp_tags)\n",
    "exp_tags[0:10]"
   ]
  },
  {
   "cell_type": "code",
   "execution_count": 272,
   "id": "6a3287c8",
   "metadata": {},
   "outputs": [
    {
     "data": {
      "text/plain": [
       "['0-3 Yrs',\n",
       " '3-7 Yrs',\n",
       " '2-6 Yrs',\n",
       " '1-3 Yrs',\n",
       " '1-3 Yrs',\n",
       " '1-6 Yrs',\n",
       " '1-6 Yrs',\n",
       " '0-1 Yrs',\n",
       " '0-2 Yrs',\n",
       " '4-9 Yrs']"
      ]
     },
     "execution_count": 272,
     "metadata": {},
     "output_type": "execute_result"
    }
   ],
   "source": [
    "experience = []\n",
    "\n",
    "for i in exp_tags:\n",
    "    experience.append(i.text)\n",
    "len(experience)\n",
    "experience[0:10]"
   ]
  },
  {
   "cell_type": "code",
   "execution_count": 274,
   "id": "ffd5cb19",
   "metadata": {},
   "outputs": [
    {
     "data": {
      "text/plain": [
       "(20, 20, 20, 20)"
      ]
     },
     "execution_count": 274,
     "metadata": {},
     "output_type": "execute_result"
    }
   ],
   "source": [
    "len(job_titles),len(company_names),len(location),len(experience)"
   ]
  },
  {
   "cell_type": "code",
   "execution_count": 275,
   "id": "87cbd004",
   "metadata": {},
   "outputs": [
    {
     "data": {
      "text/html": [
       "<div>\n",
       "<style scoped>\n",
       "    .dataframe tbody tr th:only-of-type {\n",
       "        vertical-align: middle;\n",
       "    }\n",
       "\n",
       "    .dataframe tbody tr th {\n",
       "        vertical-align: top;\n",
       "    }\n",
       "\n",
       "    .dataframe thead th {\n",
       "        text-align: right;\n",
       "    }\n",
       "</style>\n",
       "<table border=\"1\" class=\"dataframe\">\n",
       "  <thead>\n",
       "    <tr style=\"text-align: right;\">\n",
       "      <th></th>\n",
       "      <th>Job Title</th>\n",
       "      <th>Company Name</th>\n",
       "      <th>Location</th>\n",
       "      <th>experience</th>\n",
       "    </tr>\n",
       "  </thead>\n",
       "  <tbody>\n",
       "    <tr>\n",
       "      <th>0</th>\n",
       "      <td>Data Scientist | Python | Machine Learning | D...</td>\n",
       "      <td>Schlesinger Group</td>\n",
       "      <td>Noida, Gurgaon/Gurugram, Delhi / NCR</td>\n",
       "      <td>0-3 Yrs</td>\n",
       "    </tr>\n",
       "    <tr>\n",
       "      <th>1</th>\n",
       "      <td>Senior Data Scientist I</td>\n",
       "      <td>Delhivery</td>\n",
       "      <td>Gurgaon/Gurugram</td>\n",
       "      <td>3-7 Yrs</td>\n",
       "    </tr>\n",
       "    <tr>\n",
       "      <th>2</th>\n",
       "      <td>Openings For Jr/mid/Sr level data Scientists</td>\n",
       "      <td>Pluto seven business solutions (p) limited</td>\n",
       "      <td>Kolkata, Hyderabad/Secunderabad, Pune, Ahmedab...</td>\n",
       "      <td>2-6 Yrs</td>\n",
       "    </tr>\n",
       "    <tr>\n",
       "      <th>3</th>\n",
       "      <td>Data Scientist role</td>\n",
       "      <td>Mount Talent Consulting Private Limited</td>\n",
       "      <td>Noida, Hyderabad/Secunderabad, Pune, Gurgaon/G...</td>\n",
       "      <td>1-3 Yrs</td>\n",
       "    </tr>\n",
       "    <tr>\n",
       "      <th>4</th>\n",
       "      <td>Data Scientist role</td>\n",
       "      <td>Mount Talent Consulting Private Limited</td>\n",
       "      <td>Noida, Hyderabad/Secunderabad, Pune, Gurgaon/G...</td>\n",
       "      <td>1-3 Yrs</td>\n",
       "    </tr>\n",
       "    <tr>\n",
       "      <th>5</th>\n",
       "      <td>Urgent Hiring For Data Scientist</td>\n",
       "      <td>Mount Talent Consulting Private Limited</td>\n",
       "      <td>Gurgaon/Gurugram, Bangalore/Bengaluru</td>\n",
       "      <td>1-6 Yrs</td>\n",
       "    </tr>\n",
       "    <tr>\n",
       "      <th>6</th>\n",
       "      <td>Urgent Hiring For Data Scientist</td>\n",
       "      <td>Mount Talent Consulting Private Limited</td>\n",
       "      <td>Gurgaon/Gurugram, Bangalore/Bengaluru</td>\n",
       "      <td>1-6 Yrs</td>\n",
       "    </tr>\n",
       "    <tr>\n",
       "      <th>7</th>\n",
       "      <td>Data Scientist Internship</td>\n",
       "      <td>iHackers Inc</td>\n",
       "      <td>New Delhi</td>\n",
       "      <td>0-1 Yrs</td>\n",
       "    </tr>\n",
       "    <tr>\n",
       "      <th>8</th>\n",
       "      <td>Data Scientist</td>\n",
       "      <td>LG</td>\n",
       "      <td>Noida, New Delhi, Faridabad, Gurgaon/Gurugram,...</td>\n",
       "      <td>0-2 Yrs</td>\n",
       "    </tr>\n",
       "    <tr>\n",
       "      <th>9</th>\n",
       "      <td>Data Scientist</td>\n",
       "      <td>Teleperformance</td>\n",
       "      <td>Gurgaon/Gurugram, Chennai</td>\n",
       "      <td>4-9 Yrs</td>\n",
       "    </tr>\n",
       "  </tbody>\n",
       "</table>\n",
       "</div>"
      ],
      "text/plain": [
       "                                           Job Title  \\\n",
       "0  Data Scientist | Python | Machine Learning | D...   \n",
       "1                            Senior Data Scientist I   \n",
       "2       Openings For Jr/mid/Sr level data Scientists   \n",
       "3                                Data Scientist role   \n",
       "4                                Data Scientist role   \n",
       "5                   Urgent Hiring For Data Scientist   \n",
       "6                   Urgent Hiring For Data Scientist   \n",
       "7                          Data Scientist Internship   \n",
       "8                                     Data Scientist   \n",
       "9                                     Data Scientist   \n",
       "\n",
       "                                 Company Name  \\\n",
       "0                           Schlesinger Group   \n",
       "1                                   Delhivery   \n",
       "2  Pluto seven business solutions (p) limited   \n",
       "3     Mount Talent Consulting Private Limited   \n",
       "4     Mount Talent Consulting Private Limited   \n",
       "5     Mount Talent Consulting Private Limited   \n",
       "6     Mount Talent Consulting Private Limited   \n",
       "7                                iHackers Inc   \n",
       "8                                          LG   \n",
       "9                             Teleperformance   \n",
       "\n",
       "                                            Location experience  \n",
       "0               Noida, Gurgaon/Gurugram, Delhi / NCR    0-3 Yrs  \n",
       "1                                   Gurgaon/Gurugram    3-7 Yrs  \n",
       "2  Kolkata, Hyderabad/Secunderabad, Pune, Ahmedab...    2-6 Yrs  \n",
       "3  Noida, Hyderabad/Secunderabad, Pune, Gurgaon/G...    1-3 Yrs  \n",
       "4  Noida, Hyderabad/Secunderabad, Pune, Gurgaon/G...    1-3 Yrs  \n",
       "5              Gurgaon/Gurugram, Bangalore/Bengaluru    1-6 Yrs  \n",
       "6              Gurgaon/Gurugram, Bangalore/Bengaluru    1-6 Yrs  \n",
       "7                                          New Delhi    0-1 Yrs  \n",
       "8  Noida, New Delhi, Faridabad, Gurgaon/Gurugram,...    0-2 Yrs  \n",
       "9                          Gurgaon/Gurugram, Chennai    4-9 Yrs  "
      ]
     },
     "execution_count": 275,
     "metadata": {},
     "output_type": "execute_result"
    }
   ],
   "source": [
    "jobs=pd.DataFrame({})\n",
    "jobs['Job Title'] = job_titles[:10]\n",
    "jobs['Company Name'] = company_names[:10]\n",
    "jobs['Location'] = location[:10]\n",
    "jobs['experience'] = experience[:10]\n",
    "jobs"
   ]
  },
  {
   "cell_type": "markdown",
   "id": "c95cdf8f",
   "metadata": {},
   "source": [
    "#### Q4: Scrape data of first 100 sunglasses listings on flipkart.com. You have to scrape four attributes:\n",
    "*.\tBrand\n",
    "*.\tProduct Description\n",
    "*.\tPrice\n",
    "To scrape the data you have to go through following steps:\n",
    "1.\tGo to Flipkart webpage by url : https://www.flipkart.com/\n",
    "2.\tEnter “sunglasses” in the search field where “search for products, brands andmore” is written and click the search icon\n",
    "3.\tAfter that you will reach to the page having a lot of sunglasses. From this pageyou can scrap the required data as usual.\n",
    "4.\tAfter scraping data from the first page, go to the “Next” Button at the bottom ofthe page , then click on it.\n",
    "5.\tNow scrape data from this page as usual\n",
    "6.\tRepeat this until you get data for 100 sunglasses.\n"
   ]
  },
  {
   "cell_type": "code",
   "execution_count": 3,
   "id": "cdd9244c",
   "metadata": {},
   "outputs": [],
   "source": [
    "driver = webdriver.Chrome(r'C:\\Users\\Khiro\\Downloads\\chromedriver_win32\\chromedriver')"
   ]
  },
  {
   "cell_type": "code",
   "execution_count": 4,
   "id": "35e3a2e8",
   "metadata": {},
   "outputs": [],
   "source": [
    "driver = webdriver.Chrome('chromedriver')"
   ]
  },
  {
   "cell_type": "code",
   "execution_count": 5,
   "id": "0a7c5ea5",
   "metadata": {},
   "outputs": [],
   "source": [
    "url = 'https://www.flipkart.com/'\n",
    "driver.get(url)"
   ]
  },
  {
   "cell_type": "code",
   "execution_count": 6,
   "id": "ba520603",
   "metadata": {},
   "outputs": [
    {
     "data": {
      "text/plain": [
       "<selenium.webdriver.remote.webelement.WebElement (session=\"bfcada250afb69026053f51109af3d12\", element=\"3e3ca273-0738-40cc-8de7-380a0cd9cd73\")>"
      ]
     },
     "execution_count": 6,
     "metadata": {},
     "output_type": "execute_result"
    }
   ],
   "source": [
    "search_titles = driver.find_element_by_xpath('/html/body/div[1]/div/div[1]/div[1]/div[2]/div[2]/form/div/div/input')\n",
    "search_titles"
   ]
  },
  {
   "cell_type": "code",
   "execution_count": 7,
   "id": "a7d0af16",
   "metadata": {},
   "outputs": [],
   "source": [
    "search_titles.send_keys(\"sunglasses\")"
   ]
  },
  {
   "cell_type": "code",
   "execution_count": 8,
   "id": "e2786416",
   "metadata": {},
   "outputs": [
    {
     "data": {
      "text/plain": [
       "[<selenium.webdriver.remote.webelement.WebElement (session=\"bfcada250afb69026053f51109af3d12\", element=\"3e3ca273-0738-40cc-8de7-380a0cd9cd73\")>]"
      ]
     },
     "execution_count": 8,
     "metadata": {},
     "output_type": "execute_result"
    }
   ],
   "source": [
    "search_btn = driver.find_elements_by_xpath('/html/body/div/div/div[1]/div[1]/div[2]/div[2]/form/div/div/input')\n",
    "search_btn"
   ]
  },
  {
   "cell_type": "code",
   "execution_count": 12,
   "id": "5082533b",
   "metadata": {},
   "outputs": [],
   "source": [
    "search_titles.send_keys()"
   ]
  },
  {
   "cell_type": "code",
   "execution_count": 27,
   "id": "fcd2e3eb",
   "metadata": {},
   "outputs": [
    {
     "data": {
      "text/plain": [
       "[<selenium.webdriver.remote.webelement.WebElement (session=\"bfcada250afb69026053f51109af3d12\", element=\"fd4d573b-227f-4124-b75f-d376b0561108\")>,\n",
       " <selenium.webdriver.remote.webelement.WebElement (session=\"bfcada250afb69026053f51109af3d12\", element=\"62c807b5-fa5d-4db0-a957-f2da2dc73179\")>,\n",
       " <selenium.webdriver.remote.webelement.WebElement (session=\"bfcada250afb69026053f51109af3d12\", element=\"a0f091a4-ed42-4341-83ea-b330f3bffa59\")>,\n",
       " <selenium.webdriver.remote.webelement.WebElement (session=\"bfcada250afb69026053f51109af3d12\", element=\"a86f90ce-cd28-4bc2-8660-db5f1d450f6c\")>,\n",
       " <selenium.webdriver.remote.webelement.WebElement (session=\"bfcada250afb69026053f51109af3d12\", element=\"459e6d19-3142-470b-8e58-20ac90e5d0a4\")>,\n",
       " <selenium.webdriver.remote.webelement.WebElement (session=\"bfcada250afb69026053f51109af3d12\", element=\"b5adde61-d728-4564-9393-249b361018c0\")>,\n",
       " <selenium.webdriver.remote.webelement.WebElement (session=\"bfcada250afb69026053f51109af3d12\", element=\"97a9f25a-51c7-4cb0-a106-dee7af16c0db\")>,\n",
       " <selenium.webdriver.remote.webelement.WebElement (session=\"bfcada250afb69026053f51109af3d12\", element=\"23576fd9-f262-4be3-b6bf-deb5a88ec18a\")>,\n",
       " <selenium.webdriver.remote.webelement.WebElement (session=\"bfcada250afb69026053f51109af3d12\", element=\"4490a894-ee97-4153-9ac6-56d42bea1e1b\")>,\n",
       " <selenium.webdriver.remote.webelement.WebElement (session=\"bfcada250afb69026053f51109af3d12\", element=\"b52f2416-afdd-48cc-a80c-2e1bdc7eac56\")>,\n",
       " <selenium.webdriver.remote.webelement.WebElement (session=\"bfcada250afb69026053f51109af3d12\", element=\"a3bec995-3085-4b37-adbb-b74b035ca9e3\")>,\n",
       " <selenium.webdriver.remote.webelement.WebElement (session=\"bfcada250afb69026053f51109af3d12\", element=\"de33e930-b601-4d24-8b6e-ff0553456dc6\")>,\n",
       " <selenium.webdriver.remote.webelement.WebElement (session=\"bfcada250afb69026053f51109af3d12\", element=\"49210e8e-604d-4469-8476-dcdb07610bf0\")>,\n",
       " <selenium.webdriver.remote.webelement.WebElement (session=\"bfcada250afb69026053f51109af3d12\", element=\"a9f47c16-1480-44d6-b3da-a18649a3feae\")>,\n",
       " <selenium.webdriver.remote.webelement.WebElement (session=\"bfcada250afb69026053f51109af3d12\", element=\"3bc7ddf1-4e7e-436c-b2a8-4097e9446407\")>,\n",
       " <selenium.webdriver.remote.webelement.WebElement (session=\"bfcada250afb69026053f51109af3d12\", element=\"e08df03d-1b55-42df-a9ff-835e1ede21ae\")>,\n",
       " <selenium.webdriver.remote.webelement.WebElement (session=\"bfcada250afb69026053f51109af3d12\", element=\"ed88b004-073a-467e-93df-07e4003bf9a9\")>,\n",
       " <selenium.webdriver.remote.webelement.WebElement (session=\"bfcada250afb69026053f51109af3d12\", element=\"1e556041-377f-45cf-8be2-45625d8579d0\")>,\n",
       " <selenium.webdriver.remote.webelement.WebElement (session=\"bfcada250afb69026053f51109af3d12\", element=\"055767aa-dd41-4f13-af1f-5c3b9515ba55\")>,\n",
       " <selenium.webdriver.remote.webelement.WebElement (session=\"bfcada250afb69026053f51109af3d12\", element=\"8b6889fc-f488-43c2-a941-8940ed495be2\")>,\n",
       " <selenium.webdriver.remote.webelement.WebElement (session=\"bfcada250afb69026053f51109af3d12\", element=\"faeac151-bab8-4184-a146-e7bdc5d54e1b\")>,\n",
       " <selenium.webdriver.remote.webelement.WebElement (session=\"bfcada250afb69026053f51109af3d12\", element=\"ddf37c48-286e-4558-b155-11587f6ebb9f\")>,\n",
       " <selenium.webdriver.remote.webelement.WebElement (session=\"bfcada250afb69026053f51109af3d12\", element=\"5c6ff93e-2920-47c4-ad54-6b9f6ca0cd71\")>,\n",
       " <selenium.webdriver.remote.webelement.WebElement (session=\"bfcada250afb69026053f51109af3d12\", element=\"1165b1bf-36a2-4c32-9ca9-54a683701969\")>,\n",
       " <selenium.webdriver.remote.webelement.WebElement (session=\"bfcada250afb69026053f51109af3d12\", element=\"fa390d08-ab57-41a0-b49c-5eca7ca60d5d\")>,\n",
       " <selenium.webdriver.remote.webelement.WebElement (session=\"bfcada250afb69026053f51109af3d12\", element=\"107f715b-7e8a-451b-86c0-65ff65ffd075\")>,\n",
       " <selenium.webdriver.remote.webelement.WebElement (session=\"bfcada250afb69026053f51109af3d12\", element=\"d3965a13-f01b-4595-8109-1c09fe6e7fcb\")>,\n",
       " <selenium.webdriver.remote.webelement.WebElement (session=\"bfcada250afb69026053f51109af3d12\", element=\"f9bd94d2-9ff3-4e51-8d94-fab139b7b458\")>,\n",
       " <selenium.webdriver.remote.webelement.WebElement (session=\"bfcada250afb69026053f51109af3d12\", element=\"88b0314a-52da-428d-b948-f9b080623fbc\")>,\n",
       " <selenium.webdriver.remote.webelement.WebElement (session=\"bfcada250afb69026053f51109af3d12\", element=\"53468260-f247-4f16-bbfa-2cac389851a8\")>,\n",
       " <selenium.webdriver.remote.webelement.WebElement (session=\"bfcada250afb69026053f51109af3d12\", element=\"732297cc-040f-4790-a6aa-ad7a0cad98e3\")>,\n",
       " <selenium.webdriver.remote.webelement.WebElement (session=\"bfcada250afb69026053f51109af3d12\", element=\"6ec1794e-c803-4194-b7f2-8e623183faa2\")>,\n",
       " <selenium.webdriver.remote.webelement.WebElement (session=\"bfcada250afb69026053f51109af3d12\", element=\"ddd877f4-6f1c-48bd-9383-df414f8e9bc3\")>,\n",
       " <selenium.webdriver.remote.webelement.WebElement (session=\"bfcada250afb69026053f51109af3d12\", element=\"8dc064bc-0d11-40ff-ad7b-d727b4ccdb3b\")>,\n",
       " <selenium.webdriver.remote.webelement.WebElement (session=\"bfcada250afb69026053f51109af3d12\", element=\"e8802115-3e9a-4ba4-bf9a-d8021010f609\")>,\n",
       " <selenium.webdriver.remote.webelement.WebElement (session=\"bfcada250afb69026053f51109af3d12\", element=\"6f629d07-0c7d-44f4-afc8-f132397eb7ea\")>,\n",
       " <selenium.webdriver.remote.webelement.WebElement (session=\"bfcada250afb69026053f51109af3d12\", element=\"6085a93d-7465-49d4-818c-24e4665a95ea\")>,\n",
       " <selenium.webdriver.remote.webelement.WebElement (session=\"bfcada250afb69026053f51109af3d12\", element=\"656b8efe-908d-4ddb-bdd6-79ee8e02603c\")>,\n",
       " <selenium.webdriver.remote.webelement.WebElement (session=\"bfcada250afb69026053f51109af3d12\", element=\"e5bde7b2-b1e8-4ad4-ac55-a3c92a378795\")>,\n",
       " <selenium.webdriver.remote.webelement.WebElement (session=\"bfcada250afb69026053f51109af3d12\", element=\"9c672592-0fde-41cb-83e7-834e4b903e18\")>]"
      ]
     },
     "execution_count": 27,
     "metadata": {},
     "output_type": "execute_result"
    }
   ],
   "source": [
    "brand_tags = driver.find_elements_by_xpath('//a[@class=\"s1Q9rs\"]')\n",
    "len(brand_tags)\n",
    "brand_tags[0:100]"
   ]
  },
  {
   "cell_type": "code",
   "execution_count": 28,
   "id": "746aeae9",
   "metadata": {},
   "outputs": [
    {
     "data": {
      "text/plain": [
       "['I Flash Aviator Sunglasses',\n",
       " 'VILENRAY Clubmaster Sunglasses',\n",
       " 'Elligator Round Sunglasses',\n",
       " 'PIRASO Aviator Sunglasses',\n",
       " 'SRPM Wayfarer Sunglasses',\n",
       " 'kingsunglasses Round Sunglasses',\n",
       " 'Fastrack Wayfarer Sunglasses',\n",
       " 'I Flash Round Sunglasses',\n",
       " 'SHAAH COLLECTIONS Rectangular Sunglasses',\n",
       " 'PIRASO Aviator Sunglasses',\n",
       " 'New Specs Rectangular Sunglasses',\n",
       " 'Singco India Retro Square, Over-sized Sunglasses',\n",
       " 'SUNBEE Round Sunglasses',\n",
       " 'New Specs Round Sunglasses',\n",
       " 'kingsunglasses Wayfarer Sunglasses',\n",
       " 'I Flash Aviator, Round Sunglasses',\n",
       " 'ROZZETTA CRAFT Retro Square Sunglasses',\n",
       " 'PHENOMENAL Retro Square Sunglasses',\n",
       " 'Lee Topper Wrap-around Sunglasses',\n",
       " 'Silver Kartz Aviator Sunglasses',\n",
       " 'SHAAH COLLECTIONS Rectangular Sunglasses',\n",
       " 'ROZZETTA CRAFT Rectangular Sunglasses',\n",
       " 'PIRASO Wayfarer Sunglasses',\n",
       " 'funglasses Round, Round Sunglasses',\n",
       " 'DAHAAZIL Wayfarer, Wayfarer, Wayfarer Sunglasses',\n",
       " 'Elligator Round Sunglasses',\n",
       " 'Fastrack Wayfarer Sunglasses',\n",
       " 'ROZZETTA CRAFT Spectacle Sunglasses',\n",
       " 'SUNBEE Wayfarer Sunglasses',\n",
       " 'New Specs Round Sunglasses',\n",
       " 'PIRASO Aviator Sunglasses',\n",
       " 'I Flash Round Sunglasses',\n",
       " 'hipe Aviator Sunglasses',\n",
       " 'ROYAL SON Aviator Sunglasses',\n",
       " 'Dcmr Retro Square Sunglasses',\n",
       " 'ARICKS Round Sunglasses',\n",
       " 'PHENOMENAL Retro Square Sunglasses',\n",
       " 'IZAAN MART Aviator Sunglasses',\n",
       " 'PHENOMENAL Retro Square Sunglasses',\n",
       " 'ROZZETTA CRAFT Retro Square Sunglasses']"
      ]
     },
     "execution_count": 28,
     "metadata": {},
     "output_type": "execute_result"
    }
   ],
   "source": [
    "brand = []\n",
    "for i in brand_tags:\n",
    "    brand.append(i.text)\n",
    "len(brand)\n",
    "brand[0:100]"
   ]
  },
  {
   "cell_type": "code",
   "execution_count": 31,
   "id": "df7661c6",
   "metadata": {},
   "outputs": [
    {
     "data": {
      "text/plain": [
       "[<selenium.webdriver.remote.webelement.WebElement (session=\"bfcada250afb69026053f51109af3d12\", element=\"06ef1c14-a0bf-4e23-9856-993edbe63be1\")>,\n",
       " <selenium.webdriver.remote.webelement.WebElement (session=\"bfcada250afb69026053f51109af3d12\", element=\"8516c2e8-6635-4d63-83a9-98ae8c6de8bf\")>,\n",
       " <selenium.webdriver.remote.webelement.WebElement (session=\"bfcada250afb69026053f51109af3d12\", element=\"cd83bd8f-b03f-4bb8-9ebe-8ec6fe8fc6c0\")>,\n",
       " <selenium.webdriver.remote.webelement.WebElement (session=\"bfcada250afb69026053f51109af3d12\", element=\"53c1e431-ede7-4d8e-ae12-8d7c346d607e\")>,\n",
       " <selenium.webdriver.remote.webelement.WebElement (session=\"bfcada250afb69026053f51109af3d12\", element=\"36560cdf-c166-4681-a5ad-3536839af23f\")>,\n",
       " <selenium.webdriver.remote.webelement.WebElement (session=\"bfcada250afb69026053f51109af3d12\", element=\"1b64ca16-d4b6-4e73-81b3-d3e7422c47ff\")>,\n",
       " <selenium.webdriver.remote.webelement.WebElement (session=\"bfcada250afb69026053f51109af3d12\", element=\"f336f73c-292b-4089-b625-a9eed17e104c\")>,\n",
       " <selenium.webdriver.remote.webelement.WebElement (session=\"bfcada250afb69026053f51109af3d12\", element=\"58155a0f-ea33-4ac9-99cd-9e3bf651df44\")>,\n",
       " <selenium.webdriver.remote.webelement.WebElement (session=\"bfcada250afb69026053f51109af3d12\", element=\"138d26c6-b42b-4339-b90e-4830f92a9144\")>,\n",
       " <selenium.webdriver.remote.webelement.WebElement (session=\"bfcada250afb69026053f51109af3d12\", element=\"d96e795a-1416-4dd3-9b01-b4e59eb85dc7\")>,\n",
       " <selenium.webdriver.remote.webelement.WebElement (session=\"bfcada250afb69026053f51109af3d12\", element=\"ef056c99-feed-423a-a6ba-af96c4f8a09b\")>,\n",
       " <selenium.webdriver.remote.webelement.WebElement (session=\"bfcada250afb69026053f51109af3d12\", element=\"627ab104-b8d5-4676-a2e3-5ab9a0e3ca68\")>,\n",
       " <selenium.webdriver.remote.webelement.WebElement (session=\"bfcada250afb69026053f51109af3d12\", element=\"2eb5d0f6-a56b-4686-8159-d17c505d38df\")>,\n",
       " <selenium.webdriver.remote.webelement.WebElement (session=\"bfcada250afb69026053f51109af3d12\", element=\"0bd01e7f-856a-47ab-8bf9-d3a29258e6a5\")>,\n",
       " <selenium.webdriver.remote.webelement.WebElement (session=\"bfcada250afb69026053f51109af3d12\", element=\"e4f570d1-b299-4128-a24a-f4dcccfd8d9f\")>,\n",
       " <selenium.webdriver.remote.webelement.WebElement (session=\"bfcada250afb69026053f51109af3d12\", element=\"bd566c58-0dcc-4f90-b3ab-9f9c7a97e5d1\")>,\n",
       " <selenium.webdriver.remote.webelement.WebElement (session=\"bfcada250afb69026053f51109af3d12\", element=\"12d78837-bf15-4b20-a02f-e98b2370c217\")>,\n",
       " <selenium.webdriver.remote.webelement.WebElement (session=\"bfcada250afb69026053f51109af3d12\", element=\"608cfe4c-013f-4b7c-8b09-3239734d29ee\")>,\n",
       " <selenium.webdriver.remote.webelement.WebElement (session=\"bfcada250afb69026053f51109af3d12\", element=\"5d544724-fe8b-4393-aacd-e79d0ba6461d\")>,\n",
       " <selenium.webdriver.remote.webelement.WebElement (session=\"bfcada250afb69026053f51109af3d12\", element=\"c908c5ac-50da-4089-92cd-40e0d831776f\")>,\n",
       " <selenium.webdriver.remote.webelement.WebElement (session=\"bfcada250afb69026053f51109af3d12\", element=\"093fa3d2-852a-44e8-80f9-9577bf517dba\")>,\n",
       " <selenium.webdriver.remote.webelement.WebElement (session=\"bfcada250afb69026053f51109af3d12\", element=\"c26e6c25-40ab-4c30-81ea-a602c02cdbdb\")>,\n",
       " <selenium.webdriver.remote.webelement.WebElement (session=\"bfcada250afb69026053f51109af3d12\", element=\"f618bb29-df29-4da5-a045-c324b4b036bd\")>,\n",
       " <selenium.webdriver.remote.webelement.WebElement (session=\"bfcada250afb69026053f51109af3d12\", element=\"af4434d0-f65e-4d35-94e7-9b8031a3cb41\")>,\n",
       " <selenium.webdriver.remote.webelement.WebElement (session=\"bfcada250afb69026053f51109af3d12\", element=\"ec69ec19-9d03-4795-9620-4cd163dfdc6b\")>,\n",
       " <selenium.webdriver.remote.webelement.WebElement (session=\"bfcada250afb69026053f51109af3d12\", element=\"b03d383f-09fb-449b-8acc-54f19a664a6d\")>,\n",
       " <selenium.webdriver.remote.webelement.WebElement (session=\"bfcada250afb69026053f51109af3d12\", element=\"67a90c0f-affb-4813-94cf-d43eeeae42c5\")>,\n",
       " <selenium.webdriver.remote.webelement.WebElement (session=\"bfcada250afb69026053f51109af3d12\", element=\"47679992-0c20-461b-8a32-12a711964450\")>,\n",
       " <selenium.webdriver.remote.webelement.WebElement (session=\"bfcada250afb69026053f51109af3d12\", element=\"1155c02a-c698-4120-aefa-12d29f064e23\")>,\n",
       " <selenium.webdriver.remote.webelement.WebElement (session=\"bfcada250afb69026053f51109af3d12\", element=\"afacc02d-a304-40ac-9a3c-80f8e046844e\")>,\n",
       " <selenium.webdriver.remote.webelement.WebElement (session=\"bfcada250afb69026053f51109af3d12\", element=\"47970934-804f-4496-98aa-6ae2a8e8afc6\")>,\n",
       " <selenium.webdriver.remote.webelement.WebElement (session=\"bfcada250afb69026053f51109af3d12\", element=\"a40f24cd-2004-459a-b1d6-8a849469e381\")>,\n",
       " <selenium.webdriver.remote.webelement.WebElement (session=\"bfcada250afb69026053f51109af3d12\", element=\"bad60ce2-9235-477d-bac5-754a54579a1a\")>,\n",
       " <selenium.webdriver.remote.webelement.WebElement (session=\"bfcada250afb69026053f51109af3d12\", element=\"65161d9d-6a76-4034-a79b-6e18122afb8b\")>,\n",
       " <selenium.webdriver.remote.webelement.WebElement (session=\"bfcada250afb69026053f51109af3d12\", element=\"67cf7aea-a193-4129-b41c-557862f21e8f\")>,\n",
       " <selenium.webdriver.remote.webelement.WebElement (session=\"bfcada250afb69026053f51109af3d12\", element=\"db83d113-b6d0-49c5-8c6b-038b3fb4ee36\")>,\n",
       " <selenium.webdriver.remote.webelement.WebElement (session=\"bfcada250afb69026053f51109af3d12\", element=\"93a70ab1-8758-47e7-b06e-e74229723629\")>,\n",
       " <selenium.webdriver.remote.webelement.WebElement (session=\"bfcada250afb69026053f51109af3d12\", element=\"b6ce6787-7532-4043-8a4c-fbcc1822f17c\")>,\n",
       " <selenium.webdriver.remote.webelement.WebElement (session=\"bfcada250afb69026053f51109af3d12\", element=\"a505ecaa-8b41-4138-8841-fd478ddd4a84\")>,\n",
       " <selenium.webdriver.remote.webelement.WebElement (session=\"bfcada250afb69026053f51109af3d12\", element=\"cab951fd-75b5-4389-b0ab-c3b687faec8f\")>]"
      ]
     },
     "execution_count": 31,
     "metadata": {},
     "output_type": "execute_result"
    }
   ],
   "source": [
    "product_tags = driver.find_elements_by_xpath(\"//div[@class='_3Djpdu']\")\n",
    "len(product_tags)\n",
    "product_tags[0:100]\n"
   ]
  },
  {
   "cell_type": "code",
   "execution_count": 32,
   "id": "2558d008",
   "metadata": {},
   "outputs": [
    {
     "data": {
      "text/plain": [
       "['For Boys & Girls, Clear',\n",
       " 'For Men & Women, Silver',\n",
       " 'For Men & Women, Multicolor',\n",
       " 'For Men & Women, Black',\n",
       " 'For Men & Women, Clear, Black, Brown',\n",
       " 'For Men & Women, Clear',\n",
       " 'For Men, Green',\n",
       " 'For Boys & Girls, Blue, Clear',\n",
       " 'For Men & Women, Black',\n",
       " 'For Men & Women, Black, Golden',\n",
       " 'For Men & Women, Red, Black, Yellow, Blue, Black',\n",
       " 'For Men & Women, Blue',\n",
       " 'For Men & Women, Red, Blue, Pink, Blue, Yellow, Black',\n",
       " 'For Men & Women, Black, Blue, Red, Yellow, Blue',\n",
       " 'For Men & Women, Blue, Clear, Green, Black, Brown, Silver',\n",
       " 'For Boys & Girls, Clear, Clear',\n",
       " 'For Men & Women, Blue',\n",
       " 'For Men & Women, Yellow, Red',\n",
       " 'For Men & Women, Yellow',\n",
       " 'For Men & Women, Black, Green',\n",
       " 'For Men & Women, Black',\n",
       " 'For Men & Women, Blue',\n",
       " 'For Men & Women, Black',\n",
       " 'For Men & Women, Clear, Clear',\n",
       " 'For Boys & Girls, Black, Clear, Brown',\n",
       " 'For Men & Women, Red, Yellow, Blue',\n",
       " 'For Men, Green',\n",
       " 'For Men & Women, Clear',\n",
       " 'For Men, Red, Brown, Clear, Green, Blue, Black, Violet',\n",
       " 'For Men & Women, Red, Black, Silver, Blue',\n",
       " 'For Men & Women, Green',\n",
       " 'For Men & Women, Golden, Black, Silver, Clear',\n",
       " 'For Men & Women, Blue',\n",
       " 'For Men, Black, Brown',\n",
       " 'For Men, Red, Yellow, Black',\n",
       " 'For Men & Women, Clear',\n",
       " 'For Men & Women, Red, Black',\n",
       " 'For Men & Women, Blue, Clear',\n",
       " 'For Men & Women, Black',\n",
       " 'For Women, Black']"
      ]
     },
     "execution_count": 32,
     "metadata": {},
     "output_type": "execute_result"
    }
   ],
   "source": [
    "product = []\n",
    "for i in product_tags:\n",
    "    product.append(i.text)\n",
    "len(product)\n",
    "product[0:100]"
   ]
  },
  {
   "cell_type": "code",
   "execution_count": 33,
   "id": "5ef935a5",
   "metadata": {},
   "outputs": [
    {
     "data": {
      "text/plain": [
       "[<selenium.webdriver.remote.webelement.WebElement (session=\"bfcada250afb69026053f51109af3d12\", element=\"345854d3-5e67-4f9d-855b-1d063c516458\")>,\n",
       " <selenium.webdriver.remote.webelement.WebElement (session=\"bfcada250afb69026053f51109af3d12\", element=\"5cf3bdda-68ab-4106-9266-aed2279fb932\")>,\n",
       " <selenium.webdriver.remote.webelement.WebElement (session=\"bfcada250afb69026053f51109af3d12\", element=\"297dde39-0279-45b1-bb8c-b831ed8893f1\")>,\n",
       " <selenium.webdriver.remote.webelement.WebElement (session=\"bfcada250afb69026053f51109af3d12\", element=\"a007ef29-e430-4d86-ad3e-2bb98c65941c\")>,\n",
       " <selenium.webdriver.remote.webelement.WebElement (session=\"bfcada250afb69026053f51109af3d12\", element=\"a6fec819-1a76-4476-9243-b3907839aa10\")>,\n",
       " <selenium.webdriver.remote.webelement.WebElement (session=\"bfcada250afb69026053f51109af3d12\", element=\"0c7efed0-4caa-4182-a8b4-2361241f2f84\")>,\n",
       " <selenium.webdriver.remote.webelement.WebElement (session=\"bfcada250afb69026053f51109af3d12\", element=\"4e0bdc12-18a8-4824-bdfb-f3367f6ef4ac\")>,\n",
       " <selenium.webdriver.remote.webelement.WebElement (session=\"bfcada250afb69026053f51109af3d12\", element=\"c8611ad0-936c-4ac2-8cff-e17986d1d5fa\")>,\n",
       " <selenium.webdriver.remote.webelement.WebElement (session=\"bfcada250afb69026053f51109af3d12\", element=\"18db0221-4dbd-476e-b7f2-dc6aa6255672\")>,\n",
       " <selenium.webdriver.remote.webelement.WebElement (session=\"bfcada250afb69026053f51109af3d12\", element=\"def0f4db-87ef-4046-8827-94a53d41816e\")>,\n",
       " <selenium.webdriver.remote.webelement.WebElement (session=\"bfcada250afb69026053f51109af3d12\", element=\"bc962a90-326b-418d-9215-297e3740a7b0\")>,\n",
       " <selenium.webdriver.remote.webelement.WebElement (session=\"bfcada250afb69026053f51109af3d12\", element=\"5cf489ef-19bb-4528-8993-6d95eb6d4251\")>,\n",
       " <selenium.webdriver.remote.webelement.WebElement (session=\"bfcada250afb69026053f51109af3d12\", element=\"c8a77876-1bf9-4198-96b6-ffcf9857e841\")>,\n",
       " <selenium.webdriver.remote.webelement.WebElement (session=\"bfcada250afb69026053f51109af3d12\", element=\"51576a26-3791-4a3a-8106-fe2ef60edbd8\")>,\n",
       " <selenium.webdriver.remote.webelement.WebElement (session=\"bfcada250afb69026053f51109af3d12\", element=\"ee2c941a-605e-4b70-83fe-757e7be192ed\")>,\n",
       " <selenium.webdriver.remote.webelement.WebElement (session=\"bfcada250afb69026053f51109af3d12\", element=\"db58c22f-5d6b-42ac-88b9-d90732cd4e26\")>,\n",
       " <selenium.webdriver.remote.webelement.WebElement (session=\"bfcada250afb69026053f51109af3d12\", element=\"fa0e4444-28ce-4492-9180-50b3474ea08a\")>,\n",
       " <selenium.webdriver.remote.webelement.WebElement (session=\"bfcada250afb69026053f51109af3d12\", element=\"36eb4fcc-71b0-472a-a948-1959f2627693\")>,\n",
       " <selenium.webdriver.remote.webelement.WebElement (session=\"bfcada250afb69026053f51109af3d12\", element=\"72df19a1-b0b3-4e93-98dd-1e927bbe2707\")>,\n",
       " <selenium.webdriver.remote.webelement.WebElement (session=\"bfcada250afb69026053f51109af3d12\", element=\"245d674c-f494-4c34-9910-a3c05e5be302\")>,\n",
       " <selenium.webdriver.remote.webelement.WebElement (session=\"bfcada250afb69026053f51109af3d12\", element=\"92003b74-7bb1-4079-b7b7-0762c2435852\")>,\n",
       " <selenium.webdriver.remote.webelement.WebElement (session=\"bfcada250afb69026053f51109af3d12\", element=\"1b24a945-8996-4f22-8982-cae3280c4176\")>,\n",
       " <selenium.webdriver.remote.webelement.WebElement (session=\"bfcada250afb69026053f51109af3d12\", element=\"0d6c7dda-bac6-46a4-956a-8f3b88eb1246\")>,\n",
       " <selenium.webdriver.remote.webelement.WebElement (session=\"bfcada250afb69026053f51109af3d12\", element=\"8979d6fc-6546-4448-922f-16b83247cf61\")>,\n",
       " <selenium.webdriver.remote.webelement.WebElement (session=\"bfcada250afb69026053f51109af3d12\", element=\"e6055a26-7ded-4e2b-91b5-4364ff6d5b9a\")>,\n",
       " <selenium.webdriver.remote.webelement.WebElement (session=\"bfcada250afb69026053f51109af3d12\", element=\"f75fb80e-4187-4ec5-8094-ec2384ad4f78\")>,\n",
       " <selenium.webdriver.remote.webelement.WebElement (session=\"bfcada250afb69026053f51109af3d12\", element=\"d86975eb-cc5a-4bcc-b8d7-af46f5c0db05\")>,\n",
       " <selenium.webdriver.remote.webelement.WebElement (session=\"bfcada250afb69026053f51109af3d12\", element=\"9f0cb9b9-17f1-48a6-afef-a64094d0a184\")>,\n",
       " <selenium.webdriver.remote.webelement.WebElement (session=\"bfcada250afb69026053f51109af3d12\", element=\"c9ca47b9-c465-4c9e-9cb1-8524afb87b37\")>,\n",
       " <selenium.webdriver.remote.webelement.WebElement (session=\"bfcada250afb69026053f51109af3d12\", element=\"98f1e2db-43b1-44f0-8d6b-0a0557c67d3e\")>,\n",
       " <selenium.webdriver.remote.webelement.WebElement (session=\"bfcada250afb69026053f51109af3d12\", element=\"f2da2017-fbfc-4217-a33c-18ec8c6af68d\")>,\n",
       " <selenium.webdriver.remote.webelement.WebElement (session=\"bfcada250afb69026053f51109af3d12\", element=\"9d0d832b-0579-44cc-85a5-b2bd348a83cc\")>,\n",
       " <selenium.webdriver.remote.webelement.WebElement (session=\"bfcada250afb69026053f51109af3d12\", element=\"e3ebe08a-a3ec-4ccb-aca1-d068ee2a069c\")>,\n",
       " <selenium.webdriver.remote.webelement.WebElement (session=\"bfcada250afb69026053f51109af3d12\", element=\"687d462d-892c-4cc6-87ba-5e06345128b0\")>,\n",
       " <selenium.webdriver.remote.webelement.WebElement (session=\"bfcada250afb69026053f51109af3d12\", element=\"0b144cbf-d1bd-46ce-a3cc-e590ec52d209\")>,\n",
       " <selenium.webdriver.remote.webelement.WebElement (session=\"bfcada250afb69026053f51109af3d12\", element=\"7df7b4e5-7c75-442e-a0b0-dbb2549eaae0\")>,\n",
       " <selenium.webdriver.remote.webelement.WebElement (session=\"bfcada250afb69026053f51109af3d12\", element=\"3cdb93d7-fda8-4a58-9f03-8b19864b192d\")>,\n",
       " <selenium.webdriver.remote.webelement.WebElement (session=\"bfcada250afb69026053f51109af3d12\", element=\"01980ee8-d233-41ad-8936-6f2620d14aae\")>,\n",
       " <selenium.webdriver.remote.webelement.WebElement (session=\"bfcada250afb69026053f51109af3d12\", element=\"eca7dee4-7661-4f2a-8231-ce04003ea794\")>,\n",
       " <selenium.webdriver.remote.webelement.WebElement (session=\"bfcada250afb69026053f51109af3d12\", element=\"e5321456-d0a4-4bbd-b0c9-51d7d2a8222c\")>]"
      ]
     },
     "execution_count": 33,
     "metadata": {},
     "output_type": "execute_result"
    }
   ],
   "source": [
    "price_tags = driver.find_elements_by_xpath('//div[@class=\"_30jeq3\"]')\n",
    "len(price_tags)\n",
    "price_tags[0:100]"
   ]
  },
  {
   "cell_type": "code",
   "execution_count": 34,
   "id": "662f62a0",
   "metadata": {},
   "outputs": [
    {
     "data": {
      "text/plain": [
       "['₹134',\n",
       " '₹499',\n",
       " '₹248',\n",
       " '₹200',\n",
       " '₹198',\n",
       " '₹188',\n",
       " '₹720',\n",
       " '₹130',\n",
       " '₹165',\n",
       " '₹200',\n",
       " '₹259',\n",
       " '₹599',\n",
       " '₹271',\n",
       " '₹262',\n",
       " '₹273',\n",
       " '₹179',\n",
       " '₹474',\n",
       " '₹309',\n",
       " '₹276',\n",
       " '₹255',\n",
       " '₹181',\n",
       " '₹383',\n",
       " '₹190',\n",
       " '₹161',\n",
       " '₹176',\n",
       " '₹189',\n",
       " '₹483',\n",
       " '₹449',\n",
       " '₹243',\n",
       " '₹233',\n",
       " '₹200',\n",
       " '₹179',\n",
       " '₹178',\n",
       " '₹359',\n",
       " '₹421',\n",
       " '₹117',\n",
       " '₹299',\n",
       " '₹395',\n",
       " '₹299',\n",
       " '₹349']"
      ]
     },
     "execution_count": 34,
     "metadata": {},
     "output_type": "execute_result"
    }
   ],
   "source": [
    "price = []\n",
    "for i in price_tags:\n",
    "    price.append(i.text)\n",
    "len(price)\n",
    "price[0:100]"
   ]
  },
  {
   "cell_type": "code",
   "execution_count": 35,
   "id": "e37abe39",
   "metadata": {},
   "outputs": [
    {
     "data": {
      "text/plain": [
       "(40, 40, 40)"
      ]
     },
     "execution_count": 35,
     "metadata": {},
     "output_type": "execute_result"
    }
   ],
   "source": [
    "len(brand),len(product),len(price)"
   ]
  },
  {
   "cell_type": "code",
   "execution_count": 36,
   "id": "352bf909",
   "metadata": {},
   "outputs": [
    {
     "data": {
      "text/html": [
       "<div>\n",
       "<style scoped>\n",
       "    .dataframe tbody tr th:only-of-type {\n",
       "        vertical-align: middle;\n",
       "    }\n",
       "\n",
       "    .dataframe tbody tr th {\n",
       "        vertical-align: top;\n",
       "    }\n",
       "\n",
       "    .dataframe thead th {\n",
       "        text-align: right;\n",
       "    }\n",
       "</style>\n",
       "<table border=\"1\" class=\"dataframe\">\n",
       "  <thead>\n",
       "    <tr style=\"text-align: right;\">\n",
       "      <th></th>\n",
       "      <th>brand_tags</th>\n",
       "      <th>product_tags</th>\n",
       "      <th>price_tags</th>\n",
       "    </tr>\n",
       "  </thead>\n",
       "  <tbody>\n",
       "    <tr>\n",
       "      <th>0</th>\n",
       "      <td>I Flash Aviator Sunglasses</td>\n",
       "      <td>For Boys &amp; Girls, Clear</td>\n",
       "      <td>₹134</td>\n",
       "    </tr>\n",
       "    <tr>\n",
       "      <th>1</th>\n",
       "      <td>VILENRAY Clubmaster Sunglasses</td>\n",
       "      <td>For Men &amp; Women, Silver</td>\n",
       "      <td>₹499</td>\n",
       "    </tr>\n",
       "    <tr>\n",
       "      <th>2</th>\n",
       "      <td>Elligator Round Sunglasses</td>\n",
       "      <td>For Men &amp; Women, Multicolor</td>\n",
       "      <td>₹248</td>\n",
       "    </tr>\n",
       "    <tr>\n",
       "      <th>3</th>\n",
       "      <td>PIRASO Aviator Sunglasses</td>\n",
       "      <td>For Men &amp; Women, Black</td>\n",
       "      <td>₹200</td>\n",
       "    </tr>\n",
       "    <tr>\n",
       "      <th>4</th>\n",
       "      <td>SRPM Wayfarer Sunglasses</td>\n",
       "      <td>For Men &amp; Women, Clear, Black, Brown</td>\n",
       "      <td>₹198</td>\n",
       "    </tr>\n",
       "    <tr>\n",
       "      <th>5</th>\n",
       "      <td>kingsunglasses Round Sunglasses</td>\n",
       "      <td>For Men &amp; Women, Clear</td>\n",
       "      <td>₹188</td>\n",
       "    </tr>\n",
       "    <tr>\n",
       "      <th>6</th>\n",
       "      <td>Fastrack Wayfarer Sunglasses</td>\n",
       "      <td>For Men, Green</td>\n",
       "      <td>₹720</td>\n",
       "    </tr>\n",
       "    <tr>\n",
       "      <th>7</th>\n",
       "      <td>I Flash Round Sunglasses</td>\n",
       "      <td>For Boys &amp; Girls, Blue, Clear</td>\n",
       "      <td>₹130</td>\n",
       "    </tr>\n",
       "    <tr>\n",
       "      <th>8</th>\n",
       "      <td>SHAAH COLLECTIONS Rectangular Sunglasses</td>\n",
       "      <td>For Men &amp; Women, Black</td>\n",
       "      <td>₹165</td>\n",
       "    </tr>\n",
       "    <tr>\n",
       "      <th>9</th>\n",
       "      <td>PIRASO Aviator Sunglasses</td>\n",
       "      <td>For Men &amp; Women, Black, Golden</td>\n",
       "      <td>₹200</td>\n",
       "    </tr>\n",
       "    <tr>\n",
       "      <th>10</th>\n",
       "      <td>New Specs Rectangular Sunglasses</td>\n",
       "      <td>For Men &amp; Women, Red, Black, Yellow, Blue, Black</td>\n",
       "      <td>₹259</td>\n",
       "    </tr>\n",
       "    <tr>\n",
       "      <th>11</th>\n",
       "      <td>Singco India Retro Square, Over-sized Sunglasses</td>\n",
       "      <td>For Men &amp; Women, Blue</td>\n",
       "      <td>₹599</td>\n",
       "    </tr>\n",
       "    <tr>\n",
       "      <th>12</th>\n",
       "      <td>SUNBEE Round Sunglasses</td>\n",
       "      <td>For Men &amp; Women, Red, Blue, Pink, Blue, Yellow...</td>\n",
       "      <td>₹271</td>\n",
       "    </tr>\n",
       "    <tr>\n",
       "      <th>13</th>\n",
       "      <td>New Specs Round Sunglasses</td>\n",
       "      <td>For Men &amp; Women, Black, Blue, Red, Yellow, Blue</td>\n",
       "      <td>₹262</td>\n",
       "    </tr>\n",
       "    <tr>\n",
       "      <th>14</th>\n",
       "      <td>kingsunglasses Wayfarer Sunglasses</td>\n",
       "      <td>For Men &amp; Women, Blue, Clear, Green, Black, Br...</td>\n",
       "      <td>₹273</td>\n",
       "    </tr>\n",
       "    <tr>\n",
       "      <th>15</th>\n",
       "      <td>I Flash Aviator, Round Sunglasses</td>\n",
       "      <td>For Boys &amp; Girls, Clear, Clear</td>\n",
       "      <td>₹179</td>\n",
       "    </tr>\n",
       "    <tr>\n",
       "      <th>16</th>\n",
       "      <td>ROZZETTA CRAFT Retro Square Sunglasses</td>\n",
       "      <td>For Men &amp; Women, Blue</td>\n",
       "      <td>₹474</td>\n",
       "    </tr>\n",
       "    <tr>\n",
       "      <th>17</th>\n",
       "      <td>PHENOMENAL Retro Square Sunglasses</td>\n",
       "      <td>For Men &amp; Women, Yellow, Red</td>\n",
       "      <td>₹309</td>\n",
       "    </tr>\n",
       "    <tr>\n",
       "      <th>18</th>\n",
       "      <td>Lee Topper Wrap-around Sunglasses</td>\n",
       "      <td>For Men &amp; Women, Yellow</td>\n",
       "      <td>₹276</td>\n",
       "    </tr>\n",
       "    <tr>\n",
       "      <th>19</th>\n",
       "      <td>Silver Kartz Aviator Sunglasses</td>\n",
       "      <td>For Men &amp; Women, Black, Green</td>\n",
       "      <td>₹255</td>\n",
       "    </tr>\n",
       "    <tr>\n",
       "      <th>20</th>\n",
       "      <td>SHAAH COLLECTIONS Rectangular Sunglasses</td>\n",
       "      <td>For Men &amp; Women, Black</td>\n",
       "      <td>₹181</td>\n",
       "    </tr>\n",
       "    <tr>\n",
       "      <th>21</th>\n",
       "      <td>ROZZETTA CRAFT Rectangular Sunglasses</td>\n",
       "      <td>For Men &amp; Women, Blue</td>\n",
       "      <td>₹383</td>\n",
       "    </tr>\n",
       "    <tr>\n",
       "      <th>22</th>\n",
       "      <td>PIRASO Wayfarer Sunglasses</td>\n",
       "      <td>For Men &amp; Women, Black</td>\n",
       "      <td>₹190</td>\n",
       "    </tr>\n",
       "    <tr>\n",
       "      <th>23</th>\n",
       "      <td>funglasses Round, Round Sunglasses</td>\n",
       "      <td>For Men &amp; Women, Clear, Clear</td>\n",
       "      <td>₹161</td>\n",
       "    </tr>\n",
       "    <tr>\n",
       "      <th>24</th>\n",
       "      <td>DAHAAZIL Wayfarer, Wayfarer, Wayfarer Sunglasses</td>\n",
       "      <td>For Boys &amp; Girls, Black, Clear, Brown</td>\n",
       "      <td>₹176</td>\n",
       "    </tr>\n",
       "    <tr>\n",
       "      <th>25</th>\n",
       "      <td>Elligator Round Sunglasses</td>\n",
       "      <td>For Men &amp; Women, Red, Yellow, Blue</td>\n",
       "      <td>₹189</td>\n",
       "    </tr>\n",
       "    <tr>\n",
       "      <th>26</th>\n",
       "      <td>Fastrack Wayfarer Sunglasses</td>\n",
       "      <td>For Men, Green</td>\n",
       "      <td>₹483</td>\n",
       "    </tr>\n",
       "    <tr>\n",
       "      <th>27</th>\n",
       "      <td>ROZZETTA CRAFT Spectacle Sunglasses</td>\n",
       "      <td>For Men &amp; Women, Clear</td>\n",
       "      <td>₹449</td>\n",
       "    </tr>\n",
       "    <tr>\n",
       "      <th>28</th>\n",
       "      <td>SUNBEE Wayfarer Sunglasses</td>\n",
       "      <td>For Men, Red, Brown, Clear, Green, Blue, Black...</td>\n",
       "      <td>₹243</td>\n",
       "    </tr>\n",
       "    <tr>\n",
       "      <th>29</th>\n",
       "      <td>New Specs Round Sunglasses</td>\n",
       "      <td>For Men &amp; Women, Red, Black, Silver, Blue</td>\n",
       "      <td>₹233</td>\n",
       "    </tr>\n",
       "    <tr>\n",
       "      <th>30</th>\n",
       "      <td>PIRASO Aviator Sunglasses</td>\n",
       "      <td>For Men &amp; Women, Green</td>\n",
       "      <td>₹200</td>\n",
       "    </tr>\n",
       "    <tr>\n",
       "      <th>31</th>\n",
       "      <td>I Flash Round Sunglasses</td>\n",
       "      <td>For Men &amp; Women, Golden, Black, Silver, Clear</td>\n",
       "      <td>₹179</td>\n",
       "    </tr>\n",
       "    <tr>\n",
       "      <th>32</th>\n",
       "      <td>hipe Aviator Sunglasses</td>\n",
       "      <td>For Men &amp; Women, Blue</td>\n",
       "      <td>₹178</td>\n",
       "    </tr>\n",
       "    <tr>\n",
       "      <th>33</th>\n",
       "      <td>ROYAL SON Aviator Sunglasses</td>\n",
       "      <td>For Men, Black, Brown</td>\n",
       "      <td>₹359</td>\n",
       "    </tr>\n",
       "    <tr>\n",
       "      <th>34</th>\n",
       "      <td>Dcmr Retro Square Sunglasses</td>\n",
       "      <td>For Men, Red, Yellow, Black</td>\n",
       "      <td>₹421</td>\n",
       "    </tr>\n",
       "    <tr>\n",
       "      <th>35</th>\n",
       "      <td>ARICKS Round Sunglasses</td>\n",
       "      <td>For Men &amp; Women, Clear</td>\n",
       "      <td>₹117</td>\n",
       "    </tr>\n",
       "    <tr>\n",
       "      <th>36</th>\n",
       "      <td>PHENOMENAL Retro Square Sunglasses</td>\n",
       "      <td>For Men &amp; Women, Red, Black</td>\n",
       "      <td>₹299</td>\n",
       "    </tr>\n",
       "    <tr>\n",
       "      <th>37</th>\n",
       "      <td>IZAAN MART Aviator Sunglasses</td>\n",
       "      <td>For Men &amp; Women, Blue, Clear</td>\n",
       "      <td>₹395</td>\n",
       "    </tr>\n",
       "    <tr>\n",
       "      <th>38</th>\n",
       "      <td>PHENOMENAL Retro Square Sunglasses</td>\n",
       "      <td>For Men &amp; Women, Black</td>\n",
       "      <td>₹299</td>\n",
       "    </tr>\n",
       "    <tr>\n",
       "      <th>39</th>\n",
       "      <td>ROZZETTA CRAFT Retro Square Sunglasses</td>\n",
       "      <td>For Women, Black</td>\n",
       "      <td>₹349</td>\n",
       "    </tr>\n",
       "  </tbody>\n",
       "</table>\n",
       "</div>"
      ],
      "text/plain": [
       "                                          brand_tags  \\\n",
       "0                         I Flash Aviator Sunglasses   \n",
       "1                     VILENRAY Clubmaster Sunglasses   \n",
       "2                         Elligator Round Sunglasses   \n",
       "3                          PIRASO Aviator Sunglasses   \n",
       "4                           SRPM Wayfarer Sunglasses   \n",
       "5                    kingsunglasses Round Sunglasses   \n",
       "6                       Fastrack Wayfarer Sunglasses   \n",
       "7                           I Flash Round Sunglasses   \n",
       "8           SHAAH COLLECTIONS Rectangular Sunglasses   \n",
       "9                          PIRASO Aviator Sunglasses   \n",
       "10                  New Specs Rectangular Sunglasses   \n",
       "11  Singco India Retro Square, Over-sized Sunglasses   \n",
       "12                           SUNBEE Round Sunglasses   \n",
       "13                        New Specs Round Sunglasses   \n",
       "14                kingsunglasses Wayfarer Sunglasses   \n",
       "15                 I Flash Aviator, Round Sunglasses   \n",
       "16            ROZZETTA CRAFT Retro Square Sunglasses   \n",
       "17                PHENOMENAL Retro Square Sunglasses   \n",
       "18                 Lee Topper Wrap-around Sunglasses   \n",
       "19                   Silver Kartz Aviator Sunglasses   \n",
       "20          SHAAH COLLECTIONS Rectangular Sunglasses   \n",
       "21             ROZZETTA CRAFT Rectangular Sunglasses   \n",
       "22                        PIRASO Wayfarer Sunglasses   \n",
       "23                funglasses Round, Round Sunglasses   \n",
       "24  DAHAAZIL Wayfarer, Wayfarer, Wayfarer Sunglasses   \n",
       "25                        Elligator Round Sunglasses   \n",
       "26                      Fastrack Wayfarer Sunglasses   \n",
       "27               ROZZETTA CRAFT Spectacle Sunglasses   \n",
       "28                        SUNBEE Wayfarer Sunglasses   \n",
       "29                        New Specs Round Sunglasses   \n",
       "30                         PIRASO Aviator Sunglasses   \n",
       "31                          I Flash Round Sunglasses   \n",
       "32                           hipe Aviator Sunglasses   \n",
       "33                      ROYAL SON Aviator Sunglasses   \n",
       "34                      Dcmr Retro Square Sunglasses   \n",
       "35                           ARICKS Round Sunglasses   \n",
       "36                PHENOMENAL Retro Square Sunglasses   \n",
       "37                     IZAAN MART Aviator Sunglasses   \n",
       "38                PHENOMENAL Retro Square Sunglasses   \n",
       "39            ROZZETTA CRAFT Retro Square Sunglasses   \n",
       "\n",
       "                                         product_tags price_tags  \n",
       "0                             For Boys & Girls, Clear       ₹134  \n",
       "1                             For Men & Women, Silver       ₹499  \n",
       "2                         For Men & Women, Multicolor       ₹248  \n",
       "3                              For Men & Women, Black       ₹200  \n",
       "4                For Men & Women, Clear, Black, Brown       ₹198  \n",
       "5                              For Men & Women, Clear       ₹188  \n",
       "6                                      For Men, Green       ₹720  \n",
       "7                       For Boys & Girls, Blue, Clear       ₹130  \n",
       "8                              For Men & Women, Black       ₹165  \n",
       "9                      For Men & Women, Black, Golden       ₹200  \n",
       "10   For Men & Women, Red, Black, Yellow, Blue, Black       ₹259  \n",
       "11                              For Men & Women, Blue       ₹599  \n",
       "12  For Men & Women, Red, Blue, Pink, Blue, Yellow...       ₹271  \n",
       "13    For Men & Women, Black, Blue, Red, Yellow, Blue       ₹262  \n",
       "14  For Men & Women, Blue, Clear, Green, Black, Br...       ₹273  \n",
       "15                     For Boys & Girls, Clear, Clear       ₹179  \n",
       "16                              For Men & Women, Blue       ₹474  \n",
       "17                       For Men & Women, Yellow, Red       ₹309  \n",
       "18                            For Men & Women, Yellow       ₹276  \n",
       "19                      For Men & Women, Black, Green       ₹255  \n",
       "20                             For Men & Women, Black       ₹181  \n",
       "21                              For Men & Women, Blue       ₹383  \n",
       "22                             For Men & Women, Black       ₹190  \n",
       "23                      For Men & Women, Clear, Clear       ₹161  \n",
       "24              For Boys & Girls, Black, Clear, Brown       ₹176  \n",
       "25                 For Men & Women, Red, Yellow, Blue       ₹189  \n",
       "26                                     For Men, Green       ₹483  \n",
       "27                             For Men & Women, Clear       ₹449  \n",
       "28  For Men, Red, Brown, Clear, Green, Blue, Black...       ₹243  \n",
       "29          For Men & Women, Red, Black, Silver, Blue       ₹233  \n",
       "30                             For Men & Women, Green       ₹200  \n",
       "31      For Men & Women, Golden, Black, Silver, Clear       ₹179  \n",
       "32                              For Men & Women, Blue       ₹178  \n",
       "33                              For Men, Black, Brown       ₹359  \n",
       "34                        For Men, Red, Yellow, Black       ₹421  \n",
       "35                             For Men & Women, Clear       ₹117  \n",
       "36                        For Men & Women, Red, Black       ₹299  \n",
       "37                       For Men & Women, Blue, Clear       ₹395  \n",
       "38                             For Men & Women, Black       ₹299  \n",
       "39                                   For Women, Black       ₹349  "
      ]
     },
     "execution_count": 36,
     "metadata": {},
     "output_type": "execute_result"
    }
   ],
   "source": [
    "df = pd.DataFrame({'brand_tags':brand,'product_tags':product,'price_tags':price})\n",
    "df"
   ]
  },
  {
   "cell_type": "markdown",
   "id": "52581b8e",
   "metadata": {},
   "source": [
    "### Q5: Scrape 100 reviews data from flipkart.com for iphone11 phone. You have to go the link:\n",
    "https://www.flipkart.com/apple-iphone-11-black-64-gb-includes- earpods-power- adapter/p/itm0f37c2240b217?pid=MOBFKCTSVZAXUHGR&lid=LSTMOBFKC TSVZAXUHGREPBFGI&marketplace\n",
    "1.\tRating\n",
    "2.\tReview summary\n",
    "3.\tFull review\n",
    "4.\tYou have to scrape this data for first 100 reviews.\n"
   ]
  },
  {
   "cell_type": "code",
   "execution_count": 53,
   "id": "99c47d31",
   "metadata": {},
   "outputs": [],
   "source": [
    "driver = webdriver.Chrome(r'C:\\Users\\Khiro\\Downloads\\chromedriver_win32\\chromedriver')"
   ]
  },
  {
   "cell_type": "code",
   "execution_count": 54,
   "id": "2ba9c41a",
   "metadata": {},
   "outputs": [],
   "source": [
    "driver = webdriver.Chrome('chromedriver')"
   ]
  },
  {
   "cell_type": "code",
   "execution_count": 57,
   "id": "2202b0bb",
   "metadata": {},
   "outputs": [],
   "source": [
    "url = 'https://www.flipkart.com/apple-iphone-11-black-64-gb-includes-%20earpods-power-%20adapter/p/itm0f37c2240b217?pid=MOBFKCTSVZAXUHGR&lid=LSTMOBFKC%20TSVZAXUHGREPBFGI&marketplace.'\n",
    "driver.get(url)"
   ]
  },
  {
   "cell_type": "code",
   "execution_count": 65,
   "id": "9dfb3ef8",
   "metadata": {
    "scrolled": false
   },
   "outputs": [
    {
     "data": {
      "text/plain": [
       "[<selenium.webdriver.remote.webelement.WebElement (session=\"315b346e0add292094900ed0189d68c5\", element=\"849ee4e1-9bfb-48e0-a345-72208cb47314\")>,\n",
       " <selenium.webdriver.remote.webelement.WebElement (session=\"315b346e0add292094900ed0189d68c5\", element=\"abbec809-ed12-4b48-950a-527fa2dd294a\")>,\n",
       " <selenium.webdriver.remote.webelement.WebElement (session=\"315b346e0add292094900ed0189d68c5\", element=\"be20d416-6ef2-4799-9d55-e5f76d9dac90\")>,\n",
       " <selenium.webdriver.remote.webelement.WebElement (session=\"315b346e0add292094900ed0189d68c5\", element=\"57ff6cbb-5b7a-49b3-8f11-4900f7e11b89\")>,\n",
       " <selenium.webdriver.remote.webelement.WebElement (session=\"315b346e0add292094900ed0189d68c5\", element=\"43bc7328-b200-42d3-b315-9a0e86100c6d\")>,\n",
       " <selenium.webdriver.remote.webelement.WebElement (session=\"315b346e0add292094900ed0189d68c5\", element=\"9eeccd02-90b8-46f4-87db-9035f5573fb3\")>,\n",
       " <selenium.webdriver.remote.webelement.WebElement (session=\"315b346e0add292094900ed0189d68c5\", element=\"c9b5c2a2-261d-4241-aa8f-bfd6775855ff\")>,\n",
       " <selenium.webdriver.remote.webelement.WebElement (session=\"315b346e0add292094900ed0189d68c5\", element=\"5b5c7cb1-6cef-4b61-86d0-6623c2ba3a72\")>,\n",
       " <selenium.webdriver.remote.webelement.WebElement (session=\"315b346e0add292094900ed0189d68c5\", element=\"d6a4bdbf-8fe4-4ca8-b658-2d9fe06e8038\")>,\n",
       " <selenium.webdriver.remote.webelement.WebElement (session=\"315b346e0add292094900ed0189d68c5\", element=\"0738c0d4-1052-4c03-8fe4-9b564f28aadf\")>]"
      ]
     },
     "execution_count": 65,
     "metadata": {},
     "output_type": "execute_result"
    }
   ],
   "source": [
    "ratings_tags = driver.find_elements_by_xpath('//div[@class=\"_3LWZlK _1BLPMq\"]')\n",
    "                                           \n",
    "len(ratings_tags)\n",
    "ratings_tags[0:100]"
   ]
  },
  {
   "cell_type": "code",
   "execution_count": 66,
   "id": "84533caf",
   "metadata": {},
   "outputs": [
    {
     "data": {
      "text/plain": [
       "10"
      ]
     },
     "execution_count": 66,
     "metadata": {},
     "output_type": "execute_result"
    }
   ],
   "source": [
    "len(ratings_tags)"
   ]
  },
  {
   "cell_type": "markdown",
   "id": "0fa22ec5",
   "metadata": {},
   "source": [
    "### Q6: Scrape data for first 100 sneakers you find when you visit flipkart.com andsearch for “sneakers” in the search field.\n",
    "You have to scrape 4 attributes of each sneaker:\n",
    "1.\tBrand\n",
    "2.\tProduct Description\n",
    "3.\tPrice\n"
   ]
  },
  {
   "cell_type": "code",
   "execution_count": 4,
   "id": "67920104",
   "metadata": {},
   "outputs": [],
   "source": [
    "driver = webdriver.Chrome(r'C:\\Users\\Khiro\\Downloads\\chromedriver_win32\\chromedriver')"
   ]
  },
  {
   "cell_type": "code",
   "execution_count": 5,
   "id": "8f0cf1dc",
   "metadata": {},
   "outputs": [],
   "source": [
    "driver = webdriver.Chrome('chromedriver')"
   ]
  },
  {
   "cell_type": "code",
   "execution_count": 6,
   "id": "7cab75d6",
   "metadata": {},
   "outputs": [],
   "source": [
    "url = 'https://www.flipkart.com/'\n",
    "driver.get(url)"
   ]
  },
  {
   "cell_type": "code",
   "execution_count": 30,
   "id": "6d752c82",
   "metadata": {},
   "outputs": [
    {
     "data": {
      "text/plain": [
       "[<selenium.webdriver.remote.webelement.WebElement (session=\"d3fa1f891b370508ac87ac37b7616f76\", element=\"feabf6c2-00cf-49d8-9cd9-dddfb6ba42d7\")>,\n",
       " <selenium.webdriver.remote.webelement.WebElement (session=\"d3fa1f891b370508ac87ac37b7616f76\", element=\"36c5a56e-b897-4c4b-9dfa-71f60c2eac40\")>,\n",
       " <selenium.webdriver.remote.webelement.WebElement (session=\"d3fa1f891b370508ac87ac37b7616f76\", element=\"dcf0a9e7-123b-4862-b3b2-6dd79e16a11f\")>,\n",
       " <selenium.webdriver.remote.webelement.WebElement (session=\"d3fa1f891b370508ac87ac37b7616f76\", element=\"e0b5a902-241a-4ff9-96f0-244b8cb15c7a\")>,\n",
       " <selenium.webdriver.remote.webelement.WebElement (session=\"d3fa1f891b370508ac87ac37b7616f76\", element=\"464f439a-163d-404d-90ed-7079ffa996f4\")>,\n",
       " <selenium.webdriver.remote.webelement.WebElement (session=\"d3fa1f891b370508ac87ac37b7616f76\", element=\"f2b531b8-aa88-497d-b4d4-c2bd7ee5982f\")>,\n",
       " <selenium.webdriver.remote.webelement.WebElement (session=\"d3fa1f891b370508ac87ac37b7616f76\", element=\"649ef9d6-c18f-4aea-9f15-683e8361b5f7\")>,\n",
       " <selenium.webdriver.remote.webelement.WebElement (session=\"d3fa1f891b370508ac87ac37b7616f76\", element=\"320bd5fe-4cf9-4779-b09c-a86b4b43b8be\")>,\n",
       " <selenium.webdriver.remote.webelement.WebElement (session=\"d3fa1f891b370508ac87ac37b7616f76\", element=\"845ebce3-be84-440f-8b83-53283ebc8fbd\")>,\n",
       " <selenium.webdriver.remote.webelement.WebElement (session=\"d3fa1f891b370508ac87ac37b7616f76\", element=\"1cf57d27-df15-4b57-9bd7-0e06a26ab105\")>,\n",
       " <selenium.webdriver.remote.webelement.WebElement (session=\"d3fa1f891b370508ac87ac37b7616f76\", element=\"29b99d36-bc58-49b3-803e-3f7efa55ff6d\")>,\n",
       " <selenium.webdriver.remote.webelement.WebElement (session=\"d3fa1f891b370508ac87ac37b7616f76\", element=\"2c6882ea-3112-4515-b5d9-21f6b2af44c6\")>,\n",
       " <selenium.webdriver.remote.webelement.WebElement (session=\"d3fa1f891b370508ac87ac37b7616f76\", element=\"1f89fa4a-7753-4c2d-b1d3-9dd339cc4d1a\")>,\n",
       " <selenium.webdriver.remote.webelement.WebElement (session=\"d3fa1f891b370508ac87ac37b7616f76\", element=\"cc89a20a-580c-43de-9f3b-fcf1d432cb0b\")>,\n",
       " <selenium.webdriver.remote.webelement.WebElement (session=\"d3fa1f891b370508ac87ac37b7616f76\", element=\"fce562e7-b34b-4f4b-9bb4-ae29affac6f1\")>,\n",
       " <selenium.webdriver.remote.webelement.WebElement (session=\"d3fa1f891b370508ac87ac37b7616f76\", element=\"e1434591-78bb-4722-b20f-d31fdc04cef7\")>,\n",
       " <selenium.webdriver.remote.webelement.WebElement (session=\"d3fa1f891b370508ac87ac37b7616f76\", element=\"c0a0b17f-8464-4674-a891-63c49550dd1d\")>,\n",
       " <selenium.webdriver.remote.webelement.WebElement (session=\"d3fa1f891b370508ac87ac37b7616f76\", element=\"e19b0bbb-5d10-4a03-9a31-0a1b7c7c26e2\")>,\n",
       " <selenium.webdriver.remote.webelement.WebElement (session=\"d3fa1f891b370508ac87ac37b7616f76\", element=\"eb5e6556-ed03-4b1e-b819-0cff9f2139c5\")>,\n",
       " <selenium.webdriver.remote.webelement.WebElement (session=\"d3fa1f891b370508ac87ac37b7616f76\", element=\"3cc050a1-761b-49d2-b9dc-77c8f619d785\")>,\n",
       " <selenium.webdriver.remote.webelement.WebElement (session=\"d3fa1f891b370508ac87ac37b7616f76\", element=\"8f0a389b-6f05-4119-a170-99ab2f7ad7f7\")>,\n",
       " <selenium.webdriver.remote.webelement.WebElement (session=\"d3fa1f891b370508ac87ac37b7616f76\", element=\"a60ef67d-5f93-48de-9d63-35a793fc4ea5\")>,\n",
       " <selenium.webdriver.remote.webelement.WebElement (session=\"d3fa1f891b370508ac87ac37b7616f76\", element=\"3321e6ea-e35a-40fa-ab35-1adec9977a6e\")>,\n",
       " <selenium.webdriver.remote.webelement.WebElement (session=\"d3fa1f891b370508ac87ac37b7616f76\", element=\"463628b7-a074-4dc5-8165-4c827f06c664\")>,\n",
       " <selenium.webdriver.remote.webelement.WebElement (session=\"d3fa1f891b370508ac87ac37b7616f76\", element=\"70fe1681-325c-4b5b-b901-7a02eb0da3fa\")>,\n",
       " <selenium.webdriver.remote.webelement.WebElement (session=\"d3fa1f891b370508ac87ac37b7616f76\", element=\"6db78012-5148-4abb-8177-973665ff6703\")>,\n",
       " <selenium.webdriver.remote.webelement.WebElement (session=\"d3fa1f891b370508ac87ac37b7616f76\", element=\"261bf7be-257e-455b-aec0-bb03aa0b32c1\")>,\n",
       " <selenium.webdriver.remote.webelement.WebElement (session=\"d3fa1f891b370508ac87ac37b7616f76\", element=\"6e7862b6-b780-4e23-a18a-2775ddf1fbf2\")>,\n",
       " <selenium.webdriver.remote.webelement.WebElement (session=\"d3fa1f891b370508ac87ac37b7616f76\", element=\"d22f486a-5bfb-45c3-997d-9440e7659ae4\")>,\n",
       " <selenium.webdriver.remote.webelement.WebElement (session=\"d3fa1f891b370508ac87ac37b7616f76\", element=\"c523f7c0-f608-4a1a-8490-c2881cfd759e\")>,\n",
       " <selenium.webdriver.remote.webelement.WebElement (session=\"d3fa1f891b370508ac87ac37b7616f76\", element=\"1aa9cfea-4552-4a89-ac18-a0673c502b78\")>,\n",
       " <selenium.webdriver.remote.webelement.WebElement (session=\"d3fa1f891b370508ac87ac37b7616f76\", element=\"8e744ed4-b19e-42b9-aa7a-d1a2a57d3e21\")>,\n",
       " <selenium.webdriver.remote.webelement.WebElement (session=\"d3fa1f891b370508ac87ac37b7616f76\", element=\"ec5a74cb-6516-4267-9f04-c06913c28091\")>,\n",
       " <selenium.webdriver.remote.webelement.WebElement (session=\"d3fa1f891b370508ac87ac37b7616f76\", element=\"e71c9da7-e9d7-4c19-b5b1-72cec6400b62\")>,\n",
       " <selenium.webdriver.remote.webelement.WebElement (session=\"d3fa1f891b370508ac87ac37b7616f76\", element=\"94d8b8f8-ef52-4492-aecc-0852acb7a91c\")>,\n",
       " <selenium.webdriver.remote.webelement.WebElement (session=\"d3fa1f891b370508ac87ac37b7616f76\", element=\"fcc08f8f-e207-4640-a376-ef974b0ebca8\")>,\n",
       " <selenium.webdriver.remote.webelement.WebElement (session=\"d3fa1f891b370508ac87ac37b7616f76\", element=\"15403f3c-9669-4599-a7ad-57d39ea5da7c\")>,\n",
       " <selenium.webdriver.remote.webelement.WebElement (session=\"d3fa1f891b370508ac87ac37b7616f76\", element=\"4a53e7c1-e4fe-4dd8-a94c-4647e35779f6\")>,\n",
       " <selenium.webdriver.remote.webelement.WebElement (session=\"d3fa1f891b370508ac87ac37b7616f76\", element=\"6afcbd36-0a9a-47a2-91ad-67e05f5f9e12\")>,\n",
       " <selenium.webdriver.remote.webelement.WebElement (session=\"d3fa1f891b370508ac87ac37b7616f76\", element=\"61f63d3c-ac94-4d6d-86b5-f3e2eae33d1d\")>]"
      ]
     },
     "execution_count": 30,
     "metadata": {},
     "output_type": "execute_result"
    }
   ],
   "source": [
    "brand_tags = driver.find_elements_by_xpath('//div[@class=\"_2WkVRV\"]')\n",
    "len(brand_tags)\n",
    "brand_tags[0:40]"
   ]
  },
  {
   "cell_type": "code",
   "execution_count": 29,
   "id": "95e8ff8f",
   "metadata": {},
   "outputs": [
    {
     "data": {
      "text/plain": [
       "['ESSENCE',\n",
       " 'Kraasa',\n",
       " 'Robbie jones',\n",
       " 'SPARX',\n",
       " 'aadi',\n",
       " 'SPARX',\n",
       " 'BRUTON',\n",
       " 'Kraasa',\n",
       " 'believe',\n",
       " 'Vellinto',\n",
       " 'Airland',\n",
       " 'BRUTON',\n",
       " 'Echor',\n",
       " 'World Wear Footwear',\n",
       " 'HRDK',\n",
       " 'India hub',\n",
       " 'PUMA',\n",
       " 'URBANBOX',\n",
       " 'RED TAPE',\n",
       " 'RapidBox',\n",
       " 'KANEGGYE',\n",
       " 'SPARX',\n",
       " 'RapidBox',\n",
       " 'LE GREEM',\n",
       " 'RODDICK SHOES',\n",
       " 'Zsyto',\n",
       " 'Dizzler',\n",
       " 'BIRDE',\n",
       " 'WHITE WALKERS',\n",
       " 'PUMA',\n",
       " 'WHITE WALKERS',\n",
       " 'SPARX',\n",
       " 'Vellinto',\n",
       " 'ESSENCE',\n",
       " 'Robbie jones',\n",
       " 'RapidBox',\n",
       " 'World Wear Footwear',\n",
       " 'DUNKASTON',\n",
       " 'SPARX',\n",
       " 'BRUTON']"
      ]
     },
     "execution_count": 29,
     "metadata": {},
     "output_type": "execute_result"
    }
   ],
   "source": [
    "brand = []\n",
    "for i in brand_tags:\n",
    "    brand.append(i.text)\n",
    "len(brand)\n",
    "brand[0:40]"
   ]
  },
  {
   "cell_type": "code",
   "execution_count": 28,
   "id": "2dded1b2",
   "metadata": {},
   "outputs": [
    {
     "data": {
      "text/plain": [
       "[<selenium.webdriver.remote.webelement.WebElement (session=\"d3fa1f891b370508ac87ac37b7616f76\", element=\"63b51742-d38e-4fa7-aa54-44925759432d\")>,\n",
       " <selenium.webdriver.remote.webelement.WebElement (session=\"d3fa1f891b370508ac87ac37b7616f76\", element=\"08cc6458-fcd2-4596-b62c-5a1d8209cc0b\")>,\n",
       " <selenium.webdriver.remote.webelement.WebElement (session=\"d3fa1f891b370508ac87ac37b7616f76\", element=\"e04cd9be-d015-4a42-ac12-71f18fc11665\")>,\n",
       " <selenium.webdriver.remote.webelement.WebElement (session=\"d3fa1f891b370508ac87ac37b7616f76\", element=\"762e0ad0-2a1d-4de5-bc38-44b93920b4e0\")>,\n",
       " <selenium.webdriver.remote.webelement.WebElement (session=\"d3fa1f891b370508ac87ac37b7616f76\", element=\"80269e51-cfa9-4b8e-a38e-3e450c18bd8e\")>,\n",
       " <selenium.webdriver.remote.webelement.WebElement (session=\"d3fa1f891b370508ac87ac37b7616f76\", element=\"dfcec5e0-9e62-443c-a112-a265b0d9288a\")>,\n",
       " <selenium.webdriver.remote.webelement.WebElement (session=\"d3fa1f891b370508ac87ac37b7616f76\", element=\"728fe078-c72c-4d9f-b383-2d5ada7d67a7\")>,\n",
       " <selenium.webdriver.remote.webelement.WebElement (session=\"d3fa1f891b370508ac87ac37b7616f76\", element=\"4850f0e5-7f70-4ec1-ae3e-8b0fa9eb511c\")>,\n",
       " <selenium.webdriver.remote.webelement.WebElement (session=\"d3fa1f891b370508ac87ac37b7616f76\", element=\"47ac1461-eb65-48f7-98f5-5280cb448c0a\")>,\n",
       " <selenium.webdriver.remote.webelement.WebElement (session=\"d3fa1f891b370508ac87ac37b7616f76\", element=\"d46dab6d-996a-4347-ab46-54029e3a7490\")>,\n",
       " <selenium.webdriver.remote.webelement.WebElement (session=\"d3fa1f891b370508ac87ac37b7616f76\", element=\"d63da239-3de9-426e-a37f-6b085b532e0b\")>,\n",
       " <selenium.webdriver.remote.webelement.WebElement (session=\"d3fa1f891b370508ac87ac37b7616f76\", element=\"2561a805-11c4-422d-b7a8-d4bd9b25c49d\")>,\n",
       " <selenium.webdriver.remote.webelement.WebElement (session=\"d3fa1f891b370508ac87ac37b7616f76\", element=\"cf59cce8-ccba-4963-a1d8-44be02196787\")>,\n",
       " <selenium.webdriver.remote.webelement.WebElement (session=\"d3fa1f891b370508ac87ac37b7616f76\", element=\"3acd48c0-21c8-4c0b-9175-71d6c5a3d111\")>,\n",
       " <selenium.webdriver.remote.webelement.WebElement (session=\"d3fa1f891b370508ac87ac37b7616f76\", element=\"4732f642-aaf7-4f52-b96b-720b56228950\")>,\n",
       " <selenium.webdriver.remote.webelement.WebElement (session=\"d3fa1f891b370508ac87ac37b7616f76\", element=\"d81bad6e-869c-46b0-8661-774f7992d912\")>,\n",
       " <selenium.webdriver.remote.webelement.WebElement (session=\"d3fa1f891b370508ac87ac37b7616f76\", element=\"8c88086e-870d-49f9-ad97-353bb777b813\")>,\n",
       " <selenium.webdriver.remote.webelement.WebElement (session=\"d3fa1f891b370508ac87ac37b7616f76\", element=\"090e06dd-591f-4fe2-af33-b7ba5421aaaf\")>,\n",
       " <selenium.webdriver.remote.webelement.WebElement (session=\"d3fa1f891b370508ac87ac37b7616f76\", element=\"002ac190-8ea2-4dbe-addc-0d61bff5dbef\")>,\n",
       " <selenium.webdriver.remote.webelement.WebElement (session=\"d3fa1f891b370508ac87ac37b7616f76\", element=\"9d31b642-e639-4e41-8b8a-ad8632df693e\")>,\n",
       " <selenium.webdriver.remote.webelement.WebElement (session=\"d3fa1f891b370508ac87ac37b7616f76\", element=\"05bfc5a0-eb7b-423b-804e-01bde7795120\")>,\n",
       " <selenium.webdriver.remote.webelement.WebElement (session=\"d3fa1f891b370508ac87ac37b7616f76\", element=\"ac5875d2-cec5-4338-b789-6dcde7c470cd\")>,\n",
       " <selenium.webdriver.remote.webelement.WebElement (session=\"d3fa1f891b370508ac87ac37b7616f76\", element=\"54054951-9ff6-43a8-b49f-d9ab0f060401\")>,\n",
       " <selenium.webdriver.remote.webelement.WebElement (session=\"d3fa1f891b370508ac87ac37b7616f76\", element=\"2811a524-612e-4ba4-8a1e-045d7190b3ad\")>,\n",
       " <selenium.webdriver.remote.webelement.WebElement (session=\"d3fa1f891b370508ac87ac37b7616f76\", element=\"52a14a25-d242-4ee2-8b56-f1fdf616ac89\")>,\n",
       " <selenium.webdriver.remote.webelement.WebElement (session=\"d3fa1f891b370508ac87ac37b7616f76\", element=\"162baeeb-b0af-4439-96b1-89dec8e824ea\")>,\n",
       " <selenium.webdriver.remote.webelement.WebElement (session=\"d3fa1f891b370508ac87ac37b7616f76\", element=\"740df445-2db7-4138-8c93-1d1b101770bb\")>,\n",
       " <selenium.webdriver.remote.webelement.WebElement (session=\"d3fa1f891b370508ac87ac37b7616f76\", element=\"9cb79ceb-537d-4bc5-811f-b1fb04ee07b3\")>,\n",
       " <selenium.webdriver.remote.webelement.WebElement (session=\"d3fa1f891b370508ac87ac37b7616f76\", element=\"6452e3b2-722f-4393-9978-08611bc7b698\")>,\n",
       " <selenium.webdriver.remote.webelement.WebElement (session=\"d3fa1f891b370508ac87ac37b7616f76\", element=\"acc142bf-2cfb-4b1a-aa80-17d2022b28d9\")>]"
      ]
     },
     "execution_count": 28,
     "metadata": {},
     "output_type": "execute_result"
    }
   ],
   "source": [
    "product_tags = driver.find_elements_by_xpath(\"//a[@class='IRpwTa']\")\n",
    "len(product_tags)\n",
    "product_tags[0:40]"
   ]
  },
  {
   "cell_type": "code",
   "execution_count": 27,
   "id": "bec9a498",
   "metadata": {},
   "outputs": [
    {
     "data": {
      "text/plain": [
       "['Sneakers For Men',\n",
       " 'Shark-41 Sneakers For Men',\n",
       " 'Sneakers For Men',\n",
       " 'Sneakers For Men',\n",
       " 'Modern Trendy Sneakers Shoes Sneakers For Men',\n",
       " 'Shark-41 Sneakers For Men',\n",
       " 'Sneakers for men(black_6) Sneakers For Men',\n",
       " 'Casual Sneakrs For Men Sneakers For Men',\n",
       " 'Sneakers Shoes For Men Black Sneakers For Men',\n",
       " 'Combo Pack of 5 Casual Sneakers With Sneakers For Men',\n",
       " \"Echor Men's Sneakers Fashion Lightweight Running Shoes ...\",\n",
       " 'Combo Pack of 4 Latest Collection Stylish Casual Loafer...',\n",
       " 'Sneakers For Men',\n",
       " 'Luxury Fashionable casual sneaker shoes Sneakers For Me...',\n",
       " 'Backcourt Mid Sneakers For Men',\n",
       " 'Sneakers For Men',\n",
       " 'Sneakers For Men',\n",
       " 'Comfortable & Ultra Light Weight Sneaker Sneakers For M...',\n",
       " 'Fashion Outdoor Canvas Casual Light Weight Lace-up Even...',\n",
       " 'Sneakers For Men',\n",
       " 'Glory Sneakers For Men',\n",
       " 'Stylish & Trending Outdoor Walking Comfortable Sneakers...',\n",
       " 'SM-162 Sneakers For Men',\n",
       " 'Sneakers For Men',\n",
       " 'Sneakers For Men',\n",
       " 'Casual Sneakers White Shoes For Men Sneakers For Men',\n",
       " '5011-Latest Collection Stylish Casual Loafer Sneakers S...',\n",
       " 'Sneakers For Men',\n",
       " 'SM-322 Sneakers For Men',\n",
       " 'Combo Pack Of 2 Latest Stylish Casual Shoes for Men Lac...']"
      ]
     },
     "execution_count": 27,
     "metadata": {},
     "output_type": "execute_result"
    }
   ],
   "source": [
    "product = []\n",
    "for i in product_tags:\n",
    "    product.append(i.text)\n",
    "len(product)\n",
    "product[0:40]"
   ]
  },
  {
   "cell_type": "code",
   "execution_count": 18,
   "id": "6b30962d",
   "metadata": {},
   "outputs": [
    {
     "data": {
      "text/plain": [
       "[<selenium.webdriver.remote.webelement.WebElement (session=\"d3fa1f891b370508ac87ac37b7616f76\", element=\"7154b18f-5ebe-425f-ae4e-5ef01f011b28\")>,\n",
       " <selenium.webdriver.remote.webelement.WebElement (session=\"d3fa1f891b370508ac87ac37b7616f76\", element=\"d4e69d6a-1f60-4ee7-9c88-22661d3da442\")>,\n",
       " <selenium.webdriver.remote.webelement.WebElement (session=\"d3fa1f891b370508ac87ac37b7616f76\", element=\"21909aea-9848-4f9e-ab68-835beadccea2\")>,\n",
       " <selenium.webdriver.remote.webelement.WebElement (session=\"d3fa1f891b370508ac87ac37b7616f76\", element=\"29f64b4a-4a33-46a3-aab7-071a228e1e56\")>,\n",
       " <selenium.webdriver.remote.webelement.WebElement (session=\"d3fa1f891b370508ac87ac37b7616f76\", element=\"ba25cb37-8dcc-414a-b973-d1b1757a1a9a\")>,\n",
       " <selenium.webdriver.remote.webelement.WebElement (session=\"d3fa1f891b370508ac87ac37b7616f76\", element=\"956be9f0-a349-4170-a00f-5bc210011989\")>,\n",
       " <selenium.webdriver.remote.webelement.WebElement (session=\"d3fa1f891b370508ac87ac37b7616f76\", element=\"34929ac4-b99f-43bc-a96e-57ff448cd11f\")>,\n",
       " <selenium.webdriver.remote.webelement.WebElement (session=\"d3fa1f891b370508ac87ac37b7616f76\", element=\"45237fb6-35e3-40a5-b26d-6b6ea16c5e11\")>,\n",
       " <selenium.webdriver.remote.webelement.WebElement (session=\"d3fa1f891b370508ac87ac37b7616f76\", element=\"e541d87d-73ba-4296-92d3-d3ce4de2c434\")>,\n",
       " <selenium.webdriver.remote.webelement.WebElement (session=\"d3fa1f891b370508ac87ac37b7616f76\", element=\"f4936074-c462-411f-b840-eda50abfb09d\")>,\n",
       " <selenium.webdriver.remote.webelement.WebElement (session=\"d3fa1f891b370508ac87ac37b7616f76\", element=\"281c67c9-7c21-4b30-a079-b89173f3304c\")>,\n",
       " <selenium.webdriver.remote.webelement.WebElement (session=\"d3fa1f891b370508ac87ac37b7616f76\", element=\"e223d0e7-8d45-4810-ace7-72fbd8476eaf\")>,\n",
       " <selenium.webdriver.remote.webelement.WebElement (session=\"d3fa1f891b370508ac87ac37b7616f76\", element=\"48afd3ec-9460-4a01-928a-930e707acdb2\")>,\n",
       " <selenium.webdriver.remote.webelement.WebElement (session=\"d3fa1f891b370508ac87ac37b7616f76\", element=\"3464a503-c7cf-4e0a-98c0-1a4b303b9b53\")>,\n",
       " <selenium.webdriver.remote.webelement.WebElement (session=\"d3fa1f891b370508ac87ac37b7616f76\", element=\"b7122ab8-3363-4067-b6f7-e711ef9c5fec\")>,\n",
       " <selenium.webdriver.remote.webelement.WebElement (session=\"d3fa1f891b370508ac87ac37b7616f76\", element=\"96125400-cb16-4e14-9142-2b45fe3c85b3\")>,\n",
       " <selenium.webdriver.remote.webelement.WebElement (session=\"d3fa1f891b370508ac87ac37b7616f76\", element=\"d086e9ac-d652-45f7-825c-10f7e1f045d7\")>,\n",
       " <selenium.webdriver.remote.webelement.WebElement (session=\"d3fa1f891b370508ac87ac37b7616f76\", element=\"54420ec4-2bf5-4f37-ae39-6037d6d87458\")>,\n",
       " <selenium.webdriver.remote.webelement.WebElement (session=\"d3fa1f891b370508ac87ac37b7616f76\", element=\"a9727e9c-78f5-4d94-9b51-b46c251aeb6a\")>,\n",
       " <selenium.webdriver.remote.webelement.WebElement (session=\"d3fa1f891b370508ac87ac37b7616f76\", element=\"b4e8c8a4-4d22-461d-a4e5-4519e1f5d2ab\")>,\n",
       " <selenium.webdriver.remote.webelement.WebElement (session=\"d3fa1f891b370508ac87ac37b7616f76\", element=\"75cd0bd3-ae02-4996-bb8e-abfc7a14b60f\")>,\n",
       " <selenium.webdriver.remote.webelement.WebElement (session=\"d3fa1f891b370508ac87ac37b7616f76\", element=\"1eff9e52-1038-4a56-bf86-69f9668cad8c\")>,\n",
       " <selenium.webdriver.remote.webelement.WebElement (session=\"d3fa1f891b370508ac87ac37b7616f76\", element=\"36879447-4849-4234-8a0b-73b322b0d507\")>,\n",
       " <selenium.webdriver.remote.webelement.WebElement (session=\"d3fa1f891b370508ac87ac37b7616f76\", element=\"27aed1d6-1989-4a43-b148-e78d39b8b875\")>,\n",
       " <selenium.webdriver.remote.webelement.WebElement (session=\"d3fa1f891b370508ac87ac37b7616f76\", element=\"b30c3a2d-75ca-434f-95db-7c7e4ffa975d\")>,\n",
       " <selenium.webdriver.remote.webelement.WebElement (session=\"d3fa1f891b370508ac87ac37b7616f76\", element=\"78f17a4a-0221-4809-aa8b-7f28f263aab0\")>,\n",
       " <selenium.webdriver.remote.webelement.WebElement (session=\"d3fa1f891b370508ac87ac37b7616f76\", element=\"10b864b9-2301-4541-9235-62e92edaf9c2\")>,\n",
       " <selenium.webdriver.remote.webelement.WebElement (session=\"d3fa1f891b370508ac87ac37b7616f76\", element=\"63ad6956-0a67-43ba-9769-6c11450d3322\")>,\n",
       " <selenium.webdriver.remote.webelement.WebElement (session=\"d3fa1f891b370508ac87ac37b7616f76\", element=\"9a99866b-383b-4031-a6bc-20663c66ef2e\")>,\n",
       " <selenium.webdriver.remote.webelement.WebElement (session=\"d3fa1f891b370508ac87ac37b7616f76\", element=\"7f5dad63-ea12-4ae8-bba3-a85f6e540494\")>]"
      ]
     },
     "execution_count": 18,
     "metadata": {},
     "output_type": "execute_result"
    }
   ],
   "source": [
    "price_tags = driver.find_elements_by_xpath('//div[@class=\"_30jeq3\"]')\n",
    "len(price_tags)\n",
    "price_tags[0:30]"
   ]
  },
  {
   "cell_type": "code",
   "execution_count": 25,
   "id": "1ff24c8c",
   "metadata": {},
   "outputs": [
    {
     "data": {
      "text/plain": [
       "['₹399',\n",
       " '₹444',\n",
       " '₹499',\n",
       " '₹799',\n",
       " '₹399',\n",
       " '₹799',\n",
       " '₹339',\n",
       " '₹449',\n",
       " '₹424',\n",
       " '₹749',\n",
       " '₹190',\n",
       " '₹715',\n",
       " '₹499',\n",
       " '₹599',\n",
       " '₹367',\n",
       " '₹429',\n",
       " '₹3,499',\n",
       " '₹166',\n",
       " '₹1,379',\n",
       " '₹630',\n",
       " '₹399',\n",
       " '₹891',\n",
       " '₹630',\n",
       " '₹426',\n",
       " '₹499',\n",
       " '₹328',\n",
       " '₹495',\n",
       " '₹447',\n",
       " '₹599',\n",
       " '₹2,984',\n",
       " '₹599',\n",
       " '₹849',\n",
       " '₹749',\n",
       " '₹399',\n",
       " '₹474',\n",
       " '₹680',\n",
       " '₹259',\n",
       " '₹374',\n",
       " '₹840',\n",
       " '₹530']"
      ]
     },
     "execution_count": 25,
     "metadata": {},
     "output_type": "execute_result"
    }
   ],
   "source": [
    "price = []\n",
    "for i in price_tags:\n",
    "    price.append(i.text)\n",
    "len(price)\n",
    "price[0:40]"
   ]
  },
  {
   "cell_type": "code",
   "execution_count": 31,
   "id": "fbec25a2",
   "metadata": {},
   "outputs": [
    {
     "data": {
      "text/plain": [
       "(40, 30, 40)"
      ]
     },
     "execution_count": 31,
     "metadata": {},
     "output_type": "execute_result"
    }
   ],
   "source": [
    "len(brand_tags),len(product_tags),len(price_tags)"
   ]
  },
  {
   "cell_type": "code",
   "execution_count": 33,
   "id": "009c1d43",
   "metadata": {},
   "outputs": [
    {
     "ename": "ValueError",
     "evalue": "arrays must all be same length",
     "output_type": "error",
     "traceback": [
      "\u001b[1;31m---------------------------------------------------------------------------\u001b[0m",
      "\u001b[1;31mValueError\u001b[0m                                Traceback (most recent call last)",
      "\u001b[1;32m<ipython-input-33-7d4069020170>\u001b[0m in \u001b[0;36m<module>\u001b[1;34m\u001b[0m\n\u001b[1;32m----> 1\u001b[1;33m \u001b[0mdf\u001b[0m \u001b[1;33m=\u001b[0m \u001b[0mpd\u001b[0m\u001b[1;33m.\u001b[0m\u001b[0mDataFrame\u001b[0m\u001b[1;33m(\u001b[0m\u001b[1;33m{\u001b[0m\u001b[1;34m'brand_tags'\u001b[0m\u001b[1;33m:\u001b[0m\u001b[0mbrand\u001b[0m\u001b[1;33m,\u001b[0m\u001b[1;34m'product_tags'\u001b[0m\u001b[1;33m:\u001b[0m\u001b[0mproduct\u001b[0m\u001b[1;33m,\u001b[0m\u001b[1;34m'price_tags'\u001b[0m\u001b[1;33m:\u001b[0m\u001b[0mprice\u001b[0m\u001b[1;33m}\u001b[0m\u001b[1;33m)\u001b[0m\u001b[1;33m\u001b[0m\u001b[1;33m\u001b[0m\u001b[0m\n\u001b[0m\u001b[0;32m      2\u001b[0m \u001b[0mdf\u001b[0m\u001b[1;33m\u001b[0m\u001b[1;33m\u001b[0m\u001b[0m\n",
      "\u001b[1;32m~\\anaconda3\\lib\\site-packages\\pandas\\core\\frame.py\u001b[0m in \u001b[0;36m__init__\u001b[1;34m(self, data, index, columns, dtype, copy)\u001b[0m\n\u001b[0;32m    527\u001b[0m \u001b[1;33m\u001b[0m\u001b[0m\n\u001b[0;32m    528\u001b[0m         \u001b[1;32melif\u001b[0m \u001b[0misinstance\u001b[0m\u001b[1;33m(\u001b[0m\u001b[0mdata\u001b[0m\u001b[1;33m,\u001b[0m \u001b[0mdict\u001b[0m\u001b[1;33m)\u001b[0m\u001b[1;33m:\u001b[0m\u001b[1;33m\u001b[0m\u001b[1;33m\u001b[0m\u001b[0m\n\u001b[1;32m--> 529\u001b[1;33m             \u001b[0mmgr\u001b[0m \u001b[1;33m=\u001b[0m \u001b[0minit_dict\u001b[0m\u001b[1;33m(\u001b[0m\u001b[0mdata\u001b[0m\u001b[1;33m,\u001b[0m \u001b[0mindex\u001b[0m\u001b[1;33m,\u001b[0m \u001b[0mcolumns\u001b[0m\u001b[1;33m,\u001b[0m \u001b[0mdtype\u001b[0m\u001b[1;33m=\u001b[0m\u001b[0mdtype\u001b[0m\u001b[1;33m)\u001b[0m\u001b[1;33m\u001b[0m\u001b[1;33m\u001b[0m\u001b[0m\n\u001b[0m\u001b[0;32m    530\u001b[0m         \u001b[1;32melif\u001b[0m \u001b[0misinstance\u001b[0m\u001b[1;33m(\u001b[0m\u001b[0mdata\u001b[0m\u001b[1;33m,\u001b[0m \u001b[0mma\u001b[0m\u001b[1;33m.\u001b[0m\u001b[0mMaskedArray\u001b[0m\u001b[1;33m)\u001b[0m\u001b[1;33m:\u001b[0m\u001b[1;33m\u001b[0m\u001b[1;33m\u001b[0m\u001b[0m\n\u001b[0;32m    531\u001b[0m             \u001b[1;32mimport\u001b[0m \u001b[0mnumpy\u001b[0m\u001b[1;33m.\u001b[0m\u001b[0mma\u001b[0m\u001b[1;33m.\u001b[0m\u001b[0mmrecords\u001b[0m \u001b[1;32mas\u001b[0m \u001b[0mmrecords\u001b[0m\u001b[1;33m\u001b[0m\u001b[1;33m\u001b[0m\u001b[0m\n",
      "\u001b[1;32m~\\anaconda3\\lib\\site-packages\\pandas\\core\\internals\\construction.py\u001b[0m in \u001b[0;36minit_dict\u001b[1;34m(data, index, columns, dtype)\u001b[0m\n\u001b[0;32m    285\u001b[0m             \u001b[0marr\u001b[0m \u001b[1;32mif\u001b[0m \u001b[1;32mnot\u001b[0m \u001b[0mis_datetime64tz_dtype\u001b[0m\u001b[1;33m(\u001b[0m\u001b[0marr\u001b[0m\u001b[1;33m)\u001b[0m \u001b[1;32melse\u001b[0m \u001b[0marr\u001b[0m\u001b[1;33m.\u001b[0m\u001b[0mcopy\u001b[0m\u001b[1;33m(\u001b[0m\u001b[1;33m)\u001b[0m \u001b[1;32mfor\u001b[0m \u001b[0marr\u001b[0m \u001b[1;32min\u001b[0m \u001b[0marrays\u001b[0m\u001b[1;33m\u001b[0m\u001b[1;33m\u001b[0m\u001b[0m\n\u001b[0;32m    286\u001b[0m         ]\n\u001b[1;32m--> 287\u001b[1;33m     \u001b[1;32mreturn\u001b[0m \u001b[0marrays_to_mgr\u001b[0m\u001b[1;33m(\u001b[0m\u001b[0marrays\u001b[0m\u001b[1;33m,\u001b[0m \u001b[0mdata_names\u001b[0m\u001b[1;33m,\u001b[0m \u001b[0mindex\u001b[0m\u001b[1;33m,\u001b[0m \u001b[0mcolumns\u001b[0m\u001b[1;33m,\u001b[0m \u001b[0mdtype\u001b[0m\u001b[1;33m=\u001b[0m\u001b[0mdtype\u001b[0m\u001b[1;33m)\u001b[0m\u001b[1;33m\u001b[0m\u001b[1;33m\u001b[0m\u001b[0m\n\u001b[0m\u001b[0;32m    288\u001b[0m \u001b[1;33m\u001b[0m\u001b[0m\n\u001b[0;32m    289\u001b[0m \u001b[1;33m\u001b[0m\u001b[0m\n",
      "\u001b[1;32m~\\anaconda3\\lib\\site-packages\\pandas\\core\\internals\\construction.py\u001b[0m in \u001b[0;36marrays_to_mgr\u001b[1;34m(arrays, arr_names, index, columns, dtype, verify_integrity)\u001b[0m\n\u001b[0;32m     78\u001b[0m         \u001b[1;31m# figure out the index, if necessary\u001b[0m\u001b[1;33m\u001b[0m\u001b[1;33m\u001b[0m\u001b[1;33m\u001b[0m\u001b[0m\n\u001b[0;32m     79\u001b[0m         \u001b[1;32mif\u001b[0m \u001b[0mindex\u001b[0m \u001b[1;32mis\u001b[0m \u001b[1;32mNone\u001b[0m\u001b[1;33m:\u001b[0m\u001b[1;33m\u001b[0m\u001b[1;33m\u001b[0m\u001b[0m\n\u001b[1;32m---> 80\u001b[1;33m             \u001b[0mindex\u001b[0m \u001b[1;33m=\u001b[0m \u001b[0mextract_index\u001b[0m\u001b[1;33m(\u001b[0m\u001b[0marrays\u001b[0m\u001b[1;33m)\u001b[0m\u001b[1;33m\u001b[0m\u001b[1;33m\u001b[0m\u001b[0m\n\u001b[0m\u001b[0;32m     81\u001b[0m         \u001b[1;32melse\u001b[0m\u001b[1;33m:\u001b[0m\u001b[1;33m\u001b[0m\u001b[1;33m\u001b[0m\u001b[0m\n\u001b[0;32m     82\u001b[0m             \u001b[0mindex\u001b[0m \u001b[1;33m=\u001b[0m \u001b[0mensure_index\u001b[0m\u001b[1;33m(\u001b[0m\u001b[0mindex\u001b[0m\u001b[1;33m)\u001b[0m\u001b[1;33m\u001b[0m\u001b[1;33m\u001b[0m\u001b[0m\n",
      "\u001b[1;32m~\\anaconda3\\lib\\site-packages\\pandas\\core\\internals\\construction.py\u001b[0m in \u001b[0;36mextract_index\u001b[1;34m(data)\u001b[0m\n\u001b[0;32m    399\u001b[0m             \u001b[0mlengths\u001b[0m \u001b[1;33m=\u001b[0m \u001b[0mlist\u001b[0m\u001b[1;33m(\u001b[0m\u001b[0mset\u001b[0m\u001b[1;33m(\u001b[0m\u001b[0mraw_lengths\u001b[0m\u001b[1;33m)\u001b[0m\u001b[1;33m)\u001b[0m\u001b[1;33m\u001b[0m\u001b[1;33m\u001b[0m\u001b[0m\n\u001b[0;32m    400\u001b[0m             \u001b[1;32mif\u001b[0m \u001b[0mlen\u001b[0m\u001b[1;33m(\u001b[0m\u001b[0mlengths\u001b[0m\u001b[1;33m)\u001b[0m \u001b[1;33m>\u001b[0m \u001b[1;36m1\u001b[0m\u001b[1;33m:\u001b[0m\u001b[1;33m\u001b[0m\u001b[1;33m\u001b[0m\u001b[0m\n\u001b[1;32m--> 401\u001b[1;33m                 \u001b[1;32mraise\u001b[0m \u001b[0mValueError\u001b[0m\u001b[1;33m(\u001b[0m\u001b[1;34m\"arrays must all be same length\"\u001b[0m\u001b[1;33m)\u001b[0m\u001b[1;33m\u001b[0m\u001b[1;33m\u001b[0m\u001b[0m\n\u001b[0m\u001b[0;32m    402\u001b[0m \u001b[1;33m\u001b[0m\u001b[0m\n\u001b[0;32m    403\u001b[0m             \u001b[1;32mif\u001b[0m \u001b[0mhave_dicts\u001b[0m\u001b[1;33m:\u001b[0m\u001b[1;33m\u001b[0m\u001b[1;33m\u001b[0m\u001b[0m\n",
      "\u001b[1;31mValueError\u001b[0m: arrays must all be same length"
     ]
    }
   ],
   "source": [
    "df = pd.DataFrame({'brand_tags':brand,'product_tags':product,'price_tags':price})\n",
    "df"
   ]
  },
  {
   "cell_type": "markdown",
   "id": "a0143cc6",
   "metadata": {},
   "source": [
    "### Q7: Go to the link - https://www.myntra.com/shoes\n",
    "Set Price filter to “Rs. 7149 to Rs. 14099 ” , Color filter to “Black”, as shown inthe below image.\n"
   ]
  },
  {
   "cell_type": "code",
   "execution_count": 34,
   "id": "0809d57c",
   "metadata": {},
   "outputs": [],
   "source": [
    "driver = webdriver.Chrome(r'C:\\Users\\Khiro\\Downloads\\chromedriver_win32\\chromedriver')"
   ]
  },
  {
   "cell_type": "code",
   "execution_count": 35,
   "id": "86328ec9",
   "metadata": {},
   "outputs": [],
   "source": [
    "driver = webdriver.Chrome('chromedriver')"
   ]
  },
  {
   "cell_type": "code",
   "execution_count": 36,
   "id": "dee0ae6e",
   "metadata": {},
   "outputs": [],
   "source": [
    "url = 'https://www.myntra.com/shoes'\n",
    "driver.get(url)"
   ]
  },
  {
   "cell_type": "code",
   "execution_count": 43,
   "id": "d6fdac33",
   "metadata": {},
   "outputs": [
    {
     "data": {
      "text/plain": [
       "[<selenium.webdriver.remote.webelement.WebElement (session=\"2bfeb8717ce1bb243733520119c94ab6\", element=\"e8f8959d-5f13-469d-bfc8-243dc9882b8f\")>,\n",
       " <selenium.webdriver.remote.webelement.WebElement (session=\"2bfeb8717ce1bb243733520119c94ab6\", element=\"a2d74b61-7bba-4dd2-a387-48a8f6633a79\")>,\n",
       " <selenium.webdriver.remote.webelement.WebElement (session=\"2bfeb8717ce1bb243733520119c94ab6\", element=\"495b51a2-4254-49c3-9865-635e766d4eda\")>,\n",
       " <selenium.webdriver.remote.webelement.WebElement (session=\"2bfeb8717ce1bb243733520119c94ab6\", element=\"c9bdcd39-5929-4985-aad6-c5548ad314ba\")>,\n",
       " <selenium.webdriver.remote.webelement.WebElement (session=\"2bfeb8717ce1bb243733520119c94ab6\", element=\"c59626eb-c6c8-43a1-985e-e341efae6787\")>,\n",
       " <selenium.webdriver.remote.webelement.WebElement (session=\"2bfeb8717ce1bb243733520119c94ab6\", element=\"a6fdaa3d-9738-4a83-9ed0-4ef0cd7b6ea5\")>,\n",
       " <selenium.webdriver.remote.webelement.WebElement (session=\"2bfeb8717ce1bb243733520119c94ab6\", element=\"981c3400-785f-4b80-86d5-7ea705f5d3d0\")>,\n",
       " <selenium.webdriver.remote.webelement.WebElement (session=\"2bfeb8717ce1bb243733520119c94ab6\", element=\"71bf4ed1-9e21-4758-af2e-f65a470108e4\")>,\n",
       " <selenium.webdriver.remote.webelement.WebElement (session=\"2bfeb8717ce1bb243733520119c94ab6\", element=\"829c0678-79ed-4a6d-8085-a41662cbfdcd\")>,\n",
       " <selenium.webdriver.remote.webelement.WebElement (session=\"2bfeb8717ce1bb243733520119c94ab6\", element=\"2cbab3c3-bb61-4d29-80e7-882e04107c9e\")>,\n",
       " <selenium.webdriver.remote.webelement.WebElement (session=\"2bfeb8717ce1bb243733520119c94ab6\", element=\"ff7da4f7-3cb2-4317-8e2c-ab0a808104d2\")>,\n",
       " <selenium.webdriver.remote.webelement.WebElement (session=\"2bfeb8717ce1bb243733520119c94ab6\", element=\"0f88e512-c858-427c-b028-c3e8ca0bb789\")>,\n",
       " <selenium.webdriver.remote.webelement.WebElement (session=\"2bfeb8717ce1bb243733520119c94ab6\", element=\"6017aa59-9640-4b75-895a-31fe89a491ad\")>,\n",
       " <selenium.webdriver.remote.webelement.WebElement (session=\"2bfeb8717ce1bb243733520119c94ab6\", element=\"5166d758-0285-4616-ab39-501f4a3a7cba\")>,\n",
       " <selenium.webdriver.remote.webelement.WebElement (session=\"2bfeb8717ce1bb243733520119c94ab6\", element=\"bfe7b470-c11d-40bb-95fa-b3b0157f57b6\")>,\n",
       " <selenium.webdriver.remote.webelement.WebElement (session=\"2bfeb8717ce1bb243733520119c94ab6\", element=\"d04c3324-04da-4169-806b-c470fe7ad656\")>,\n",
       " <selenium.webdriver.remote.webelement.WebElement (session=\"2bfeb8717ce1bb243733520119c94ab6\", element=\"d39c4d59-32d2-470b-a983-7e219e718f9d\")>,\n",
       " <selenium.webdriver.remote.webelement.WebElement (session=\"2bfeb8717ce1bb243733520119c94ab6\", element=\"c6a743d5-05e0-4e95-a3b1-078010ce61f2\")>,\n",
       " <selenium.webdriver.remote.webelement.WebElement (session=\"2bfeb8717ce1bb243733520119c94ab6\", element=\"18313bf7-45bd-40c6-a6be-274e81893dc9\")>,\n",
       " <selenium.webdriver.remote.webelement.WebElement (session=\"2bfeb8717ce1bb243733520119c94ab6\", element=\"9135806d-21ba-47b3-983d-901b040d2f07\")>,\n",
       " <selenium.webdriver.remote.webelement.WebElement (session=\"2bfeb8717ce1bb243733520119c94ab6\", element=\"7c01039e-4c2f-4408-a564-b2cca1511086\")>,\n",
       " <selenium.webdriver.remote.webelement.WebElement (session=\"2bfeb8717ce1bb243733520119c94ab6\", element=\"77906777-b62f-4daf-9473-e85ac5ebed38\")>,\n",
       " <selenium.webdriver.remote.webelement.WebElement (session=\"2bfeb8717ce1bb243733520119c94ab6\", element=\"e97f51ed-393b-48a1-8913-9bc0c49d499e\")>,\n",
       " <selenium.webdriver.remote.webelement.WebElement (session=\"2bfeb8717ce1bb243733520119c94ab6\", element=\"4c0e0f62-1586-40c2-9595-5256312250e4\")>,\n",
       " <selenium.webdriver.remote.webelement.WebElement (session=\"2bfeb8717ce1bb243733520119c94ab6\", element=\"2973badb-0462-4cbf-a3e6-fcc987ceb525\")>,\n",
       " <selenium.webdriver.remote.webelement.WebElement (session=\"2bfeb8717ce1bb243733520119c94ab6\", element=\"4d112ba5-aaf9-4da9-8a4c-809cdfab5078\")>,\n",
       " <selenium.webdriver.remote.webelement.WebElement (session=\"2bfeb8717ce1bb243733520119c94ab6\", element=\"dff87109-3b8e-4186-858a-cc9155082a4a\")>,\n",
       " <selenium.webdriver.remote.webelement.WebElement (session=\"2bfeb8717ce1bb243733520119c94ab6\", element=\"44092367-1b88-447e-a11a-f69add9f8305\")>,\n",
       " <selenium.webdriver.remote.webelement.WebElement (session=\"2bfeb8717ce1bb243733520119c94ab6\", element=\"800cb9a0-84fa-427a-80b8-9dd533f82d0c\")>,\n",
       " <selenium.webdriver.remote.webelement.WebElement (session=\"2bfeb8717ce1bb243733520119c94ab6\", element=\"accdf3f0-e840-45b1-938c-ff5846e19f4d\")>,\n",
       " <selenium.webdriver.remote.webelement.WebElement (session=\"2bfeb8717ce1bb243733520119c94ab6\", element=\"b3ba650b-0858-4856-bf67-00f13dd68434\")>,\n",
       " <selenium.webdriver.remote.webelement.WebElement (session=\"2bfeb8717ce1bb243733520119c94ab6\", element=\"494735ee-6433-419c-95f9-63a8b107fc3d\")>,\n",
       " <selenium.webdriver.remote.webelement.WebElement (session=\"2bfeb8717ce1bb243733520119c94ab6\", element=\"01ae99e4-ddbe-44d2-9523-2c3e22190dde\")>,\n",
       " <selenium.webdriver.remote.webelement.WebElement (session=\"2bfeb8717ce1bb243733520119c94ab6\", element=\"8b4c7f1a-7381-40f4-a04f-af1dac6f4d2d\")>,\n",
       " <selenium.webdriver.remote.webelement.WebElement (session=\"2bfeb8717ce1bb243733520119c94ab6\", element=\"4cf91ae6-5e72-41ee-a479-f990d6b284ce\")>,\n",
       " <selenium.webdriver.remote.webelement.WebElement (session=\"2bfeb8717ce1bb243733520119c94ab6\", element=\"77339934-84d7-456c-a4ae-ac060a5e6e24\")>,\n",
       " <selenium.webdriver.remote.webelement.WebElement (session=\"2bfeb8717ce1bb243733520119c94ab6\", element=\"961c50d0-1b46-4d60-a6a3-8b30354cc18f\")>,\n",
       " <selenium.webdriver.remote.webelement.WebElement (session=\"2bfeb8717ce1bb243733520119c94ab6\", element=\"6f2d9a20-7263-4183-9f14-0605fd1bc116\")>,\n",
       " <selenium.webdriver.remote.webelement.WebElement (session=\"2bfeb8717ce1bb243733520119c94ab6\", element=\"0c71bb4d-11cb-4ce8-8a5a-44b691105057\")>,\n",
       " <selenium.webdriver.remote.webelement.WebElement (session=\"2bfeb8717ce1bb243733520119c94ab6\", element=\"f7d121b8-b2de-4805-a1b1-bfe4d5e1d242\")>,\n",
       " <selenium.webdriver.remote.webelement.WebElement (session=\"2bfeb8717ce1bb243733520119c94ab6\", element=\"c97c1519-be22-4ec9-aa6f-37f7d110b1ee\")>,\n",
       " <selenium.webdriver.remote.webelement.WebElement (session=\"2bfeb8717ce1bb243733520119c94ab6\", element=\"ef8f72f1-bc80-47f9-aaf6-eae168338646\")>,\n",
       " <selenium.webdriver.remote.webelement.WebElement (session=\"2bfeb8717ce1bb243733520119c94ab6\", element=\"ce4ec1db-e9f5-43c2-9c47-7f7d6af52518\")>,\n",
       " <selenium.webdriver.remote.webelement.WebElement (session=\"2bfeb8717ce1bb243733520119c94ab6\", element=\"7c5d4a17-bb59-4f2e-a61f-f6ff0a09d91e\")>,\n",
       " <selenium.webdriver.remote.webelement.WebElement (session=\"2bfeb8717ce1bb243733520119c94ab6\", element=\"71bd16e3-0cf1-4312-8523-492173b9d7ab\")>,\n",
       " <selenium.webdriver.remote.webelement.WebElement (session=\"2bfeb8717ce1bb243733520119c94ab6\", element=\"25c84991-649a-45f4-a289-1e66e70d41ea\")>,\n",
       " <selenium.webdriver.remote.webelement.WebElement (session=\"2bfeb8717ce1bb243733520119c94ab6\", element=\"1ae5bc53-ed7c-4639-86c3-2ca431f0f4f2\")>,\n",
       " <selenium.webdriver.remote.webelement.WebElement (session=\"2bfeb8717ce1bb243733520119c94ab6\", element=\"9ea9bbfc-4e7c-4e01-a52c-7ae2caeab821\")>,\n",
       " <selenium.webdriver.remote.webelement.WebElement (session=\"2bfeb8717ce1bb243733520119c94ab6\", element=\"c84f2e8c-8559-4097-8b28-c625a1c4f1fa\")>,\n",
       " <selenium.webdriver.remote.webelement.WebElement (session=\"2bfeb8717ce1bb243733520119c94ab6\", element=\"80a9a16d-23f1-45ea-b729-2511c2ce4efe\")>]"
      ]
     },
     "execution_count": 43,
     "metadata": {},
     "output_type": "execute_result"
    }
   ],
   "source": [
    "brand_tags = driver.find_elements_by_xpath('//h3[@class=\"product-brand\"]')\n",
    "len(brand_tags)\n",
    "brand_tags[0:50]"
   ]
  },
  {
   "cell_type": "code",
   "execution_count": 42,
   "id": "460cd619",
   "metadata": {},
   "outputs": [
    {
     "data": {
      "text/plain": [
       "['Puma',\n",
       " 'Delize',\n",
       " 'Puma',\n",
       " 'Delize',\n",
       " 'Bugatti',\n",
       " 'Delize',\n",
       " 'Puma',\n",
       " 'Saint G',\n",
       " 'DAVINCHI',\n",
       " 'ASICS',\n",
       " 'ROSSO BRUNELLO',\n",
       " 'Saint G',\n",
       " 'RARE RABBIT',\n",
       " 'Geox',\n",
       " 'Bugatti',\n",
       " 'J.FONTINI',\n",
       " 'J.FONTINI',\n",
       " 'Delize',\n",
       " 'RARE RABBIT',\n",
       " 'Delize',\n",
       " 'DAVINCHI',\n",
       " 'Delize',\n",
       " 'Delize',\n",
       " 'Saint G',\n",
       " 'Delize',\n",
       " 'Saint G',\n",
       " 'Saint G',\n",
       " 'Delize',\n",
       " 'Delize',\n",
       " 'Saint G',\n",
       " 'Saint G',\n",
       " 'Geox',\n",
       " 'Puma',\n",
       " 'Columbia',\n",
       " 'Saint G',\n",
       " 'Bugatti',\n",
       " 'Delize',\n",
       " 'Delize',\n",
       " 'Heel & Buckle London',\n",
       " 'Delize',\n",
       " 'Xtep',\n",
       " 'J.FONTINI',\n",
       " 'Delize',\n",
       " 'DAVINCHI',\n",
       " 'Delize',\n",
       " 'DAVINCHI',\n",
       " 'Geox',\n",
       " 'Geox',\n",
       " 'Geox',\n",
       " 'DAVINCHI']"
      ]
     },
     "execution_count": 42,
     "metadata": {},
     "output_type": "execute_result"
    }
   ],
   "source": [
    "brand = []\n",
    "for i in brand_tags:\n",
    "    brand.append(i.text)\n",
    "len(brand)\n",
    "brand[0:50]"
   ]
  },
  {
   "cell_type": "code",
   "execution_count": 44,
   "id": "b9800a29",
   "metadata": {},
   "outputs": [
    {
     "data": {
      "text/plain": [
       "50"
      ]
     },
     "execution_count": 44,
     "metadata": {},
     "output_type": "execute_result"
    }
   ],
   "source": [
    "len(brand_tags)"
   ]
  },
  {
   "cell_type": "code",
   "execution_count": 41,
   "id": "2a88b506",
   "metadata": {},
   "outputs": [
    {
     "data": {
      "text/plain": [
       "[<selenium.webdriver.remote.webelement.WebElement (session=\"2bfeb8717ce1bb243733520119c94ab6\", element=\"56973e69-0151-4f88-a243-7ea2f7e34093\")>,\n",
       " <selenium.webdriver.remote.webelement.WebElement (session=\"2bfeb8717ce1bb243733520119c94ab6\", element=\"a3e12aa8-4cf7-47fc-8251-4d696259a2d2\")>,\n",
       " <selenium.webdriver.remote.webelement.WebElement (session=\"2bfeb8717ce1bb243733520119c94ab6\", element=\"66e9ba30-dc63-428a-b1ae-d88bb32db5b9\")>,\n",
       " <selenium.webdriver.remote.webelement.WebElement (session=\"2bfeb8717ce1bb243733520119c94ab6\", element=\"7d814e77-e3ae-4658-8680-b8c7bfee42a1\")>,\n",
       " <selenium.webdriver.remote.webelement.WebElement (session=\"2bfeb8717ce1bb243733520119c94ab6\", element=\"36644f55-752a-4e86-b245-1b4844118db8\")>,\n",
       " <selenium.webdriver.remote.webelement.WebElement (session=\"2bfeb8717ce1bb243733520119c94ab6\", element=\"0627c6b8-15f0-48d1-927d-aa096fff6593\")>,\n",
       " <selenium.webdriver.remote.webelement.WebElement (session=\"2bfeb8717ce1bb243733520119c94ab6\", element=\"484ba8b9-573e-40ee-b0cc-047ebd1da079\")>,\n",
       " <selenium.webdriver.remote.webelement.WebElement (session=\"2bfeb8717ce1bb243733520119c94ab6\", element=\"fdc746b0-aabb-4cbf-8d8b-699e518cc3c8\")>,\n",
       " <selenium.webdriver.remote.webelement.WebElement (session=\"2bfeb8717ce1bb243733520119c94ab6\", element=\"01b1895e-70d5-4cc4-866b-c6b3a20d2e79\")>,\n",
       " <selenium.webdriver.remote.webelement.WebElement (session=\"2bfeb8717ce1bb243733520119c94ab6\", element=\"a885d006-83d8-45cf-9b15-16e4ec5d22e4\")>,\n",
       " <selenium.webdriver.remote.webelement.WebElement (session=\"2bfeb8717ce1bb243733520119c94ab6\", element=\"fc684504-0385-4007-b079-e08e3c99f49c\")>,\n",
       " <selenium.webdriver.remote.webelement.WebElement (session=\"2bfeb8717ce1bb243733520119c94ab6\", element=\"2a044f68-6a22-4fa1-bfe4-c682857445cf\")>,\n",
       " <selenium.webdriver.remote.webelement.WebElement (session=\"2bfeb8717ce1bb243733520119c94ab6\", element=\"3035788e-28a6-465a-9746-2da76e272956\")>,\n",
       " <selenium.webdriver.remote.webelement.WebElement (session=\"2bfeb8717ce1bb243733520119c94ab6\", element=\"d3cea3f1-a432-408b-b87e-f2e617ba9146\")>,\n",
       " <selenium.webdriver.remote.webelement.WebElement (session=\"2bfeb8717ce1bb243733520119c94ab6\", element=\"208fea11-008c-4c84-a52d-f4d473f2eae5\")>,\n",
       " <selenium.webdriver.remote.webelement.WebElement (session=\"2bfeb8717ce1bb243733520119c94ab6\", element=\"9b2388d7-4078-4a36-b641-0e3519a7aff9\")>,\n",
       " <selenium.webdriver.remote.webelement.WebElement (session=\"2bfeb8717ce1bb243733520119c94ab6\", element=\"0c6083dd-03f5-43e2-82e0-e7c858ab824b\")>,\n",
       " <selenium.webdriver.remote.webelement.WebElement (session=\"2bfeb8717ce1bb243733520119c94ab6\", element=\"fdf58502-0c42-41d0-8e63-e048df1322e2\")>,\n",
       " <selenium.webdriver.remote.webelement.WebElement (session=\"2bfeb8717ce1bb243733520119c94ab6\", element=\"2dfdce0a-b16e-4301-805f-2b2c645cfe24\")>,\n",
       " <selenium.webdriver.remote.webelement.WebElement (session=\"2bfeb8717ce1bb243733520119c94ab6\", element=\"7e69da1e-d5f9-455b-af5b-fc7611d13f7f\")>,\n",
       " <selenium.webdriver.remote.webelement.WebElement (session=\"2bfeb8717ce1bb243733520119c94ab6\", element=\"aa7afcf2-861c-413f-b506-2dddd99bde9e\")>,\n",
       " <selenium.webdriver.remote.webelement.WebElement (session=\"2bfeb8717ce1bb243733520119c94ab6\", element=\"7beb4ef0-2714-4084-9169-bb405e282e26\")>,\n",
       " <selenium.webdriver.remote.webelement.WebElement (session=\"2bfeb8717ce1bb243733520119c94ab6\", element=\"f179a25b-4dba-488a-b28b-eda47f9815b1\")>,\n",
       " <selenium.webdriver.remote.webelement.WebElement (session=\"2bfeb8717ce1bb243733520119c94ab6\", element=\"b63edac9-9ab1-4653-9fdc-19842e152f12\")>,\n",
       " <selenium.webdriver.remote.webelement.WebElement (session=\"2bfeb8717ce1bb243733520119c94ab6\", element=\"a68cfe5a-712e-46ea-948a-1a2e46f28352\")>,\n",
       " <selenium.webdriver.remote.webelement.WebElement (session=\"2bfeb8717ce1bb243733520119c94ab6\", element=\"45a07c70-5948-4054-943f-c31e03c375ec\")>,\n",
       " <selenium.webdriver.remote.webelement.WebElement (session=\"2bfeb8717ce1bb243733520119c94ab6\", element=\"f1deed42-3bdf-4ea3-b9af-d4a7ab9cc5f5\")>,\n",
       " <selenium.webdriver.remote.webelement.WebElement (session=\"2bfeb8717ce1bb243733520119c94ab6\", element=\"5d40e74a-1d3d-46f5-91f7-08f7ed8e7c28\")>,\n",
       " <selenium.webdriver.remote.webelement.WebElement (session=\"2bfeb8717ce1bb243733520119c94ab6\", element=\"0441adb5-8677-463c-99e5-133bfd22a051\")>,\n",
       " <selenium.webdriver.remote.webelement.WebElement (session=\"2bfeb8717ce1bb243733520119c94ab6\", element=\"6ccc9404-5460-427a-8960-1f83ef66ef23\")>,\n",
       " <selenium.webdriver.remote.webelement.WebElement (session=\"2bfeb8717ce1bb243733520119c94ab6\", element=\"d3bef502-bff1-4905-827a-4e33a30828fd\")>,\n",
       " <selenium.webdriver.remote.webelement.WebElement (session=\"2bfeb8717ce1bb243733520119c94ab6\", element=\"504a0e0b-bfd9-4693-aced-cc0f71c796a0\")>,\n",
       " <selenium.webdriver.remote.webelement.WebElement (session=\"2bfeb8717ce1bb243733520119c94ab6\", element=\"a7e1c594-97ae-4209-ae90-09e850fa3190\")>,\n",
       " <selenium.webdriver.remote.webelement.WebElement (session=\"2bfeb8717ce1bb243733520119c94ab6\", element=\"04fa2ef4-cb04-4219-916e-86e3425ccaca\")>,\n",
       " <selenium.webdriver.remote.webelement.WebElement (session=\"2bfeb8717ce1bb243733520119c94ab6\", element=\"eaaf530d-cf03-4d15-87eb-03c90aa00657\")>,\n",
       " <selenium.webdriver.remote.webelement.WebElement (session=\"2bfeb8717ce1bb243733520119c94ab6\", element=\"854b82e9-7003-40a2-b07a-6aad21ff907e\")>,\n",
       " <selenium.webdriver.remote.webelement.WebElement (session=\"2bfeb8717ce1bb243733520119c94ab6\", element=\"aec18b1a-e2c9-4e68-bc10-e9f669f4c6e4\")>,\n",
       " <selenium.webdriver.remote.webelement.WebElement (session=\"2bfeb8717ce1bb243733520119c94ab6\", element=\"afc3c797-0ca1-463b-90a9-98f14e005cc6\")>,\n",
       " <selenium.webdriver.remote.webelement.WebElement (session=\"2bfeb8717ce1bb243733520119c94ab6\", element=\"6908fb42-d708-4879-a4d5-7807723ea36a\")>,\n",
       " <selenium.webdriver.remote.webelement.WebElement (session=\"2bfeb8717ce1bb243733520119c94ab6\", element=\"7a477b40-b148-40eb-8383-5abb2c500071\")>,\n",
       " <selenium.webdriver.remote.webelement.WebElement (session=\"2bfeb8717ce1bb243733520119c94ab6\", element=\"ef9bed5b-a844-4c7a-98d6-a321a13aabf8\")>,\n",
       " <selenium.webdriver.remote.webelement.WebElement (session=\"2bfeb8717ce1bb243733520119c94ab6\", element=\"0544f74b-7259-4bb4-ac2f-6b918e5c3b4b\")>,\n",
       " <selenium.webdriver.remote.webelement.WebElement (session=\"2bfeb8717ce1bb243733520119c94ab6\", element=\"4b5789a1-bf35-4790-aa90-100c171d484d\")>,\n",
       " <selenium.webdriver.remote.webelement.WebElement (session=\"2bfeb8717ce1bb243733520119c94ab6\", element=\"45103f6f-6d8c-48ac-a90e-f9367bb3f12b\")>,\n",
       " <selenium.webdriver.remote.webelement.WebElement (session=\"2bfeb8717ce1bb243733520119c94ab6\", element=\"954c9a03-385c-4bcf-82f8-9f3012169d1b\")>,\n",
       " <selenium.webdriver.remote.webelement.WebElement (session=\"2bfeb8717ce1bb243733520119c94ab6\", element=\"cc21f7c0-9243-4e93-a41d-c631b9e7cb7b\")>,\n",
       " <selenium.webdriver.remote.webelement.WebElement (session=\"2bfeb8717ce1bb243733520119c94ab6\", element=\"7648ae82-17b7-4a62-ac71-795ad75cba76\")>,\n",
       " <selenium.webdriver.remote.webelement.WebElement (session=\"2bfeb8717ce1bb243733520119c94ab6\", element=\"4f87fcee-5d2d-4f29-a9fd-d763fcd298f9\")>,\n",
       " <selenium.webdriver.remote.webelement.WebElement (session=\"2bfeb8717ce1bb243733520119c94ab6\", element=\"767c4bad-9d66-4a9b-a5a8-f03289e40553\")>,\n",
       " <selenium.webdriver.remote.webelement.WebElement (session=\"2bfeb8717ce1bb243733520119c94ab6\", element=\"f93d219f-6d41-435a-8742-216cb11e23d1\")>]"
      ]
     },
     "execution_count": 41,
     "metadata": {},
     "output_type": "execute_result"
    }
   ],
   "source": [
    "product_tags = driver.find_elements_by_xpath(\"//h4[@class='product-product']\")\n",
    "len(product_tags)\n",
    "product_tags[0:50]"
   ]
  },
  {
   "cell_type": "code",
   "execution_count": 45,
   "id": "40d8527f",
   "metadata": {},
   "outputs": [
    {
     "data": {
      "text/plain": [
       "['Men Running Shoes',\n",
       " 'Women High-Top Heeled Boots',\n",
       " 'Men Magnify Nitro Running',\n",
       " 'Block Heeled Boots',\n",
       " 'Men Running Shoes',\n",
       " 'High-Top Block Heeled Boots',\n",
       " 'Women Magnify Nitro Shoes',\n",
       " 'Men Mid-Top Chelsea Boots',\n",
       " 'Men Textured Formal Leather Loafers',\n",
       " 'Men Colourblocked PU Sneakers',\n",
       " 'Men Textured Formal Loafers',\n",
       " 'Men Leather Chelsea Boots',\n",
       " 'Men Leather Flat Boots',\n",
       " 'Men Leather Flat Boots',\n",
       " 'Men Textured Leather High-Top Flat Boots',\n",
       " 'Men Textured Leather Loafers',\n",
       " 'Men Textured Leather Loafers',\n",
       " 'Party High-Top Platform Heeled Boots',\n",
       " 'Men Textured Leather Loafers',\n",
       " 'Leather Party High-Top Block Heeled Boots',\n",
       " 'Men Solid Leather Formal Derbys',\n",
       " 'High-Top Block Heeled Boots',\n",
       " 'High-Top Block Heeled Boots',\n",
       " 'Leather Knee High Slouch Boots',\n",
       " 'Block Heeled Boots',\n",
       " 'Leather Wedge Heeled Boots with Buckles',\n",
       " 'Women Leather Heeled Boots',\n",
       " 'Men Flat Boots',\n",
       " 'Leather Block Heeled Boots',\n",
       " 'Embellished Leather Block Heeled Boots',\n",
       " 'Suede Party High-Top Block Heeled Boots',\n",
       " 'Women Leather Pumps',\n",
       " 'Women Velocity NITRO Runners',\n",
       " 'PEAKFREAK OUTDRY Trekking Shoe',\n",
       " 'Women Leather Loafers',\n",
       " 'Men Black Walking Shoes',\n",
       " 'Women Heeled Boots',\n",
       " 'High-Top Block Heeled Boots',\n",
       " 'Men Formal Leather Derby',\n",
       " 'Women Leather Flat Boots',\n",
       " 'Men Running Shoes',\n",
       " 'Men Black Leather Loafers',\n",
       " 'Men Derby Flat Boots',\n",
       " 'Men Formal Leather Slip-Ons',\n",
       " 'Men Leather Flat Boots',\n",
       " 'Ustraa black',\n",
       " 'Men Leather Loafers',\n",
       " 'Women Solid Leather Pumps',\n",
       " 'Women Solid Leather Pumps',\n",
       " 'Men Textured Formal Leather Loafers']"
      ]
     },
     "execution_count": 45,
     "metadata": {},
     "output_type": "execute_result"
    }
   ],
   "source": [
    "product = []\n",
    "for i in product_tags:\n",
    "    product.append(i.text)\n",
    "len(product)\n",
    "product[0:100]"
   ]
  },
  {
   "cell_type": "code",
   "execution_count": 46,
   "id": "3281309a",
   "metadata": {},
   "outputs": [
    {
     "data": {
      "text/plain": [
       "50"
      ]
     },
     "execution_count": 46,
     "metadata": {},
     "output_type": "execute_result"
    }
   ],
   "source": [
    "len(product_tags)"
   ]
  },
  {
   "cell_type": "code",
   "execution_count": 50,
   "id": "4bee808c",
   "metadata": {},
   "outputs": [
    {
     "data": {
      "text/plain": [
       "[<selenium.webdriver.remote.webelement.WebElement (session=\"2bfeb8717ce1bb243733520119c94ab6\", element=\"1c2ee74e-b724-4b02-a015-80eeccbf9db0\")>,\n",
       " <selenium.webdriver.remote.webelement.WebElement (session=\"2bfeb8717ce1bb243733520119c94ab6\", element=\"7d83f3fc-cd83-47b1-80f0-e3d3f36dd4e2\")>,\n",
       " <selenium.webdriver.remote.webelement.WebElement (session=\"2bfeb8717ce1bb243733520119c94ab6\", element=\"63b0e8a1-ba9b-4a7a-aa33-10293316997e\")>,\n",
       " <selenium.webdriver.remote.webelement.WebElement (session=\"2bfeb8717ce1bb243733520119c94ab6\", element=\"13f6ad91-91bd-49bc-af35-e7b4c7d509e3\")>,\n",
       " <selenium.webdriver.remote.webelement.WebElement (session=\"2bfeb8717ce1bb243733520119c94ab6\", element=\"df91c409-981b-4fff-9c42-f071b0f5655e\")>,\n",
       " <selenium.webdriver.remote.webelement.WebElement (session=\"2bfeb8717ce1bb243733520119c94ab6\", element=\"9652e0c9-a2b8-4081-88af-4ad887448b5d\")>,\n",
       " <selenium.webdriver.remote.webelement.WebElement (session=\"2bfeb8717ce1bb243733520119c94ab6\", element=\"1d3f229c-b2e9-45bf-bdc5-4ae54719c764\")>,\n",
       " <selenium.webdriver.remote.webelement.WebElement (session=\"2bfeb8717ce1bb243733520119c94ab6\", element=\"59f76b45-fcf1-4ed8-a893-a6742ce4fa30\")>,\n",
       " <selenium.webdriver.remote.webelement.WebElement (session=\"2bfeb8717ce1bb243733520119c94ab6\", element=\"5bc62ff2-e1b4-46ee-a06c-6e03da9befc2\")>,\n",
       " <selenium.webdriver.remote.webelement.WebElement (session=\"2bfeb8717ce1bb243733520119c94ab6\", element=\"a1ad4390-f3d5-4fc9-b09e-88270a8815e8\")>,\n",
       " <selenium.webdriver.remote.webelement.WebElement (session=\"2bfeb8717ce1bb243733520119c94ab6\", element=\"09ec47b2-b6bb-4a90-9385-e3ba5b63f19b\")>,\n",
       " <selenium.webdriver.remote.webelement.WebElement (session=\"2bfeb8717ce1bb243733520119c94ab6\", element=\"f9f69e3a-20aa-4e4a-9076-4ba5bfd9dcd6\")>,\n",
       " <selenium.webdriver.remote.webelement.WebElement (session=\"2bfeb8717ce1bb243733520119c94ab6\", element=\"583d0f02-13db-474d-a900-488184e32900\")>,\n",
       " <selenium.webdriver.remote.webelement.WebElement (session=\"2bfeb8717ce1bb243733520119c94ab6\", element=\"2c8441d7-0a8e-4e07-9d6b-867214d63e90\")>,\n",
       " <selenium.webdriver.remote.webelement.WebElement (session=\"2bfeb8717ce1bb243733520119c94ab6\", element=\"9d071c2e-da9c-44cc-9800-5f32dcefb4d9\")>,\n",
       " <selenium.webdriver.remote.webelement.WebElement (session=\"2bfeb8717ce1bb243733520119c94ab6\", element=\"3080fda4-3f4a-49d4-b43b-60d516e2be04\")>,\n",
       " <selenium.webdriver.remote.webelement.WebElement (session=\"2bfeb8717ce1bb243733520119c94ab6\", element=\"a8f1f970-5cd3-456e-8fed-f9d0ae1fc759\")>,\n",
       " <selenium.webdriver.remote.webelement.WebElement (session=\"2bfeb8717ce1bb243733520119c94ab6\", element=\"a6888a58-8a1a-48f6-976e-a7d71770cfaf\")>,\n",
       " <selenium.webdriver.remote.webelement.WebElement (session=\"2bfeb8717ce1bb243733520119c94ab6\", element=\"1e564081-14fd-4422-95cc-ec5352d5eaee\")>,\n",
       " <selenium.webdriver.remote.webelement.WebElement (session=\"2bfeb8717ce1bb243733520119c94ab6\", element=\"2d74d09e-2812-44b3-b0c5-addb2356d683\")>,\n",
       " <selenium.webdriver.remote.webelement.WebElement (session=\"2bfeb8717ce1bb243733520119c94ab6\", element=\"4cb9272e-a5f9-4a4a-9c89-8bbd8f584a63\")>,\n",
       " <selenium.webdriver.remote.webelement.WebElement (session=\"2bfeb8717ce1bb243733520119c94ab6\", element=\"9a73bb0b-e32e-45d4-8c0f-b4ea3b0a0e3a\")>,\n",
       " <selenium.webdriver.remote.webelement.WebElement (session=\"2bfeb8717ce1bb243733520119c94ab6\", element=\"45a2bfcd-1798-4042-9dba-5a1a021bea09\")>,\n",
       " <selenium.webdriver.remote.webelement.WebElement (session=\"2bfeb8717ce1bb243733520119c94ab6\", element=\"1bb05e35-e597-43f4-858d-3c99883a589b\")>,\n",
       " <selenium.webdriver.remote.webelement.WebElement (session=\"2bfeb8717ce1bb243733520119c94ab6\", element=\"f00554d7-ea1f-4560-8052-c3227317e1d7\")>,\n",
       " <selenium.webdriver.remote.webelement.WebElement (session=\"2bfeb8717ce1bb243733520119c94ab6\", element=\"2b00857e-d56d-4eb8-b414-ca694189f181\")>,\n",
       " <selenium.webdriver.remote.webelement.WebElement (session=\"2bfeb8717ce1bb243733520119c94ab6\", element=\"aae6caca-1fe7-4ed6-9c6c-40df62c790dc\")>,\n",
       " <selenium.webdriver.remote.webelement.WebElement (session=\"2bfeb8717ce1bb243733520119c94ab6\", element=\"f5c0b681-1e14-4675-97a3-7b729f571467\")>,\n",
       " <selenium.webdriver.remote.webelement.WebElement (session=\"2bfeb8717ce1bb243733520119c94ab6\", element=\"4f9cc225-3333-4d3f-a056-f4b78edf9978\")>,\n",
       " <selenium.webdriver.remote.webelement.WebElement (session=\"2bfeb8717ce1bb243733520119c94ab6\", element=\"69cf84e0-22fe-4265-8ccb-0e28cd44887c\")>,\n",
       " <selenium.webdriver.remote.webelement.WebElement (session=\"2bfeb8717ce1bb243733520119c94ab6\", element=\"01587a51-e8a9-4fc0-bd71-45d52896972b\")>,\n",
       " <selenium.webdriver.remote.webelement.WebElement (session=\"2bfeb8717ce1bb243733520119c94ab6\", element=\"08bb10a4-b749-4694-a468-dbfe9e1d8959\")>,\n",
       " <selenium.webdriver.remote.webelement.WebElement (session=\"2bfeb8717ce1bb243733520119c94ab6\", element=\"960c249c-d29c-4729-bba4-f8d70f6069c2\")>,\n",
       " <selenium.webdriver.remote.webelement.WebElement (session=\"2bfeb8717ce1bb243733520119c94ab6\", element=\"4b5ff156-b500-4e32-9fcd-3386a3caa589\")>,\n",
       " <selenium.webdriver.remote.webelement.WebElement (session=\"2bfeb8717ce1bb243733520119c94ab6\", element=\"5f2f2d4a-e25d-4083-ac53-84c1f7cd3f60\")>,\n",
       " <selenium.webdriver.remote.webelement.WebElement (session=\"2bfeb8717ce1bb243733520119c94ab6\", element=\"001a5208-237d-4580-8c96-757113f13c18\")>,\n",
       " <selenium.webdriver.remote.webelement.WebElement (session=\"2bfeb8717ce1bb243733520119c94ab6\", element=\"0982f7e0-fbb6-483f-b230-a09a79fa2746\")>,\n",
       " <selenium.webdriver.remote.webelement.WebElement (session=\"2bfeb8717ce1bb243733520119c94ab6\", element=\"ca9aca16-decc-4fe4-a1f2-1c6be25a268e\")>,\n",
       " <selenium.webdriver.remote.webelement.WebElement (session=\"2bfeb8717ce1bb243733520119c94ab6\", element=\"86e81eb3-f89b-468e-ab01-13c0b01f4a58\")>,\n",
       " <selenium.webdriver.remote.webelement.WebElement (session=\"2bfeb8717ce1bb243733520119c94ab6\", element=\"f7513d9c-1f47-40d0-825c-5cff353ad1fe\")>,\n",
       " <selenium.webdriver.remote.webelement.WebElement (session=\"2bfeb8717ce1bb243733520119c94ab6\", element=\"a1ecc88f-d5d7-4020-aa7c-eddd95c59ab3\")>,\n",
       " <selenium.webdriver.remote.webelement.WebElement (session=\"2bfeb8717ce1bb243733520119c94ab6\", element=\"f20e929e-45bd-4d54-a3cf-43417367fd28\")>,\n",
       " <selenium.webdriver.remote.webelement.WebElement (session=\"2bfeb8717ce1bb243733520119c94ab6\", element=\"57ac9d05-6564-4c9c-a857-2885f96e951d\")>,\n",
       " <selenium.webdriver.remote.webelement.WebElement (session=\"2bfeb8717ce1bb243733520119c94ab6\", element=\"821401a5-d135-4ef1-aa7e-b14ccd148f86\")>,\n",
       " <selenium.webdriver.remote.webelement.WebElement (session=\"2bfeb8717ce1bb243733520119c94ab6\", element=\"12f227fa-82e3-4fb4-b396-1595be20d855\")>,\n",
       " <selenium.webdriver.remote.webelement.WebElement (session=\"2bfeb8717ce1bb243733520119c94ab6\", element=\"6bcaea11-1284-4c1e-bb3c-168640335225\")>,\n",
       " <selenium.webdriver.remote.webelement.WebElement (session=\"2bfeb8717ce1bb243733520119c94ab6\", element=\"1e048476-1bb1-40cb-8f89-93dde1820660\")>,\n",
       " <selenium.webdriver.remote.webelement.WebElement (session=\"2bfeb8717ce1bb243733520119c94ab6\", element=\"533d6442-d09d-4bed-999b-502d77dbbbd8\")>,\n",
       " <selenium.webdriver.remote.webelement.WebElement (session=\"2bfeb8717ce1bb243733520119c94ab6\", element=\"8a391c57-6d83-411c-847b-a2fc58ee8a2b\")>,\n",
       " <selenium.webdriver.remote.webelement.WebElement (session=\"2bfeb8717ce1bb243733520119c94ab6\", element=\"045380c8-8e1c-410e-b402-4fca707bd518\")>]"
      ]
     },
     "execution_count": 50,
     "metadata": {},
     "output_type": "execute_result"
    }
   ],
   "source": [
    "price_tags = driver.find_elements_by_xpath('//div[@class=\"product-price\"]')\n",
    "len(price_tags)\n",
    "price_tags[0:50]"
   ]
  },
  {
   "cell_type": "code",
   "execution_count": 51,
   "id": "de02b1ad",
   "metadata": {},
   "outputs": [
    {
     "data": {
      "text/plain": [
       "['Rs. 7149Rs. 12999(45% OFF)',\n",
       " 'Rs. 8099',\n",
       " 'Rs. 7799Rs. 12999(40% OFF)',\n",
       " 'Rs. 9999',\n",
       " 'Rs. 7999Rs. 9999(20% OFF)',\n",
       " 'Rs. 9999',\n",
       " 'Rs. 7799Rs. 12999(40% OFF)',\n",
       " 'Rs. 9265Rs. 10900(15% OFF)',\n",
       " 'Rs. 8990',\n",
       " 'Rs. 9999',\n",
       " 'Rs. 10999',\n",
       " 'Rs. 10115Rs. 11900(15% OFF)',\n",
       " 'Rs. 7999Rs. 9999(20% OFF)',\n",
       " 'Rs. 8399Rs. 11999(30% OFF)',\n",
       " 'Rs. 8399Rs. 11999(30% OFF)',\n",
       " 'Rs. 7990',\n",
       " 'Rs. 7990',\n",
       " 'Rs. 9999',\n",
       " 'Rs. 7149Rs. 10999(35% OFF)',\n",
       " 'Rs. 9999',\n",
       " 'Rs. 8990',\n",
       " 'Rs. 9999',\n",
       " 'Rs. 9999',\n",
       " 'Rs. 13175Rs. 15500(15% OFF)',\n",
       " 'Rs. 9999',\n",
       " 'Rs. 12665Rs. 14900(15% OFF)',\n",
       " 'Rs. 12665Rs. 14900(15% OFF)',\n",
       " 'Rs. 8099',\n",
       " 'Rs. 9999',\n",
       " 'Rs. 9546Rs. 12900(26% OFF)',\n",
       " 'Rs. 8925Rs. 10500(15% OFF)',\n",
       " 'Rs. 8999',\n",
       " 'Rs. 7149Rs. 10999(35% OFF)',\n",
       " 'Rs. 9999',\n",
       " 'Rs. 7500Rs. 9500(Rs. 2000 OFF)',\n",
       " 'Rs. 7199Rs. 8999(20% OFF)',\n",
       " 'Rs. 8099',\n",
       " 'Rs. 9999',\n",
       " 'Rs. 7990',\n",
       " 'Rs. 8099',\n",
       " 'Rs. 7699',\n",
       " 'Rs. 8490',\n",
       " 'Rs. 8099',\n",
       " 'Rs. 8990',\n",
       " 'Rs. 8099',\n",
       " 'Rs. 8990',\n",
       " 'Rs. 9999',\n",
       " 'Rs. 7999',\n",
       " 'Rs. 10990',\n",
       " 'Rs. 8990']"
      ]
     },
     "execution_count": 51,
     "metadata": {},
     "output_type": "execute_result"
    }
   ],
   "source": [
    "price = []\n",
    "for i in price_tags:\n",
    "    price.append(i.text)\n",
    "len(price)\n",
    "price[0:50]"
   ]
  },
  {
   "cell_type": "code",
   "execution_count": 52,
   "id": "57004005",
   "metadata": {},
   "outputs": [
    {
     "data": {
      "text/plain": [
       "50"
      ]
     },
     "execution_count": 52,
     "metadata": {},
     "output_type": "execute_result"
    }
   ],
   "source": [
    "len(price_tags)"
   ]
  },
  {
   "cell_type": "code",
   "execution_count": 53,
   "id": "83da56da",
   "metadata": {},
   "outputs": [
    {
     "data": {
      "text/plain": [
       "(50, 50, 50)"
      ]
     },
     "execution_count": 53,
     "metadata": {},
     "output_type": "execute_result"
    }
   ],
   "source": [
    "len(brand_tags),len(product_tags),len(price_tags)"
   ]
  },
  {
   "cell_type": "code",
   "execution_count": 55,
   "id": "b7df5789",
   "metadata": {},
   "outputs": [
    {
     "data": {
      "text/html": [
       "<div>\n",
       "<style scoped>\n",
       "    .dataframe tbody tr th:only-of-type {\n",
       "        vertical-align: middle;\n",
       "    }\n",
       "\n",
       "    .dataframe tbody tr th {\n",
       "        vertical-align: top;\n",
       "    }\n",
       "\n",
       "    .dataframe thead th {\n",
       "        text-align: right;\n",
       "    }\n",
       "</style>\n",
       "<table border=\"1\" class=\"dataframe\">\n",
       "  <thead>\n",
       "    <tr style=\"text-align: right;\">\n",
       "      <th></th>\n",
       "      <th>brand_tags</th>\n",
       "      <th>product_tags</th>\n",
       "      <th>price_tags</th>\n",
       "    </tr>\n",
       "  </thead>\n",
       "  <tbody>\n",
       "    <tr>\n",
       "      <th>0</th>\n",
       "      <td>Puma</td>\n",
       "      <td>Men Running Shoes</td>\n",
       "      <td>Rs. 7149Rs. 12999(45% OFF)</td>\n",
       "    </tr>\n",
       "    <tr>\n",
       "      <th>1</th>\n",
       "      <td>Delize</td>\n",
       "      <td>Women High-Top Heeled Boots</td>\n",
       "      <td>Rs. 8099</td>\n",
       "    </tr>\n",
       "    <tr>\n",
       "      <th>2</th>\n",
       "      <td>Puma</td>\n",
       "      <td>Men Magnify Nitro Running</td>\n",
       "      <td>Rs. 7799Rs. 12999(40% OFF)</td>\n",
       "    </tr>\n",
       "    <tr>\n",
       "      <th>3</th>\n",
       "      <td>Delize</td>\n",
       "      <td>Block Heeled Boots</td>\n",
       "      <td>Rs. 9999</td>\n",
       "    </tr>\n",
       "    <tr>\n",
       "      <th>4</th>\n",
       "      <td>Bugatti</td>\n",
       "      <td>Men Running Shoes</td>\n",
       "      <td>Rs. 7999Rs. 9999(20% OFF)</td>\n",
       "    </tr>\n",
       "    <tr>\n",
       "      <th>5</th>\n",
       "      <td>Delize</td>\n",
       "      <td>High-Top Block Heeled Boots</td>\n",
       "      <td>Rs. 9999</td>\n",
       "    </tr>\n",
       "    <tr>\n",
       "      <th>6</th>\n",
       "      <td>Puma</td>\n",
       "      <td>Women Magnify Nitro Shoes</td>\n",
       "      <td>Rs. 7799Rs. 12999(40% OFF)</td>\n",
       "    </tr>\n",
       "    <tr>\n",
       "      <th>7</th>\n",
       "      <td>Saint G</td>\n",
       "      <td>Men Mid-Top Chelsea Boots</td>\n",
       "      <td>Rs. 9265Rs. 10900(15% OFF)</td>\n",
       "    </tr>\n",
       "    <tr>\n",
       "      <th>8</th>\n",
       "      <td>DAVINCHI</td>\n",
       "      <td>Men Textured Formal Leather Loafers</td>\n",
       "      <td>Rs. 8990</td>\n",
       "    </tr>\n",
       "    <tr>\n",
       "      <th>9</th>\n",
       "      <td>ASICS</td>\n",
       "      <td>Men Colourblocked PU Sneakers</td>\n",
       "      <td>Rs. 9999</td>\n",
       "    </tr>\n",
       "    <tr>\n",
       "      <th>10</th>\n",
       "      <td>ROSSO BRUNELLO</td>\n",
       "      <td>Men Textured Formal Loafers</td>\n",
       "      <td>Rs. 10999</td>\n",
       "    </tr>\n",
       "    <tr>\n",
       "      <th>11</th>\n",
       "      <td>Saint G</td>\n",
       "      <td>Men Leather Chelsea Boots</td>\n",
       "      <td>Rs. 10115Rs. 11900(15% OFF)</td>\n",
       "    </tr>\n",
       "    <tr>\n",
       "      <th>12</th>\n",
       "      <td>RARE RABBIT</td>\n",
       "      <td>Men Leather Flat Boots</td>\n",
       "      <td>Rs. 7999Rs. 9999(20% OFF)</td>\n",
       "    </tr>\n",
       "    <tr>\n",
       "      <th>13</th>\n",
       "      <td>Geox</td>\n",
       "      <td>Men Leather Flat Boots</td>\n",
       "      <td>Rs. 8399Rs. 11999(30% OFF)</td>\n",
       "    </tr>\n",
       "    <tr>\n",
       "      <th>14</th>\n",
       "      <td>Bugatti</td>\n",
       "      <td>Men Textured Leather High-Top Flat Boots</td>\n",
       "      <td>Rs. 8399Rs. 11999(30% OFF)</td>\n",
       "    </tr>\n",
       "    <tr>\n",
       "      <th>15</th>\n",
       "      <td>J.FONTINI</td>\n",
       "      <td>Men Textured Leather Loafers</td>\n",
       "      <td>Rs. 7990</td>\n",
       "    </tr>\n",
       "    <tr>\n",
       "      <th>16</th>\n",
       "      <td>J.FONTINI</td>\n",
       "      <td>Men Textured Leather Loafers</td>\n",
       "      <td>Rs. 7990</td>\n",
       "    </tr>\n",
       "    <tr>\n",
       "      <th>17</th>\n",
       "      <td>Delize</td>\n",
       "      <td>Party High-Top Platform Heeled Boots</td>\n",
       "      <td>Rs. 9999</td>\n",
       "    </tr>\n",
       "    <tr>\n",
       "      <th>18</th>\n",
       "      <td>RARE RABBIT</td>\n",
       "      <td>Men Textured Leather Loafers</td>\n",
       "      <td>Rs. 7149Rs. 10999(35% OFF)</td>\n",
       "    </tr>\n",
       "    <tr>\n",
       "      <th>19</th>\n",
       "      <td>Delize</td>\n",
       "      <td>Leather Party High-Top Block Heeled Boots</td>\n",
       "      <td>Rs. 9999</td>\n",
       "    </tr>\n",
       "    <tr>\n",
       "      <th>20</th>\n",
       "      <td>DAVINCHI</td>\n",
       "      <td>Men Solid Leather Formal Derbys</td>\n",
       "      <td>Rs. 8990</td>\n",
       "    </tr>\n",
       "    <tr>\n",
       "      <th>21</th>\n",
       "      <td>Delize</td>\n",
       "      <td>High-Top Block Heeled Boots</td>\n",
       "      <td>Rs. 9999</td>\n",
       "    </tr>\n",
       "    <tr>\n",
       "      <th>22</th>\n",
       "      <td>Delize</td>\n",
       "      <td>High-Top Block Heeled Boots</td>\n",
       "      <td>Rs. 9999</td>\n",
       "    </tr>\n",
       "    <tr>\n",
       "      <th>23</th>\n",
       "      <td>Saint G</td>\n",
       "      <td>Leather Knee High Slouch Boots</td>\n",
       "      <td>Rs. 13175Rs. 15500(15% OFF)</td>\n",
       "    </tr>\n",
       "    <tr>\n",
       "      <th>24</th>\n",
       "      <td>Delize</td>\n",
       "      <td>Block Heeled Boots</td>\n",
       "      <td>Rs. 9999</td>\n",
       "    </tr>\n",
       "    <tr>\n",
       "      <th>25</th>\n",
       "      <td>Saint G</td>\n",
       "      <td>Leather Wedge Heeled Boots with Buckles</td>\n",
       "      <td>Rs. 12665Rs. 14900(15% OFF)</td>\n",
       "    </tr>\n",
       "    <tr>\n",
       "      <th>26</th>\n",
       "      <td>Saint G</td>\n",
       "      <td>Women Leather Heeled Boots</td>\n",
       "      <td>Rs. 12665Rs. 14900(15% OFF)</td>\n",
       "    </tr>\n",
       "    <tr>\n",
       "      <th>27</th>\n",
       "      <td>Delize</td>\n",
       "      <td>Men Flat Boots</td>\n",
       "      <td>Rs. 8099</td>\n",
       "    </tr>\n",
       "    <tr>\n",
       "      <th>28</th>\n",
       "      <td>Delize</td>\n",
       "      <td>Leather Block Heeled Boots</td>\n",
       "      <td>Rs. 9999</td>\n",
       "    </tr>\n",
       "    <tr>\n",
       "      <th>29</th>\n",
       "      <td>Saint G</td>\n",
       "      <td>Embellished Leather Block Heeled Boots</td>\n",
       "      <td>Rs. 9546Rs. 12900(26% OFF)</td>\n",
       "    </tr>\n",
       "    <tr>\n",
       "      <th>30</th>\n",
       "      <td>Saint G</td>\n",
       "      <td>Suede Party High-Top Block Heeled Boots</td>\n",
       "      <td>Rs. 8925Rs. 10500(15% OFF)</td>\n",
       "    </tr>\n",
       "    <tr>\n",
       "      <th>31</th>\n",
       "      <td>Geox</td>\n",
       "      <td>Women Leather Pumps</td>\n",
       "      <td>Rs. 8999</td>\n",
       "    </tr>\n",
       "    <tr>\n",
       "      <th>32</th>\n",
       "      <td>Puma</td>\n",
       "      <td>Women Velocity NITRO Runners</td>\n",
       "      <td>Rs. 7149Rs. 10999(35% OFF)</td>\n",
       "    </tr>\n",
       "    <tr>\n",
       "      <th>33</th>\n",
       "      <td>Columbia</td>\n",
       "      <td>PEAKFREAK OUTDRY Trekking Shoe</td>\n",
       "      <td>Rs. 9999</td>\n",
       "    </tr>\n",
       "    <tr>\n",
       "      <th>34</th>\n",
       "      <td>Saint G</td>\n",
       "      <td>Women Leather Loafers</td>\n",
       "      <td>Rs. 7500Rs. 9500(Rs. 2000 OFF)</td>\n",
       "    </tr>\n",
       "    <tr>\n",
       "      <th>35</th>\n",
       "      <td>Bugatti</td>\n",
       "      <td>Men Black Walking Shoes</td>\n",
       "      <td>Rs. 7199Rs. 8999(20% OFF)</td>\n",
       "    </tr>\n",
       "    <tr>\n",
       "      <th>36</th>\n",
       "      <td>Delize</td>\n",
       "      <td>Women Heeled Boots</td>\n",
       "      <td>Rs. 8099</td>\n",
       "    </tr>\n",
       "    <tr>\n",
       "      <th>37</th>\n",
       "      <td>Delize</td>\n",
       "      <td>High-Top Block Heeled Boots</td>\n",
       "      <td>Rs. 9999</td>\n",
       "    </tr>\n",
       "    <tr>\n",
       "      <th>38</th>\n",
       "      <td>Heel &amp; Buckle London</td>\n",
       "      <td>Men Formal Leather Derby</td>\n",
       "      <td>Rs. 7990</td>\n",
       "    </tr>\n",
       "    <tr>\n",
       "      <th>39</th>\n",
       "      <td>Delize</td>\n",
       "      <td>Women Leather Flat Boots</td>\n",
       "      <td>Rs. 8099</td>\n",
       "    </tr>\n",
       "    <tr>\n",
       "      <th>40</th>\n",
       "      <td>Xtep</td>\n",
       "      <td>Men Running Shoes</td>\n",
       "      <td>Rs. 7699</td>\n",
       "    </tr>\n",
       "    <tr>\n",
       "      <th>41</th>\n",
       "      <td>J.FONTINI</td>\n",
       "      <td>Men Black Leather Loafers</td>\n",
       "      <td>Rs. 8490</td>\n",
       "    </tr>\n",
       "    <tr>\n",
       "      <th>42</th>\n",
       "      <td>Delize</td>\n",
       "      <td>Men Derby Flat Boots</td>\n",
       "      <td>Rs. 8099</td>\n",
       "    </tr>\n",
       "    <tr>\n",
       "      <th>43</th>\n",
       "      <td>DAVINCHI</td>\n",
       "      <td>Men Formal Leather Slip-Ons</td>\n",
       "      <td>Rs. 8990</td>\n",
       "    </tr>\n",
       "    <tr>\n",
       "      <th>44</th>\n",
       "      <td>Delize</td>\n",
       "      <td>Men Leather Flat Boots</td>\n",
       "      <td>Rs. 8099</td>\n",
       "    </tr>\n",
       "    <tr>\n",
       "      <th>45</th>\n",
       "      <td>DAVINCHI</td>\n",
       "      <td>Ustraa black</td>\n",
       "      <td>Rs. 8990</td>\n",
       "    </tr>\n",
       "    <tr>\n",
       "      <th>46</th>\n",
       "      <td>Geox</td>\n",
       "      <td>Men Leather Loafers</td>\n",
       "      <td>Rs. 9999</td>\n",
       "    </tr>\n",
       "    <tr>\n",
       "      <th>47</th>\n",
       "      <td>Geox</td>\n",
       "      <td>Women Solid Leather Pumps</td>\n",
       "      <td>Rs. 7999</td>\n",
       "    </tr>\n",
       "    <tr>\n",
       "      <th>48</th>\n",
       "      <td>Geox</td>\n",
       "      <td>Women Solid Leather Pumps</td>\n",
       "      <td>Rs. 10990</td>\n",
       "    </tr>\n",
       "    <tr>\n",
       "      <th>49</th>\n",
       "      <td>DAVINCHI</td>\n",
       "      <td>Men Textured Formal Leather Loafers</td>\n",
       "      <td>Rs. 8990</td>\n",
       "    </tr>\n",
       "  </tbody>\n",
       "</table>\n",
       "</div>"
      ],
      "text/plain": [
       "              brand_tags                               product_tags  \\\n",
       "0                   Puma                          Men Running Shoes   \n",
       "1                 Delize                Women High-Top Heeled Boots   \n",
       "2                   Puma                  Men Magnify Nitro Running   \n",
       "3                 Delize                         Block Heeled Boots   \n",
       "4                Bugatti                          Men Running Shoes   \n",
       "5                 Delize                High-Top Block Heeled Boots   \n",
       "6                   Puma                  Women Magnify Nitro Shoes   \n",
       "7                Saint G                  Men Mid-Top Chelsea Boots   \n",
       "8               DAVINCHI        Men Textured Formal Leather Loafers   \n",
       "9                  ASICS              Men Colourblocked PU Sneakers   \n",
       "10        ROSSO BRUNELLO                Men Textured Formal Loafers   \n",
       "11               Saint G                  Men Leather Chelsea Boots   \n",
       "12           RARE RABBIT                     Men Leather Flat Boots   \n",
       "13                  Geox                     Men Leather Flat Boots   \n",
       "14               Bugatti   Men Textured Leather High-Top Flat Boots   \n",
       "15             J.FONTINI               Men Textured Leather Loafers   \n",
       "16             J.FONTINI               Men Textured Leather Loafers   \n",
       "17                Delize       Party High-Top Platform Heeled Boots   \n",
       "18           RARE RABBIT               Men Textured Leather Loafers   \n",
       "19                Delize  Leather Party High-Top Block Heeled Boots   \n",
       "20              DAVINCHI            Men Solid Leather Formal Derbys   \n",
       "21                Delize                High-Top Block Heeled Boots   \n",
       "22                Delize                High-Top Block Heeled Boots   \n",
       "23               Saint G             Leather Knee High Slouch Boots   \n",
       "24                Delize                         Block Heeled Boots   \n",
       "25               Saint G    Leather Wedge Heeled Boots with Buckles   \n",
       "26               Saint G                 Women Leather Heeled Boots   \n",
       "27                Delize                             Men Flat Boots   \n",
       "28                Delize                 Leather Block Heeled Boots   \n",
       "29               Saint G     Embellished Leather Block Heeled Boots   \n",
       "30               Saint G    Suede Party High-Top Block Heeled Boots   \n",
       "31                  Geox                        Women Leather Pumps   \n",
       "32                  Puma               Women Velocity NITRO Runners   \n",
       "33              Columbia             PEAKFREAK OUTDRY Trekking Shoe   \n",
       "34               Saint G                      Women Leather Loafers   \n",
       "35               Bugatti                    Men Black Walking Shoes   \n",
       "36                Delize                         Women Heeled Boots   \n",
       "37                Delize                High-Top Block Heeled Boots   \n",
       "38  Heel & Buckle London                   Men Formal Leather Derby   \n",
       "39                Delize                   Women Leather Flat Boots   \n",
       "40                  Xtep                          Men Running Shoes   \n",
       "41             J.FONTINI                  Men Black Leather Loafers   \n",
       "42                Delize                       Men Derby Flat Boots   \n",
       "43              DAVINCHI                Men Formal Leather Slip-Ons   \n",
       "44                Delize                     Men Leather Flat Boots   \n",
       "45              DAVINCHI                               Ustraa black   \n",
       "46                  Geox                        Men Leather Loafers   \n",
       "47                  Geox                  Women Solid Leather Pumps   \n",
       "48                  Geox                  Women Solid Leather Pumps   \n",
       "49              DAVINCHI        Men Textured Formal Leather Loafers   \n",
       "\n",
       "                        price_tags  \n",
       "0       Rs. 7149Rs. 12999(45% OFF)  \n",
       "1                         Rs. 8099  \n",
       "2       Rs. 7799Rs. 12999(40% OFF)  \n",
       "3                         Rs. 9999  \n",
       "4        Rs. 7999Rs. 9999(20% OFF)  \n",
       "5                         Rs. 9999  \n",
       "6       Rs. 7799Rs. 12999(40% OFF)  \n",
       "7       Rs. 9265Rs. 10900(15% OFF)  \n",
       "8                         Rs. 8990  \n",
       "9                         Rs. 9999  \n",
       "10                       Rs. 10999  \n",
       "11     Rs. 10115Rs. 11900(15% OFF)  \n",
       "12       Rs. 7999Rs. 9999(20% OFF)  \n",
       "13      Rs. 8399Rs. 11999(30% OFF)  \n",
       "14      Rs. 8399Rs. 11999(30% OFF)  \n",
       "15                        Rs. 7990  \n",
       "16                        Rs. 7990  \n",
       "17                        Rs. 9999  \n",
       "18      Rs. 7149Rs. 10999(35% OFF)  \n",
       "19                        Rs. 9999  \n",
       "20                        Rs. 8990  \n",
       "21                        Rs. 9999  \n",
       "22                        Rs. 9999  \n",
       "23     Rs. 13175Rs. 15500(15% OFF)  \n",
       "24                        Rs. 9999  \n",
       "25     Rs. 12665Rs. 14900(15% OFF)  \n",
       "26     Rs. 12665Rs. 14900(15% OFF)  \n",
       "27                        Rs. 8099  \n",
       "28                        Rs. 9999  \n",
       "29      Rs. 9546Rs. 12900(26% OFF)  \n",
       "30      Rs. 8925Rs. 10500(15% OFF)  \n",
       "31                        Rs. 8999  \n",
       "32      Rs. 7149Rs. 10999(35% OFF)  \n",
       "33                        Rs. 9999  \n",
       "34  Rs. 7500Rs. 9500(Rs. 2000 OFF)  \n",
       "35       Rs. 7199Rs. 8999(20% OFF)  \n",
       "36                        Rs. 8099  \n",
       "37                        Rs. 9999  \n",
       "38                        Rs. 7990  \n",
       "39                        Rs. 8099  \n",
       "40                        Rs. 7699  \n",
       "41                        Rs. 8490  \n",
       "42                        Rs. 8099  \n",
       "43                        Rs. 8990  \n",
       "44                        Rs. 8099  \n",
       "45                        Rs. 8990  \n",
       "46                        Rs. 9999  \n",
       "47                        Rs. 7999  \n",
       "48                       Rs. 10990  \n",
       "49                        Rs. 8990  "
      ]
     },
     "execution_count": 55,
     "metadata": {},
     "output_type": "execute_result"
    }
   ],
   "source": [
    "df = pd.DataFrame({'brand_tags':brand,'product_tags':product,'price_tags':price})\n",
    "df"
   ]
  },
  {
   "cell_type": "code",
   "execution_count": null,
   "id": "57f330bf",
   "metadata": {},
   "outputs": [],
   "source": []
  },
  {
   "cell_type": "markdown",
   "id": "66b4720b",
   "metadata": {},
   "source": [
    "### Q8: Go to webpage https://www.amazon.in/\n",
    "Enter “Laptop” in the search field and then click the search icon.\n",
    "Then set CPU Type filter to “Intel Core i7” and “Intel Core i9” \n",
    "After setting the filters scrape first 10 laptops data. You have to scrape 3 attributesfor each laptop:\n",
    "1.\tTitle\n",
    "2.\tRatings\n",
    "3.\tPrice\n"
   ]
  },
  {
   "cell_type": "code",
   "execution_count": 3,
   "id": "d69bb9bf",
   "metadata": {},
   "outputs": [],
   "source": [
    "driver = webdriver.Chrome(r'C:\\Users\\Khiro\\Downloads\\chromedriver_win32\\chromedriver')"
   ]
  },
  {
   "cell_type": "code",
   "execution_count": 4,
   "id": "705b2301",
   "metadata": {},
   "outputs": [],
   "source": [
    "driver = webdriver.Chrome('chromedriver')"
   ]
  },
  {
   "cell_type": "code",
   "execution_count": 67,
   "id": "91c8c10f",
   "metadata": {},
   "outputs": [],
   "source": [
    "url = 'https://www.amazon.in/'\n",
    "driver.get(url)"
   ]
  },
  {
   "cell_type": "code",
   "execution_count": 6,
   "id": "a52b0522",
   "metadata": {},
   "outputs": [
    {
     "data": {
      "text/plain": [
       "<selenium.webdriver.remote.webelement.WebElement (session=\"68d98dbbdbcd1442b22d18fe41d00009\", element=\"cafbda56-55dc-4eb4-a2e3-16270b2d7b32\")>"
      ]
     },
     "execution_count": 6,
     "metadata": {},
     "output_type": "execute_result"
    }
   ],
   "source": [
    "search_laptop = driver.find_element_by_id(\"twotabsearchtextbox\")\n",
    "search_laptop"
   ]
  },
  {
   "cell_type": "code",
   "execution_count": 7,
   "id": "f1c722c1",
   "metadata": {},
   "outputs": [],
   "source": [
    "search_laptop.send_keys(\"laptop\")"
   ]
  },
  {
   "cell_type": "code",
   "execution_count": 104,
   "id": "a2e65026",
   "metadata": {},
   "outputs": [
    {
     "data": {
      "text/plain": [
       "['ASUS VivoBook 14 (2021), 14-inch (35.56 cms) FHD, Intel Core i7-1065G7 10th Gen, Thin and Light Laptop (16GB/512GB SSD/Integrated Graphics/Office 2021/Windows 11/Silver/1.6 Kg), X415JA-EK701WS',\n",
       " 'Acer Nitro 5 AN515-57 Gaming Laptop | Intel Core i7-11800H |NVIDIA GeForce RTX 3050 Ti Laptop Graphics |15.6\" FHD 144Hz IPS Display |16GB DDR4 |256GB SSD+1TB HDD |Killer Wi-Fi 6 |RGB Backlit Keyboard',\n",
       " 'Lenovo ThinkBook 13s Intel 11th Gen Core i7 13.3\"(33.78 cm) WQXGA IPS 300 nits 100% sRGB Dolby Vision Thin and Light Laptop (16GB/512GB SSD/Windows 10/MS Office/FPR/Mineral Grey/1.26 Kg), 20V9A05FIH',\n",
       " 'HP Pavilion 13, 11th Gen Intel Core i7, 13.3-inch(33.8 cm) FHD,IPS, Micro-Edge Laptop (16GB RAM/ 1TB SSD/ Win 10/ FPR/Audio B&O/Alexa Built-in/MS Office/ Ceramic White/ 1.24 Kg) -13-bb0078TU',\n",
       " 'ASUS TUF Gaming F15 (2021) 15.6-inch (39.62 cms) FHD 144Hz, Intel Core i7-11800H 11th Gen, RTX 3060 6GB Graphics, Gaming Laptop (16GB/1TB SSD/Windows 10/Gray/2.3 Kg), FX566HM-HN100T',\n",
       " 'Acer Predator Helios 300 11th Gen Intel Core i9-11900H 15.6\" (39.62cms) FHD IPS Gaming Laptop (32 GB/1TB SSD/Win 11 Home/8 GB Graphics/NVIDIA GeForce RTX 3070/300 Hz, Black, 2.3 kg) PH315-54',\n",
       " '(Renewed) Dell Latitude E7470 Intel Core i7 6th Gen 14 inches Laptop /16 GB RAM/512 GB SSD/Windows 10 Pro/MS Office/HD Display/Integrated Graphics, 1.9 kg',\n",
       " 'HP Pavilion 14, Intel 11th Gen Core i7 16GB RAM/1TB SSD 14-inch Laptop, FHD Micro-Edge Anti-Glare Display/Iris Xᵉ Graphics/Backlit KB/B&O Audio/Fingerprint Reader/ Win 11 Ready/1.41kg, 14-dv0058TU',\n",
       " 'Mi Notebook Horizon Edition 14 Intel Core i7-10510U 10th Gen Thin and Light Laptop(8GB/512GB SSD/Windows 10/Nvidia MX350 2GB Graphics/Grey/1.35Kg)(Without Webcam) XMA1904-AF',\n",
       " 'ASUS TUF Dash F15 (2021) 15.6-inch (39.62 cms) FHD 144Hz, Intel Core i7-11370H 11th Gen, RTX 3050 4GB Graphics, Gaming Laptop (16GB/512GB SSD/Windows 10/Gray/2 Kg), FX516PCZ-HN091T']"
      ]
     },
     "execution_count": 104,
     "metadata": {},
     "output_type": "execute_result"
    }
   ],
   "source": [
    "title_tags = driver.find_elements_by_xpath('//div[@class=\"a-section a-spacing-none s-title-instructions-style\"]')\n",
    "                                           \n",
    "len(title_tags)\n",
    "title[0:10]"
   ]
  },
  {
   "cell_type": "code",
   "execution_count": 105,
   "id": "0cd41bc3",
   "metadata": {},
   "outputs": [
    {
     "data": {
      "text/plain": [
       "['ASUS VivoBook 14 (2021), 14-inch (35.56 cms) FHD, Intel Core i7-1065G7 10th Gen, Thin and Light Laptop (16GB/512GB SSD/Integrated Graphics/Office 2021/Windows 11/Silver/1.6 Kg), X415JA-EK701WS',\n",
       " 'Acer Nitro 5 AN515-57 Gaming Laptop | Intel Core i7-11800H |NVIDIA GeForce RTX 3050 Ti Laptop Graphics |15.6\" FHD 144Hz IPS Display |16GB DDR4 |256GB SSD+1TB HDD |Killer Wi-Fi 6 |RGB Backlit Keyboard',\n",
       " 'Lenovo ThinkBook 13s Intel 11th Gen Core i7 13.3\"(33.78 cm) WQXGA IPS 300 nits 100% sRGB Dolby Vision Thin and Light Laptop (16GB/512GB SSD/Windows 10/MS Office/FPR/Mineral Grey/1.26 Kg), 20V9A05FIH',\n",
       " 'HP Pavilion 13, 11th Gen Intel Core i7, 13.3-inch(33.8 cm) FHD,IPS, Micro-Edge Laptop (16GB RAM/ 1TB SSD/ Win 10/ FPR/Audio B&O/Alexa Built-in/MS Office/ Ceramic White/ 1.24 Kg) -13-bb0078TU',\n",
       " 'ASUS TUF Gaming F15 (2021) 15.6-inch (39.62 cms) FHD 144Hz, Intel Core i7-11800H 11th Gen, RTX 3060 6GB Graphics, Gaming Laptop (16GB/1TB SSD/Windows 10/Gray/2.3 Kg), FX566HM-HN100T',\n",
       " 'Acer Predator Helios 300 11th Gen Intel Core i9-11900H 15.6\" (39.62cms) FHD IPS Gaming Laptop (32 GB/1TB SSD/Win 11 Home/8 GB Graphics/NVIDIA GeForce RTX 3070/300 Hz, Black, 2.3 kg) PH315-54',\n",
       " '(Renewed) Dell Latitude E7470 Intel Core i7 6th Gen 14 inches Laptop /16 GB RAM/512 GB SSD/Windows 10 Pro/MS Office/HD Display/Integrated Graphics, 1.9 kg',\n",
       " 'HP Pavilion 14, Intel 11th Gen Core i7 16GB RAM/1TB SSD 14-inch Laptop, FHD Micro-Edge Anti-Glare Display/Iris Xᵉ Graphics/Backlit KB/B&O Audio/Fingerprint Reader/ Win 11 Ready/1.41kg, 14-dv0058TU',\n",
       " 'Mi Notebook Horizon Edition 14 Intel Core i7-10510U 10th Gen Thin and Light Laptop(8GB/512GB SSD/Windows 10/Nvidia MX350 2GB Graphics/Grey/1.35Kg)(Without Webcam) XMA1904-AF',\n",
       " 'ASUS TUF Dash F15 (2021) 15.6-inch (39.62 cms) FHD 144Hz, Intel Core i7-11370H 11th Gen, RTX 3050 4GB Graphics, Gaming Laptop (16GB/512GB SSD/Windows 10/Gray/2 Kg), FX516PCZ-HN091T']"
      ]
     },
     "execution_count": 105,
     "metadata": {},
     "output_type": "execute_result"
    }
   ],
   "source": [
    "title =[]\n",
    "for i in title_tags:\n",
    "    title.append(i.text)\n",
    "len(title)\n",
    "title[0:10]"
   ]
  },
  {
   "cell_type": "code",
   "execution_count": 106,
   "id": "3061fcbf",
   "metadata": {},
   "outputs": [
    {
     "data": {
      "text/plain": [
       "[<selenium.webdriver.remote.webelement.WebElement (session=\"68d98dbbdbcd1442b22d18fe41d00009\", element=\"6c3deb80-4078-4fc4-baac-b62dcbb6fa38\")>,\n",
       " <selenium.webdriver.remote.webelement.WebElement (session=\"68d98dbbdbcd1442b22d18fe41d00009\", element=\"02a9e11e-e451-44e1-8d35-b36eb6474a68\")>,\n",
       " <selenium.webdriver.remote.webelement.WebElement (session=\"68d98dbbdbcd1442b22d18fe41d00009\", element=\"5f916c8f-0c97-49c8-b42b-32a42b538083\")>,\n",
       " <selenium.webdriver.remote.webelement.WebElement (session=\"68d98dbbdbcd1442b22d18fe41d00009\", element=\"c6b5cff1-b238-4bb0-83ff-43faa88d7324\")>,\n",
       " <selenium.webdriver.remote.webelement.WebElement (session=\"68d98dbbdbcd1442b22d18fe41d00009\", element=\"f5c41429-9839-44c3-b116-7f163a1be685\")>,\n",
       " <selenium.webdriver.remote.webelement.WebElement (session=\"68d98dbbdbcd1442b22d18fe41d00009\", element=\"3a3c46d6-020f-4887-af31-6c5a263eadfb\")>,\n",
       " <selenium.webdriver.remote.webelement.WebElement (session=\"68d98dbbdbcd1442b22d18fe41d00009\", element=\"2cd21fe9-3b57-4820-ad06-b5c7f8377827\")>,\n",
       " <selenium.webdriver.remote.webelement.WebElement (session=\"68d98dbbdbcd1442b22d18fe41d00009\", element=\"c209df53-983a-4b98-97fe-1ba7f776b71f\")>,\n",
       " <selenium.webdriver.remote.webelement.WebElement (session=\"68d98dbbdbcd1442b22d18fe41d00009\", element=\"9e3e2203-9880-47bf-bed2-70940a8cd4ac\")>,\n",
       " <selenium.webdriver.remote.webelement.WebElement (session=\"68d98dbbdbcd1442b22d18fe41d00009\", element=\"6f0bde38-ec1f-4623-96f0-1a0e5938d2c7\")>]"
      ]
     },
     "execution_count": 106,
     "metadata": {},
     "output_type": "execute_result"
    }
   ],
   "source": [
    "rating_tags = driver.find_elements_by_xpath('//div[@class=\"a-section a-spacing-none a-spacing-top-micro\"]')\n",
    "len(rating_tags)\n",
    "rating_tags[0:10]"
   ]
  },
  {
   "cell_type": "code",
   "execution_count": 103,
   "id": "fd3621bc",
   "metadata": {},
   "outputs": [
    {
     "data": {
      "text/plain": [
       "['1',\n",
       " 'Get it by Thursday, January 20\\nFREE Delivery by Amazon',\n",
       " '6',\n",
       " 'Get it by Wednesday, January 19\\nFREE Delivery by Amazon',\n",
       " '32',\n",
       " 'Get it by Wednesday, January 19\\nFREE Delivery by Amazon',\n",
       " '27',\n",
       " 'Get it by Wednesday, January 19\\nFREE Delivery by Amazon',\n",
       " '9',\n",
       " 'Get it by Thursday, January 20\\nFREE Delivery by Amazon']"
      ]
     },
     "execution_count": 103,
     "metadata": {},
     "output_type": "execute_result"
    }
   ],
   "source": [
    "rating = []\n",
    "for i in rating_tags:\n",
    "    rating.append(i.text)\n",
    "len(rating)\n",
    "rating[0:10]"
   ]
  },
  {
   "cell_type": "code",
   "execution_count": 107,
   "id": "43d904d9",
   "metadata": {},
   "outputs": [
    {
     "data": {
      "text/plain": [
       "[<selenium.webdriver.remote.webelement.WebElement (session=\"68d98dbbdbcd1442b22d18fe41d00009\", element=\"e413c72b-b628-4f91-ad5a-b3cad759366b\")>,\n",
       " <selenium.webdriver.remote.webelement.WebElement (session=\"68d98dbbdbcd1442b22d18fe41d00009\", element=\"8da6a145-bd84-4c32-83d2-547306b498a9\")>,\n",
       " <selenium.webdriver.remote.webelement.WebElement (session=\"68d98dbbdbcd1442b22d18fe41d00009\", element=\"1bd890d7-0759-46c4-a744-4971995dc355\")>,\n",
       " <selenium.webdriver.remote.webelement.WebElement (session=\"68d98dbbdbcd1442b22d18fe41d00009\", element=\"e7c37f88-85a7-4914-900f-51440734b1c5\")>,\n",
       " <selenium.webdriver.remote.webelement.WebElement (session=\"68d98dbbdbcd1442b22d18fe41d00009\", element=\"3691217d-4583-465d-a1f2-7d7950cd70b2\")>,\n",
       " <selenium.webdriver.remote.webelement.WebElement (session=\"68d98dbbdbcd1442b22d18fe41d00009\", element=\"91469cce-c9ea-4618-bb28-4a87e488392c\")>,\n",
       " <selenium.webdriver.remote.webelement.WebElement (session=\"68d98dbbdbcd1442b22d18fe41d00009\", element=\"7e834fe0-5990-4d83-9f72-05440d216fef\")>,\n",
       " <selenium.webdriver.remote.webelement.WebElement (session=\"68d98dbbdbcd1442b22d18fe41d00009\", element=\"79f0e31f-39d9-43b1-8d75-99f91bc58d84\")>,\n",
       " <selenium.webdriver.remote.webelement.WebElement (session=\"68d98dbbdbcd1442b22d18fe41d00009\", element=\"8635b3f2-02f4-4870-9671-39c2d45938f2\")>,\n",
       " <selenium.webdriver.remote.webelement.WebElement (session=\"68d98dbbdbcd1442b22d18fe41d00009\", element=\"d0ebee60-534d-49f7-b7e5-87348c32a039\")>]"
      ]
     },
     "execution_count": 107,
     "metadata": {},
     "output_type": "execute_result"
    }
   ],
   "source": [
    "price_tags = driver.find_elements_by_xpath('//span[@class=\"a-price-whole\"]')\n",
    "len(price_tags)\n",
    "price_tags[0:10]"
   ]
  },
  {
   "cell_type": "code",
   "execution_count": 108,
   "id": "07a0cd4d",
   "metadata": {},
   "outputs": [
    {
     "data": {
      "text/plain": [
       "['59,990',\n",
       " '89,990',\n",
       " '79,990',\n",
       " '86,990',\n",
       " '1,14,990',\n",
       " '1,79,990',\n",
       " '44,990',\n",
       " '57,990',\n",
       " '82,990',\n",
       " '1,04,399']"
      ]
     },
     "execution_count": 108,
     "metadata": {},
     "output_type": "execute_result"
    }
   ],
   "source": [
    "price = []\n",
    "for i in price_tags:\n",
    "    price.append(i.text)\n",
    "len(price)\n",
    "price[0:10]"
   ]
  },
  {
   "cell_type": "code",
   "execution_count": 109,
   "id": "95762d52",
   "metadata": {},
   "outputs": [
    {
     "data": {
      "text/plain": [
       "(24, 46, 22)"
      ]
     },
     "execution_count": 109,
     "metadata": {},
     "output_type": "execute_result"
    }
   ],
   "source": [
    "len(title),len(rating),len(price)"
   ]
  },
  {
   "cell_type": "code",
   "execution_count": 111,
   "id": "fce606fc",
   "metadata": {},
   "outputs": [
    {
     "data": {
      "text/html": [
       "<div>\n",
       "<style scoped>\n",
       "    .dataframe tbody tr th:only-of-type {\n",
       "        vertical-align: middle;\n",
       "    }\n",
       "\n",
       "    .dataframe tbody tr th {\n",
       "        vertical-align: top;\n",
       "    }\n",
       "\n",
       "    .dataframe thead th {\n",
       "        text-align: right;\n",
       "    }\n",
       "</style>\n",
       "<table border=\"1\" class=\"dataframe\">\n",
       "  <thead>\n",
       "    <tr style=\"text-align: right;\">\n",
       "      <th></th>\n",
       "      <th>title</th>\n",
       "      <th>rating</th>\n",
       "      <th>price</th>\n",
       "    </tr>\n",
       "  </thead>\n",
       "  <tbody>\n",
       "    <tr>\n",
       "      <th>0</th>\n",
       "      <td>ASUS VivoBook 14 (2021), 14-inch (35.56 cms) F...</td>\n",
       "      <td>1</td>\n",
       "      <td>59,990</td>\n",
       "    </tr>\n",
       "    <tr>\n",
       "      <th>1</th>\n",
       "      <td>Acer Nitro 5 AN515-57 Gaming Laptop | Intel Co...</td>\n",
       "      <td>Get it by Thursday, January 20\\nFREE Delivery ...</td>\n",
       "      <td>89,990</td>\n",
       "    </tr>\n",
       "    <tr>\n",
       "      <th>2</th>\n",
       "      <td>Lenovo ThinkBook 13s Intel 11th Gen Core i7 13...</td>\n",
       "      <td>6</td>\n",
       "      <td>79,990</td>\n",
       "    </tr>\n",
       "    <tr>\n",
       "      <th>3</th>\n",
       "      <td>HP Pavilion 13, 11th Gen Intel Core i7, 13.3-i...</td>\n",
       "      <td>Get it by Wednesday, January 19\\nFREE Delivery...</td>\n",
       "      <td>86,990</td>\n",
       "    </tr>\n",
       "    <tr>\n",
       "      <th>4</th>\n",
       "      <td>ASUS TUF Gaming F15 (2021) 15.6-inch (39.62 cm...</td>\n",
       "      <td>32</td>\n",
       "      <td>1,14,990</td>\n",
       "    </tr>\n",
       "    <tr>\n",
       "      <th>5</th>\n",
       "      <td>Acer Predator Helios 300 11th Gen Intel Core i...</td>\n",
       "      <td>Get it by Wednesday, January 19\\nFREE Delivery...</td>\n",
       "      <td>1,79,990</td>\n",
       "    </tr>\n",
       "    <tr>\n",
       "      <th>6</th>\n",
       "      <td>(Renewed) Dell Latitude E7470 Intel Core i7 6t...</td>\n",
       "      <td>27</td>\n",
       "      <td>44,990</td>\n",
       "    </tr>\n",
       "    <tr>\n",
       "      <th>7</th>\n",
       "      <td>HP Pavilion 14, Intel 11th Gen Core i7 16GB RA...</td>\n",
       "      <td>Get it by Wednesday, January 19\\nFREE Delivery...</td>\n",
       "      <td>57,990</td>\n",
       "    </tr>\n",
       "    <tr>\n",
       "      <th>8</th>\n",
       "      <td>Mi Notebook Horizon Edition 14 Intel Core i7-1...</td>\n",
       "      <td>9</td>\n",
       "      <td>82,990</td>\n",
       "    </tr>\n",
       "    <tr>\n",
       "      <th>9</th>\n",
       "      <td>ASUS TUF Dash F15 (2021) 15.6-inch (39.62 cms)...</td>\n",
       "      <td>Get it by Thursday, January 20\\nFREE Delivery ...</td>\n",
       "      <td>1,04,399</td>\n",
       "    </tr>\n",
       "  </tbody>\n",
       "</table>\n",
       "</div>"
      ],
      "text/plain": [
       "                                               title  \\\n",
       "0  ASUS VivoBook 14 (2021), 14-inch (35.56 cms) F...   \n",
       "1  Acer Nitro 5 AN515-57 Gaming Laptop | Intel Co...   \n",
       "2  Lenovo ThinkBook 13s Intel 11th Gen Core i7 13...   \n",
       "3  HP Pavilion 13, 11th Gen Intel Core i7, 13.3-i...   \n",
       "4  ASUS TUF Gaming F15 (2021) 15.6-inch (39.62 cm...   \n",
       "5  Acer Predator Helios 300 11th Gen Intel Core i...   \n",
       "6  (Renewed) Dell Latitude E7470 Intel Core i7 6t...   \n",
       "7  HP Pavilion 14, Intel 11th Gen Core i7 16GB RA...   \n",
       "8  Mi Notebook Horizon Edition 14 Intel Core i7-1...   \n",
       "9  ASUS TUF Dash F15 (2021) 15.6-inch (39.62 cms)...   \n",
       "\n",
       "                                              rating     price  \n",
       "0                                                  1    59,990  \n",
       "1  Get it by Thursday, January 20\\nFREE Delivery ...    89,990  \n",
       "2                                                  6    79,990  \n",
       "3  Get it by Wednesday, January 19\\nFREE Delivery...    86,990  \n",
       "4                                                 32  1,14,990  \n",
       "5  Get it by Wednesday, January 19\\nFREE Delivery...  1,79,990  \n",
       "6                                                 27    44,990  \n",
       "7  Get it by Wednesday, January 19\\nFREE Delivery...    57,990  \n",
       "8                                                  9    82,990  \n",
       "9  Get it by Thursday, January 20\\nFREE Delivery ...  1,04,399  "
      ]
     },
     "execution_count": 111,
     "metadata": {},
     "output_type": "execute_result"
    }
   ],
   "source": [
    "laptop = pd.DataFrame()\n",
    "laptop['title'] = title[0:10]\n",
    "laptop['rating'] = rating[0:10]\n",
    "laptop['price'] = price[0:10]\n",
    "laptop"
   ]
  },
  {
   "cell_type": "markdown",
   "id": "bdce7383",
   "metadata": {},
   "source": [
    "### Q9: Write a python program to scrape data for first 10 job results for Data Scientist Designation in Noida location. You have to scrape company name, No. of days ago when job was posted, Rating of the company. This task will be done in following steps:\n",
    "1.\tFirst get the webpage https://www.ambitionbox.com/\n",
    "2.\tClick on the Job option as shown in the image\n",
    "3.\tAfter reaching to the next webpage, In place of “Search by Designations, Companies, Skills” enter\n",
    "“Data Scientist” and click on search button.\n",
    "4.\tYou will reach to the following web page click on location and in place of “Search location” enter\n",
    "“Noida” and select location “Noida”.\n",
    "\n",
    "5.\tThen scrape the data for the first 10 jobs results you get on the above shown page.\n",
    "6.\tFinally create a dataframe of the scraped data.\n"
   ]
  },
  {
   "cell_type": "code",
   "execution_count": 119,
   "id": "89ceb720",
   "metadata": {},
   "outputs": [],
   "source": [
    "driver = webdriver.Chrome(r'C:\\Users\\Khiro\\Downloads\\chromedriver_win32\\chromedriver')"
   ]
  },
  {
   "cell_type": "code",
   "execution_count": 120,
   "id": "72fd5c82",
   "metadata": {},
   "outputs": [],
   "source": [
    "driver = webdriver.Chrome('chromedriver')"
   ]
  },
  {
   "cell_type": "code",
   "execution_count": 121,
   "id": "016cf635",
   "metadata": {},
   "outputs": [],
   "source": [
    "url = 'https://www.ambitionbox.com/'\n",
    "driver.get(url)"
   ]
  },
  {
   "cell_type": "code",
   "execution_count": 131,
   "id": "73f48196",
   "metadata": {},
   "outputs": [
    {
     "data": {
      "text/plain": [
       "<selenium.webdriver.remote.webelement.WebElement (session=\"d5f5cdd9117390d19dae8fced2bfad7c\", element=\"69e47f00-d399-48c3-bd6e-4e2c11592fd5\")>"
      ]
     },
     "execution_count": 131,
     "metadata": {},
     "output_type": "execute_result"
    }
   ],
   "source": [
    "search_job = driver.find_element_by_id(\"jobs-typeahead\")\n",
    "search_job"
   ]
  },
  {
   "cell_type": "code",
   "execution_count": 132,
   "id": "0fa663fe",
   "metadata": {},
   "outputs": [
    {
     "ename": "ElementNotInteractableException",
     "evalue": "Message: element not interactable\n  (Session info: chrome=97.0.4692.71)\nStacktrace:\nBacktrace:\n\tOrdinal0 [0x009D6903+2517251]\n\tOrdinal0 [0x0096F8E1+2095329]\n\tOrdinal0 [0x00872710+1058576]\n\tOrdinal0 [0x00898993+1214867]\n\tOrdinal0 [0x008980DF+1212639]\n\tOrdinal0 [0x008B64D3+1336531]\n\tOrdinal0 [0x00893A36+1194550]\n\tOrdinal0 [0x008B65BA+1336762]\n\tOrdinal0 [0x008C5BBF+1399743]\n\tOrdinal0 [0x008B639B+1336219]\n\tOrdinal0 [0x008927A7+1189799]\n\tOrdinal0 [0x00893609+1193481]\n\tGetHandleVerifier [0x00B65904+1577972]\n\tGetHandleVerifier [0x00C10B97+2279047]\n\tGetHandleVerifier [0x00A66D09+534521]\n\tGetHandleVerifier [0x00A65DB9+530601]\n\tOrdinal0 [0x00974FF9+2117625]\n\tOrdinal0 [0x009798A8+2136232]\n\tOrdinal0 [0x009799E2+2136546]\n\tOrdinal0 [0x00983541+2176321]\n\tBaseThreadInitThunk [0x7581FA29+25]\n\tRtlGetAppContainerNamedObjectPath [0x77437A9E+286]\n\tRtlGetAppContainerNamedObjectPath [0x77437A6E+238]\n",
     "output_type": "error",
     "traceback": [
      "\u001b[1;31m---------------------------------------------------------------------------\u001b[0m",
      "\u001b[1;31mElementNotInteractableException\u001b[0m           Traceback (most recent call last)",
      "\u001b[1;32m<ipython-input-132-d00f62c18558>\u001b[0m in \u001b[0;36m<module>\u001b[1;34m\u001b[0m\n\u001b[1;32m----> 1\u001b[1;33m \u001b[0msearch_job\u001b[0m\u001b[1;33m.\u001b[0m\u001b[0msend_keys\u001b[0m\u001b[1;33m(\u001b[0m\u001b[1;34m\"Data Scientist\"\u001b[0m\u001b[1;33m)\u001b[0m\u001b[1;33m\u001b[0m\u001b[1;33m\u001b[0m\u001b[0m\n\u001b[0m",
      "\u001b[1;32m~\\anaconda3\\lib\\site-packages\\selenium\\webdriver\\remote\\webelement.py\u001b[0m in \u001b[0;36msend_keys\u001b[1;34m(self, *value)\u001b[0m\n\u001b[0;32m    538\u001b[0m                 \u001b[0mvalue\u001b[0m \u001b[1;33m=\u001b[0m \u001b[1;34m'\\n'\u001b[0m\u001b[1;33m.\u001b[0m\u001b[0mjoin\u001b[0m\u001b[1;33m(\u001b[0m\u001b[0mremote_files\u001b[0m\u001b[1;33m)\u001b[0m\u001b[1;33m\u001b[0m\u001b[1;33m\u001b[0m\u001b[0m\n\u001b[0;32m    539\u001b[0m \u001b[1;33m\u001b[0m\u001b[0m\n\u001b[1;32m--> 540\u001b[1;33m         self._execute(Command.SEND_KEYS_TO_ELEMENT,\n\u001b[0m\u001b[0;32m    541\u001b[0m                       {'text': \"\".join(keys_to_typing(value)),\n\u001b[0;32m    542\u001b[0m                        'value': keys_to_typing(value)})\n",
      "\u001b[1;32m~\\anaconda3\\lib\\site-packages\\selenium\\webdriver\\remote\\webelement.py\u001b[0m in \u001b[0;36m_execute\u001b[1;34m(self, command, params)\u001b[0m\n\u001b[0;32m    708\u001b[0m             \u001b[0mparams\u001b[0m \u001b[1;33m=\u001b[0m \u001b[1;33m{\u001b[0m\u001b[1;33m}\u001b[0m\u001b[1;33m\u001b[0m\u001b[1;33m\u001b[0m\u001b[0m\n\u001b[0;32m    709\u001b[0m         \u001b[0mparams\u001b[0m\u001b[1;33m[\u001b[0m\u001b[1;34m'id'\u001b[0m\u001b[1;33m]\u001b[0m \u001b[1;33m=\u001b[0m \u001b[0mself\u001b[0m\u001b[1;33m.\u001b[0m\u001b[0m_id\u001b[0m\u001b[1;33m\u001b[0m\u001b[1;33m\u001b[0m\u001b[0m\n\u001b[1;32m--> 710\u001b[1;33m         \u001b[1;32mreturn\u001b[0m \u001b[0mself\u001b[0m\u001b[1;33m.\u001b[0m\u001b[0m_parent\u001b[0m\u001b[1;33m.\u001b[0m\u001b[0mexecute\u001b[0m\u001b[1;33m(\u001b[0m\u001b[0mcommand\u001b[0m\u001b[1;33m,\u001b[0m \u001b[0mparams\u001b[0m\u001b[1;33m)\u001b[0m\u001b[1;33m\u001b[0m\u001b[1;33m\u001b[0m\u001b[0m\n\u001b[0m\u001b[0;32m    711\u001b[0m \u001b[1;33m\u001b[0m\u001b[0m\n\u001b[0;32m    712\u001b[0m     \u001b[1;32mdef\u001b[0m \u001b[0mfind_element\u001b[0m\u001b[1;33m(\u001b[0m\u001b[0mself\u001b[0m\u001b[1;33m,\u001b[0m \u001b[0mby\u001b[0m\u001b[1;33m=\u001b[0m\u001b[0mBy\u001b[0m\u001b[1;33m.\u001b[0m\u001b[0mID\u001b[0m\u001b[1;33m,\u001b[0m \u001b[0mvalue\u001b[0m\u001b[1;33m=\u001b[0m\u001b[1;32mNone\u001b[0m\u001b[1;33m)\u001b[0m\u001b[1;33m:\u001b[0m\u001b[1;33m\u001b[0m\u001b[1;33m\u001b[0m\u001b[0m\n",
      "\u001b[1;32m~\\anaconda3\\lib\\site-packages\\selenium\\webdriver\\remote\\webdriver.py\u001b[0m in \u001b[0;36mexecute\u001b[1;34m(self, driver_command, params)\u001b[0m\n\u001b[0;32m    422\u001b[0m         \u001b[0mresponse\u001b[0m \u001b[1;33m=\u001b[0m \u001b[0mself\u001b[0m\u001b[1;33m.\u001b[0m\u001b[0mcommand_executor\u001b[0m\u001b[1;33m.\u001b[0m\u001b[0mexecute\u001b[0m\u001b[1;33m(\u001b[0m\u001b[0mdriver_command\u001b[0m\u001b[1;33m,\u001b[0m \u001b[0mparams\u001b[0m\u001b[1;33m)\u001b[0m\u001b[1;33m\u001b[0m\u001b[1;33m\u001b[0m\u001b[0m\n\u001b[0;32m    423\u001b[0m         \u001b[1;32mif\u001b[0m \u001b[0mresponse\u001b[0m\u001b[1;33m:\u001b[0m\u001b[1;33m\u001b[0m\u001b[1;33m\u001b[0m\u001b[0m\n\u001b[1;32m--> 424\u001b[1;33m             \u001b[0mself\u001b[0m\u001b[1;33m.\u001b[0m\u001b[0merror_handler\u001b[0m\u001b[1;33m.\u001b[0m\u001b[0mcheck_response\u001b[0m\u001b[1;33m(\u001b[0m\u001b[0mresponse\u001b[0m\u001b[1;33m)\u001b[0m\u001b[1;33m\u001b[0m\u001b[1;33m\u001b[0m\u001b[0m\n\u001b[0m\u001b[0;32m    425\u001b[0m             response['value'] = self._unwrap_value(\n\u001b[0;32m    426\u001b[0m                 response.get('value', None))\n",
      "\u001b[1;32m~\\anaconda3\\lib\\site-packages\\selenium\\webdriver\\remote\\errorhandler.py\u001b[0m in \u001b[0;36mcheck_response\u001b[1;34m(self, response)\u001b[0m\n\u001b[0;32m    245\u001b[0m                 \u001b[0malert_text\u001b[0m \u001b[1;33m=\u001b[0m \u001b[0mvalue\u001b[0m\u001b[1;33m[\u001b[0m\u001b[1;34m'alert'\u001b[0m\u001b[1;33m]\u001b[0m\u001b[1;33m.\u001b[0m\u001b[0mget\u001b[0m\u001b[1;33m(\u001b[0m\u001b[1;34m'text'\u001b[0m\u001b[1;33m)\u001b[0m\u001b[1;33m\u001b[0m\u001b[1;33m\u001b[0m\u001b[0m\n\u001b[0;32m    246\u001b[0m             \u001b[1;32mraise\u001b[0m \u001b[0mexception_class\u001b[0m\u001b[1;33m(\u001b[0m\u001b[0mmessage\u001b[0m\u001b[1;33m,\u001b[0m \u001b[0mscreen\u001b[0m\u001b[1;33m,\u001b[0m \u001b[0mstacktrace\u001b[0m\u001b[1;33m,\u001b[0m \u001b[0malert_text\u001b[0m\u001b[1;33m)\u001b[0m  \u001b[1;31m# type: ignore[call-arg]  # mypy is not smart enough here\u001b[0m\u001b[1;33m\u001b[0m\u001b[1;33m\u001b[0m\u001b[0m\n\u001b[1;32m--> 247\u001b[1;33m         \u001b[1;32mraise\u001b[0m \u001b[0mexception_class\u001b[0m\u001b[1;33m(\u001b[0m\u001b[0mmessage\u001b[0m\u001b[1;33m,\u001b[0m \u001b[0mscreen\u001b[0m\u001b[1;33m,\u001b[0m \u001b[0mstacktrace\u001b[0m\u001b[1;33m)\u001b[0m\u001b[1;33m\u001b[0m\u001b[1;33m\u001b[0m\u001b[0m\n\u001b[0m\u001b[0;32m    248\u001b[0m \u001b[1;33m\u001b[0m\u001b[0m\n\u001b[0;32m    249\u001b[0m     \u001b[1;32mdef\u001b[0m \u001b[0m_value_or_default\u001b[0m\u001b[1;33m(\u001b[0m\u001b[0mself\u001b[0m\u001b[1;33m,\u001b[0m \u001b[0mobj\u001b[0m\u001b[1;33m:\u001b[0m \u001b[0mMapping\u001b[0m\u001b[1;33m[\u001b[0m\u001b[0m_KT\u001b[0m\u001b[1;33m,\u001b[0m \u001b[0m_VT\u001b[0m\u001b[1;33m]\u001b[0m\u001b[1;33m,\u001b[0m \u001b[0mkey\u001b[0m\u001b[1;33m:\u001b[0m \u001b[0m_KT\u001b[0m\u001b[1;33m,\u001b[0m \u001b[0mdefault\u001b[0m\u001b[1;33m:\u001b[0m \u001b[0m_VT\u001b[0m\u001b[1;33m)\u001b[0m \u001b[1;33m->\u001b[0m \u001b[0m_VT\u001b[0m\u001b[1;33m:\u001b[0m\u001b[1;33m\u001b[0m\u001b[1;33m\u001b[0m\u001b[0m\n",
      "\u001b[1;31mElementNotInteractableException\u001b[0m: Message: element not interactable\n  (Session info: chrome=97.0.4692.71)\nStacktrace:\nBacktrace:\n\tOrdinal0 [0x009D6903+2517251]\n\tOrdinal0 [0x0096F8E1+2095329]\n\tOrdinal0 [0x00872710+1058576]\n\tOrdinal0 [0x00898993+1214867]\n\tOrdinal0 [0x008980DF+1212639]\n\tOrdinal0 [0x008B64D3+1336531]\n\tOrdinal0 [0x00893A36+1194550]\n\tOrdinal0 [0x008B65BA+1336762]\n\tOrdinal0 [0x008C5BBF+1399743]\n\tOrdinal0 [0x008B639B+1336219]\n\tOrdinal0 [0x008927A7+1189799]\n\tOrdinal0 [0x00893609+1193481]\n\tGetHandleVerifier [0x00B65904+1577972]\n\tGetHandleVerifier [0x00C10B97+2279047]\n\tGetHandleVerifier [0x00A66D09+534521]\n\tGetHandleVerifier [0x00A65DB9+530601]\n\tOrdinal0 [0x00974FF9+2117625]\n\tOrdinal0 [0x009798A8+2136232]\n\tOrdinal0 [0x009799E2+2136546]\n\tOrdinal0 [0x00983541+2176321]\n\tBaseThreadInitThunk [0x7581FA29+25]\n\tRtlGetAppContainerNamedObjectPath [0x77437A9E+286]\n\tRtlGetAppContainerNamedObjectPath [0x77437A6E+238]\n"
     ]
    }
   ],
   "source": [
    "search_job.send_keys(\"Data Scientist\")"
   ]
  },
  {
   "cell_type": "code",
   "execution_count": 133,
   "id": "15485e82",
   "metadata": {},
   "outputs": [
    {
     "data": {
      "text/plain": [
       "<selenium.webdriver.remote.webelement.WebElement (session=\"d5f5cdd9117390d19dae8fced2bfad7c\", element=\"bb0a5593-d8d8-46ec-956a-ffa02340195a\")>"
      ]
     },
     "execution_count": 133,
     "metadata": {},
     "output_type": "execute_result"
    }
   ],
   "source": [
    "search_locn = driver.find_element_by_xpath('/html/body/div/div/div/div[2]/div[2]/div[1]/div/div/div/div[2]/div[2]/div/div[2]/input')\n",
    "search_locn"
   ]
  },
  {
   "cell_type": "code",
   "execution_count": 135,
   "id": "8f231371",
   "metadata": {},
   "outputs": [],
   "source": [
    "search_locn.send_keys(\"Noida\")"
   ]
  },
  {
   "cell_type": "markdown",
   "id": "5f4009fb",
   "metadata": {},
   "source": [
    "### Extracting job title"
   ]
  },
  {
   "cell_type": "code",
   "execution_count": 136,
   "id": "8337f91b",
   "metadata": {},
   "outputs": [
    {
     "data": {
      "text/plain": [
       "[<selenium.webdriver.remote.webelement.WebElement (session=\"d5f5cdd9117390d19dae8fced2bfad7c\", element=\"f98385c5-4909-49ff-b924-02d40aa6346c\")>,\n",
       " <selenium.webdriver.remote.webelement.WebElement (session=\"d5f5cdd9117390d19dae8fced2bfad7c\", element=\"04b1484d-02bb-4e7c-b6d9-e9efe189fcae\")>,\n",
       " <selenium.webdriver.remote.webelement.WebElement (session=\"d5f5cdd9117390d19dae8fced2bfad7c\", element=\"e96f0666-5b8e-4e1b-8135-b53d55b8beaf\")>,\n",
       " <selenium.webdriver.remote.webelement.WebElement (session=\"d5f5cdd9117390d19dae8fced2bfad7c\", element=\"63e303bc-106a-4252-ae6a-afe73b0b1f92\")>,\n",
       " <selenium.webdriver.remote.webelement.WebElement (session=\"d5f5cdd9117390d19dae8fced2bfad7c\", element=\"388d7f08-3dc7-4574-bd87-e335cae53d85\")>,\n",
       " <selenium.webdriver.remote.webelement.WebElement (session=\"d5f5cdd9117390d19dae8fced2bfad7c\", element=\"0be8068f-efc7-4a1e-a3c3-5a21488a1151\")>,\n",
       " <selenium.webdriver.remote.webelement.WebElement (session=\"d5f5cdd9117390d19dae8fced2bfad7c\", element=\"bd8840bf-23a1-4007-8cd4-d13434ae1a33\")>,\n",
       " <selenium.webdriver.remote.webelement.WebElement (session=\"d5f5cdd9117390d19dae8fced2bfad7c\", element=\"ff5e921d-9e07-49c3-a4ff-da551a5634ff\")>,\n",
       " <selenium.webdriver.remote.webelement.WebElement (session=\"d5f5cdd9117390d19dae8fced2bfad7c\", element=\"31f83169-5d0d-45ef-a855-39ae6f4baa14\")>,\n",
       " <selenium.webdriver.remote.webelement.WebElement (session=\"d5f5cdd9117390d19dae8fced2bfad7c\", element=\"a6832acc-373a-44ce-9841-3a1be2b4dd3f\")>]"
      ]
     },
     "execution_count": 136,
     "metadata": {},
     "output_type": "execute_result"
    }
   ],
   "source": [
    "title_tags = driver.find_elements_by_xpath('//a[@class=\"title noclick\"]')\n",
    "len(title_tags)\n",
    "title_tags[0:10]"
   ]
  },
  {
   "cell_type": "code",
   "execution_count": 138,
   "id": "a871457e",
   "metadata": {},
   "outputs": [
    {
     "data": {
      "text/plain": [
       "['Data Scientist',\n",
       " 'Manager Data Scientist',\n",
       " 'Vice President - Data Science',\n",
       " 'Data Scientist',\n",
       " 'CogniTensor - Data Scientist (2-5 yrs)',\n",
       " 'CogniTensor - Data Scientist (2-5 yrs)',\n",
       " 'Data Scientist - Data Science/Model Development (0-6 yrs)',\n",
       " 'Manager - Data Scientist - Retail/BFSI (8-15 yrs)',\n",
       " 'Data Scientist - Consulting Firm (8-15 yrs)',\n",
       " 'RMS Risk Management - Data Scientist - CNN/Deep Learning (2-8 yrs)']"
      ]
     },
     "execution_count": 138,
     "metadata": {},
     "output_type": "execute_result"
    }
   ],
   "source": [
    "job_titles = []\n",
    "for i in title_tags:\n",
    "    job_titles.append(i.text)\n",
    "len(job_titles)\n",
    "job_titles[0:10]"
   ]
  },
  {
   "cell_type": "markdown",
   "id": "2b357bdd",
   "metadata": {},
   "source": [
    "### Extracting company names"
   ]
  },
  {
   "cell_type": "code",
   "execution_count": 137,
   "id": "2bf295e4",
   "metadata": {},
   "outputs": [
    {
     "data": {
      "text/plain": [
       "[<selenium.webdriver.remote.webelement.WebElement (session=\"d5f5cdd9117390d19dae8fced2bfad7c\", element=\"7971e38c-ccfa-4f5d-81e7-4c6c850d533a\")>,\n",
       " <selenium.webdriver.remote.webelement.WebElement (session=\"d5f5cdd9117390d19dae8fced2bfad7c\", element=\"c4b2136c-deb5-43a3-82c9-63dfda64e418\")>,\n",
       " <selenium.webdriver.remote.webelement.WebElement (session=\"d5f5cdd9117390d19dae8fced2bfad7c\", element=\"e1bdb72c-8a6f-44f1-af4c-12769e6a1cf3\")>,\n",
       " <selenium.webdriver.remote.webelement.WebElement (session=\"d5f5cdd9117390d19dae8fced2bfad7c\", element=\"831b462b-56bf-4dd6-a2ff-44e86784d56d\")>,\n",
       " <selenium.webdriver.remote.webelement.WebElement (session=\"d5f5cdd9117390d19dae8fced2bfad7c\", element=\"a1f42019-e058-4bbe-8750-62040e9f43ac\")>,\n",
       " <selenium.webdriver.remote.webelement.WebElement (session=\"d5f5cdd9117390d19dae8fced2bfad7c\", element=\"114a527c-1c0c-45bf-ad4a-eb4bbd2d6135\")>,\n",
       " <selenium.webdriver.remote.webelement.WebElement (session=\"d5f5cdd9117390d19dae8fced2bfad7c\", element=\"86644cd5-f33f-4897-98d2-82bb483c646b\")>,\n",
       " <selenium.webdriver.remote.webelement.WebElement (session=\"d5f5cdd9117390d19dae8fced2bfad7c\", element=\"094d7754-ae8b-49a4-9185-32ec1b410e20\")>,\n",
       " <selenium.webdriver.remote.webelement.WebElement (session=\"d5f5cdd9117390d19dae8fced2bfad7c\", element=\"ced52c4f-ac4a-42b4-9221-fca05de80004\")>,\n",
       " <selenium.webdriver.remote.webelement.WebElement (session=\"d5f5cdd9117390d19dae8fced2bfad7c\", element=\"3e9d9cd8-5b45-4dfb-ae69-50bfa137a13f\")>]"
      ]
     },
     "execution_count": 137,
     "metadata": {},
     "output_type": "execute_result"
    }
   ],
   "source": [
    "company_tags = driver.find_elements_by_xpath('//p[@class=\"company body-medium\"]')\n",
    "company_tags[0:10]"
   ]
  },
  {
   "cell_type": "code",
   "execution_count": 139,
   "id": "a255e130",
   "metadata": {},
   "outputs": [
    {
     "data": {
      "text/plain": [
       "['Nokia Solutions and Networks India (P)Ltd.',\n",
       " 'Ameriprise Financial',\n",
       " 'Paytm',\n",
       " 'Jubilant Foodworks Limited',\n",
       " 'CHT Sapiense',\n",
       " 'CHT Sapiense',\n",
       " 'GI Group',\n",
       " 'GI Group',\n",
       " 'GI Group',\n",
       " 'RMS Risk Management Solutions']"
      ]
     },
     "execution_count": 139,
     "metadata": {},
     "output_type": "execute_result"
    }
   ],
   "source": [
    "company_names = []\n",
    "\n",
    "for i in company_tags:\n",
    "    company_names.append(i.text)\n",
    "len(company_names)\n",
    "company_names[0:10]"
   ]
  },
  {
   "cell_type": "markdown",
   "id": "282a9803",
   "metadata": {},
   "source": [
    "### Extracting company location"
   ]
  },
  {
   "cell_type": "code",
   "execution_count": 146,
   "id": "8d2f0950",
   "metadata": {},
   "outputs": [
    {
     "data": {
      "text/plain": [
       "[<selenium.webdriver.remote.webelement.WebElement (session=\"d5f5cdd9117390d19dae8fced2bfad7c\", element=\"792b318a-319c-45d0-9a3b-7a3871925a2c\")>,\n",
       " <selenium.webdriver.remote.webelement.WebElement (session=\"d5f5cdd9117390d19dae8fced2bfad7c\", element=\"5c900d24-62fc-406d-a38d-e8f9ac7e694b\")>,\n",
       " <selenium.webdriver.remote.webelement.WebElement (session=\"d5f5cdd9117390d19dae8fced2bfad7c\", element=\"882c0273-29d9-4f02-8106-a155d626150b\")>,\n",
       " <selenium.webdriver.remote.webelement.WebElement (session=\"d5f5cdd9117390d19dae8fced2bfad7c\", element=\"92c5c82e-6e2f-439d-8d0b-b232e97b5b63\")>,\n",
       " <selenium.webdriver.remote.webelement.WebElement (session=\"d5f5cdd9117390d19dae8fced2bfad7c\", element=\"a1ef84d5-4f6d-4743-8585-5339341a7e38\")>,\n",
       " <selenium.webdriver.remote.webelement.WebElement (session=\"d5f5cdd9117390d19dae8fced2bfad7c\", element=\"37246b2d-7b45-4902-bdd3-6e33f19b432e\")>,\n",
       " <selenium.webdriver.remote.webelement.WebElement (session=\"d5f5cdd9117390d19dae8fced2bfad7c\", element=\"3e4fa9df-040b-4335-9728-f4ee74627f75\")>,\n",
       " <selenium.webdriver.remote.webelement.WebElement (session=\"d5f5cdd9117390d19dae8fced2bfad7c\", element=\"6fba698d-6cb3-4c0e-88ed-22abf320bd51\")>,\n",
       " <selenium.webdriver.remote.webelement.WebElement (session=\"d5f5cdd9117390d19dae8fced2bfad7c\", element=\"52e0d077-1bef-4a72-88f8-f08daa6c8c73\")>,\n",
       " <selenium.webdriver.remote.webelement.WebElement (session=\"d5f5cdd9117390d19dae8fced2bfad7c\", element=\"121e26e5-2753-4071-96d1-d04c511bf3d9\")>]"
      ]
     },
     "execution_count": 146,
     "metadata": {},
     "output_type": "execute_result"
    }
   ],
   "source": [
    "locn_tags = driver.find_elements_by_xpath('//p[@class=\"body-small-l\"]')\n",
    "len(locn_tags)\n",
    "locn_tags[0:10]"
   ]
  },
  {
   "cell_type": "code",
   "execution_count": 147,
   "id": "2a094051",
   "metadata": {},
   "outputs": [
    {
     "data": {
      "text/plain": [
       "['1-3 years',\n",
       " 'Not Disclosed',\n",
       " 'Noida',\n",
       " '1 vacancy',\n",
       " '1-3 Yrs',\n",
       " 'Not Disclosed',\n",
       " 'Noida',\n",
       " 'Telecom, Data mining, Relationship management +7 more',\n",
       " '4-6 Yrs',\n",
       " 'Not Disclosed']"
      ]
     },
     "execution_count": 147,
     "metadata": {},
     "output_type": "execute_result"
    }
   ],
   "source": [
    "location = []\n",
    "\n",
    "for i in locn_tags:\n",
    "    location.append(i.text)\n",
    "len(location)\n",
    "location[0:10]"
   ]
  },
  {
   "cell_type": "markdown",
   "id": "b7c81121",
   "metadata": {},
   "source": [
    "### Extracting company experience"
   ]
  },
  {
   "cell_type": "code",
   "execution_count": 148,
   "id": "bb0996a6",
   "metadata": {},
   "outputs": [
    {
     "data": {
      "text/plain": [
       "[<selenium.webdriver.remote.webelement.WebElement (session=\"d5f5cdd9117390d19dae8fced2bfad7c\", element=\"792b318a-319c-45d0-9a3b-7a3871925a2c\")>,\n",
       " <selenium.webdriver.remote.webelement.WebElement (session=\"d5f5cdd9117390d19dae8fced2bfad7c\", element=\"5c900d24-62fc-406d-a38d-e8f9ac7e694b\")>,\n",
       " <selenium.webdriver.remote.webelement.WebElement (session=\"d5f5cdd9117390d19dae8fced2bfad7c\", element=\"882c0273-29d9-4f02-8106-a155d626150b\")>,\n",
       " <selenium.webdriver.remote.webelement.WebElement (session=\"d5f5cdd9117390d19dae8fced2bfad7c\", element=\"371b8833-e5ef-4fae-aa79-e0f92cde352b\")>,\n",
       " <selenium.webdriver.remote.webelement.WebElement (session=\"d5f5cdd9117390d19dae8fced2bfad7c\", element=\"a1ef84d5-4f6d-4743-8585-5339341a7e38\")>,\n",
       " <selenium.webdriver.remote.webelement.WebElement (session=\"d5f5cdd9117390d19dae8fced2bfad7c\", element=\"37246b2d-7b45-4902-bdd3-6e33f19b432e\")>,\n",
       " <selenium.webdriver.remote.webelement.WebElement (session=\"d5f5cdd9117390d19dae8fced2bfad7c\", element=\"3e4fa9df-040b-4335-9728-f4ee74627f75\")>,\n",
       " <selenium.webdriver.remote.webelement.WebElement (session=\"d5f5cdd9117390d19dae8fced2bfad7c\", element=\"6fba698d-6cb3-4c0e-88ed-22abf320bd51\")>,\n",
       " <selenium.webdriver.remote.webelement.WebElement (session=\"d5f5cdd9117390d19dae8fced2bfad7c\", element=\"52e0d077-1bef-4a72-88f8-f08daa6c8c73\")>,\n",
       " <selenium.webdriver.remote.webelement.WebElement (session=\"d5f5cdd9117390d19dae8fced2bfad7c\", element=\"121e26e5-2753-4071-96d1-d04c511bf3d9\")>]"
      ]
     },
     "execution_count": 148,
     "metadata": {},
     "output_type": "execute_result"
    }
   ],
   "source": [
    "exp_tags = driver.find_elements_by_xpath('//p[@class=\"body-small-l\"]')\n",
    "len(exp_tags)\n",
    "exp_tags[0:10]"
   ]
  },
  {
   "cell_type": "code",
   "execution_count": 149,
   "id": "5baccb1f",
   "metadata": {},
   "outputs": [
    {
     "data": {
      "text/plain": [
       "['4-6 years',\n",
       " 'Not Disclosed',\n",
       " 'Noida',\n",
       " '1 vacancy',\n",
       " '1-3 Yrs',\n",
       " 'Not Disclosed',\n",
       " 'Noida',\n",
       " 'Telecom, Data mining, Relationship management +7 more',\n",
       " '4-6 Yrs',\n",
       " 'Not Disclosed']"
      ]
     },
     "execution_count": 149,
     "metadata": {},
     "output_type": "execute_result"
    }
   ],
   "source": [
    "experience = []\n",
    "\n",
    "for i in exp_tags:\n",
    "    experience.append(i.text)\n",
    "len(experience)\n",
    "experience[0:10]"
   ]
  },
  {
   "cell_type": "code",
   "execution_count": 150,
   "id": "4e727fe4",
   "metadata": {},
   "outputs": [
    {
     "data": {
      "text/plain": [
       "(10, 10, 38, 38)"
      ]
     },
     "execution_count": 150,
     "metadata": {},
     "output_type": "execute_result"
    }
   ],
   "source": [
    "len(job_titles),len(company_names),len(location),len(experience)"
   ]
  },
  {
   "cell_type": "code",
   "execution_count": 151,
   "id": "ec07c62c",
   "metadata": {},
   "outputs": [
    {
     "data": {
      "text/html": [
       "<div>\n",
       "<style scoped>\n",
       "    .dataframe tbody tr th:only-of-type {\n",
       "        vertical-align: middle;\n",
       "    }\n",
       "\n",
       "    .dataframe tbody tr th {\n",
       "        vertical-align: top;\n",
       "    }\n",
       "\n",
       "    .dataframe thead th {\n",
       "        text-align: right;\n",
       "    }\n",
       "</style>\n",
       "<table border=\"1\" class=\"dataframe\">\n",
       "  <thead>\n",
       "    <tr style=\"text-align: right;\">\n",
       "      <th></th>\n",
       "      <th>Job Title</th>\n",
       "      <th>Company Name</th>\n",
       "      <th>location</th>\n",
       "      <th>Experience</th>\n",
       "    </tr>\n",
       "  </thead>\n",
       "  <tbody>\n",
       "    <tr>\n",
       "      <th>0</th>\n",
       "      <td>Data Scientist</td>\n",
       "      <td>1-3 years</td>\n",
       "      <td>Nokia Solutions and Networks India (P)Ltd.</td>\n",
       "      <td>4-6 years</td>\n",
       "    </tr>\n",
       "    <tr>\n",
       "      <th>1</th>\n",
       "      <td>Manager Data Scientist</td>\n",
       "      <td>Not Disclosed</td>\n",
       "      <td>Ameriprise Financial</td>\n",
       "      <td>Not Disclosed</td>\n",
       "    </tr>\n",
       "    <tr>\n",
       "      <th>2</th>\n",
       "      <td>Vice President - Data Science</td>\n",
       "      <td>Noida</td>\n",
       "      <td>Paytm</td>\n",
       "      <td>Noida</td>\n",
       "    </tr>\n",
       "    <tr>\n",
       "      <th>3</th>\n",
       "      <td>Data Scientist</td>\n",
       "      <td>1 vacancy</td>\n",
       "      <td>Jubilant Foodworks Limited</td>\n",
       "      <td>1 vacancy</td>\n",
       "    </tr>\n",
       "    <tr>\n",
       "      <th>4</th>\n",
       "      <td>CogniTensor - Data Scientist (2-5 yrs)</td>\n",
       "      <td>1-3 Yrs</td>\n",
       "      <td>CHT Sapiense</td>\n",
       "      <td>1-3 Yrs</td>\n",
       "    </tr>\n",
       "    <tr>\n",
       "      <th>5</th>\n",
       "      <td>CogniTensor - Data Scientist (2-5 yrs)</td>\n",
       "      <td>Not Disclosed</td>\n",
       "      <td>CHT Sapiense</td>\n",
       "      <td>Not Disclosed</td>\n",
       "    </tr>\n",
       "    <tr>\n",
       "      <th>6</th>\n",
       "      <td>Data Scientist - Data Science/Model Developmen...</td>\n",
       "      <td>Noida</td>\n",
       "      <td>GI Group</td>\n",
       "      <td>Noida</td>\n",
       "    </tr>\n",
       "    <tr>\n",
       "      <th>7</th>\n",
       "      <td>Manager - Data Scientist - Retail/BFSI (8-15 yrs)</td>\n",
       "      <td>Telecom, Data mining, Relationship management ...</td>\n",
       "      <td>GI Group</td>\n",
       "      <td>Telecom, Data mining, Relationship management ...</td>\n",
       "    </tr>\n",
       "    <tr>\n",
       "      <th>8</th>\n",
       "      <td>Data Scientist - Consulting Firm (8-15 yrs)</td>\n",
       "      <td>4-6 Yrs</td>\n",
       "      <td>GI Group</td>\n",
       "      <td>4-6 Yrs</td>\n",
       "    </tr>\n",
       "    <tr>\n",
       "      <th>9</th>\n",
       "      <td>RMS Risk Management - Data Scientist - CNN/Dee...</td>\n",
       "      <td>Not Disclosed</td>\n",
       "      <td>RMS Risk Management Solutions</td>\n",
       "      <td>Not Disclosed</td>\n",
       "    </tr>\n",
       "  </tbody>\n",
       "</table>\n",
       "</div>"
      ],
      "text/plain": [
       "                                           Job Title  \\\n",
       "0                                     Data Scientist   \n",
       "1                             Manager Data Scientist   \n",
       "2                      Vice President - Data Science   \n",
       "3                                     Data Scientist   \n",
       "4             CogniTensor - Data Scientist (2-5 yrs)   \n",
       "5             CogniTensor - Data Scientist (2-5 yrs)   \n",
       "6  Data Scientist - Data Science/Model Developmen...   \n",
       "7  Manager - Data Scientist - Retail/BFSI (8-15 yrs)   \n",
       "8        Data Scientist - Consulting Firm (8-15 yrs)   \n",
       "9  RMS Risk Management - Data Scientist - CNN/Dee...   \n",
       "\n",
       "                                        Company Name  \\\n",
       "0                                          1-3 years   \n",
       "1                                      Not Disclosed   \n",
       "2                                              Noida   \n",
       "3                                          1 vacancy   \n",
       "4                                            1-3 Yrs   \n",
       "5                                      Not Disclosed   \n",
       "6                                              Noida   \n",
       "7  Telecom, Data mining, Relationship management ...   \n",
       "8                                            4-6 Yrs   \n",
       "9                                      Not Disclosed   \n",
       "\n",
       "                                     location  \\\n",
       "0  Nokia Solutions and Networks India (P)Ltd.   \n",
       "1                        Ameriprise Financial   \n",
       "2                                       Paytm   \n",
       "3                  Jubilant Foodworks Limited   \n",
       "4                                CHT Sapiense   \n",
       "5                                CHT Sapiense   \n",
       "6                                    GI Group   \n",
       "7                                    GI Group   \n",
       "8                                    GI Group   \n",
       "9               RMS Risk Management Solutions   \n",
       "\n",
       "                                          Experience  \n",
       "0                                          4-6 years  \n",
       "1                                      Not Disclosed  \n",
       "2                                              Noida  \n",
       "3                                          1 vacancy  \n",
       "4                                            1-3 Yrs  \n",
       "5                                      Not Disclosed  \n",
       "6                                              Noida  \n",
       "7  Telecom, Data mining, Relationship management ...  \n",
       "8                                            4-6 Yrs  \n",
       "9                                      Not Disclosed  "
      ]
     },
     "execution_count": 151,
     "metadata": {},
     "output_type": "execute_result"
    }
   ],
   "source": [
    "jobs = pd.DataFrame({})\n",
    "jobs['Job Title'] = job_titles[:10]\n",
    "jobs['Company Name'] = location[:10]\n",
    "jobs['location'] = company_names[:10]\n",
    "jobs['Experience'] = experience[:10]\n",
    "jobs"
   ]
  },
  {
   "cell_type": "markdown",
   "id": "c622fa6a",
   "metadata": {},
   "source": [
    "### Q10: Write a python program to scrape the salary data for Data Scientist designation.\n",
    "You have to scrape Company name, Number of salaries, Average salary, Minsalary, Max Salary. The above task will be, done as shown in the below steps:\n",
    "1.\tFirst get the webpage https://www.ambitionbox.com/\n",
    "2.\tClick on the salaries option as shown in the image.\n",
    "3.\tAfter reaching to the following webpage, In place of “Search Job Profile” enters “Data Scientist” and then click on “Data Scientist”.\n",
    "4.\tScrape the data for the first 10 companies. Scrape the company name, total salary record, average salary, minimum salary, maximum salary, experience required.\n",
    "5.\tStore the data in a dataframe.\n"
   ]
  },
  {
   "cell_type": "code",
   "execution_count": 152,
   "id": "7badfb90",
   "metadata": {},
   "outputs": [],
   "source": [
    "driver = webdriver.Chrome(r'C:\\Users\\Khiro\\Downloads\\chromedriver_win32\\chromedriver')"
   ]
  },
  {
   "cell_type": "code",
   "execution_count": 153,
   "id": "88714336",
   "metadata": {},
   "outputs": [],
   "source": [
    "driver = webdriver.Chrome('chromedriver')"
   ]
  },
  {
   "cell_type": "code",
   "execution_count": 154,
   "id": "e0db070f",
   "metadata": {},
   "outputs": [],
   "source": [
    "url = 'https://www.ambitionbox.com/'\n",
    "driver.get(url)"
   ]
  },
  {
   "cell_type": "code",
   "execution_count": 156,
   "id": "620d0cf9",
   "metadata": {},
   "outputs": [
    {
     "data": {
      "text/plain": [
       "[<selenium.webdriver.remote.webelement.WebElement (session=\"aab82c72427f77009cf58480c5aba8c0\", element=\"52d6b24d-3a6d-46de-8dc7-f509f8ebe08f\")>,\n",
       " <selenium.webdriver.remote.webelement.WebElement (session=\"aab82c72427f77009cf58480c5aba8c0\", element=\"0c1ba439-e238-4003-948a-1ef55e80638f\")>,\n",
       " <selenium.webdriver.remote.webelement.WebElement (session=\"aab82c72427f77009cf58480c5aba8c0\", element=\"74f8851f-d866-496a-9fa2-91e42db39f75\")>,\n",
       " <selenium.webdriver.remote.webelement.WebElement (session=\"aab82c72427f77009cf58480c5aba8c0\", element=\"1f7200e5-9945-4fe4-8ff7-07d1c7e1bad4\")>,\n",
       " <selenium.webdriver.remote.webelement.WebElement (session=\"aab82c72427f77009cf58480c5aba8c0\", element=\"cdebd899-b401-4948-8654-27415aed3eb4\")>,\n",
       " <selenium.webdriver.remote.webelement.WebElement (session=\"aab82c72427f77009cf58480c5aba8c0\", element=\"c68d0905-6f4a-4c30-b7f2-520b18305cbb\")>,\n",
       " <selenium.webdriver.remote.webelement.WebElement (session=\"aab82c72427f77009cf58480c5aba8c0\", element=\"74f12a4d-c858-44a1-a39a-42cc0d03d40e\")>,\n",
       " <selenium.webdriver.remote.webelement.WebElement (session=\"aab82c72427f77009cf58480c5aba8c0\", element=\"d3702811-afaf-4837-994a-e9eb9276d596\")>,\n",
       " <selenium.webdriver.remote.webelement.WebElement (session=\"aab82c72427f77009cf58480c5aba8c0\", element=\"63668bf5-1421-4c0b-9d54-86894dd4f5b9\")>,\n",
       " <selenium.webdriver.remote.webelement.WebElement (session=\"aab82c72427f77009cf58480c5aba8c0\", element=\"b9ca5e34-9376-45ce-b9e1-1dbe029bca30\")>]"
      ]
     },
     "execution_count": 156,
     "metadata": {},
     "output_type": "execute_result"
    }
   ],
   "source": [
    "company_tags = driver.find_elements_by_xpath('//div[@class=\"name\"]')\n",
    "company_tags[0:10]"
   ]
  },
  {
   "cell_type": "code",
   "execution_count": 157,
   "id": "abf9a96c",
   "metadata": {},
   "outputs": [
    {
     "data": {
      "text/plain": [
       "['Walmart\\nbased on 10 salaries',\n",
       " 'Ab Inbev\\nbased on 22 salaries',\n",
       " 'ZS\\nbased on 14 salaries',\n",
       " 'Fractal Analytics\\nbased on 72 salaries',\n",
       " 'Optum\\nbased on 23 salaries',\n",
       " 'UnitedHealth\\nbased on 49 salaries',\n",
       " 'Tiger Analytics\\nbased on 27 salaries',\n",
       " 'Verizon\\nbased on 14 salaries',\n",
       " 'Ganit Business Solutions\\nbased on 13 salaries',\n",
       " 'Ericsson\\nbased on 42 salaries']"
      ]
     },
     "execution_count": 157,
     "metadata": {},
     "output_type": "execute_result"
    }
   ],
   "source": [
    "company_names = []\n",
    "\n",
    "for i in company_tags:\n",
    "    company_names.append(i.text)\n",
    "len(company_names)\n",
    "company_names[0:10]"
   ]
  },
  {
   "cell_type": "code",
   "execution_count": 160,
   "id": "858eea92",
   "metadata": {},
   "outputs": [
    {
     "data": {
      "text/plain": [
       "[<selenium.webdriver.remote.webelement.WebElement (session=\"aab82c72427f77009cf58480c5aba8c0\", element=\"f022379e-82f7-4019-ab43-19217fe79246\")>,\n",
       " <selenium.webdriver.remote.webelement.WebElement (session=\"aab82c72427f77009cf58480c5aba8c0\", element=\"37fa5f18-57bd-406a-bbf7-3239a950bf0c\")>,\n",
       " <selenium.webdriver.remote.webelement.WebElement (session=\"aab82c72427f77009cf58480c5aba8c0\", element=\"54e7d54e-ec1b-4582-bf1b-5f3a9c18c7a7\")>,\n",
       " <selenium.webdriver.remote.webelement.WebElement (session=\"aab82c72427f77009cf58480c5aba8c0\", element=\"9e32d089-67f3-4344-aed9-78f2884be348\")>,\n",
       " <selenium.webdriver.remote.webelement.WebElement (session=\"aab82c72427f77009cf58480c5aba8c0\", element=\"3ed72d68-223b-4e4b-b223-697e3b2a73d0\")>,\n",
       " <selenium.webdriver.remote.webelement.WebElement (session=\"aab82c72427f77009cf58480c5aba8c0\", element=\"28c65c88-5a56-401a-9223-5aec55763ac3\")>,\n",
       " <selenium.webdriver.remote.webelement.WebElement (session=\"aab82c72427f77009cf58480c5aba8c0\", element=\"8bb0ed76-803d-4f5a-998b-6c743717617a\")>,\n",
       " <selenium.webdriver.remote.webelement.WebElement (session=\"aab82c72427f77009cf58480c5aba8c0\", element=\"6e8dc94a-b5b0-4651-b6a3-81a2e4febf70\")>,\n",
       " <selenium.webdriver.remote.webelement.WebElement (session=\"aab82c72427f77009cf58480c5aba8c0\", element=\"de155c1e-2668-4cdb-b318-852d0722f809\")>,\n",
       " <selenium.webdriver.remote.webelement.WebElement (session=\"aab82c72427f77009cf58480c5aba8c0\", element=\"b84b0f62-f453-4e6c-82d3-966f2e642e08\")>]"
      ]
     },
     "execution_count": 160,
     "metadata": {},
     "output_type": "execute_result"
    }
   ],
   "source": [
    "averagesalary_tags = driver.find_elements_by_xpath('//p[@class=\"averageCtc\"]')\n",
    "averagesalary_tags[0:10]"
   ]
  },
  {
   "cell_type": "code",
   "execution_count": 161,
   "id": "b1e3d9d3",
   "metadata": {},
   "outputs": [
    {
     "data": {
      "text/plain": [
       "['₹ 28.7L',\n",
       " '₹ 19.5L',\n",
       " '₹ 15.8L',\n",
       " '₹ 15.0L',\n",
       " '₹ 15.0L',\n",
       " '₹ 13.5L',\n",
       " '₹ 13.5L',\n",
       " '₹ 12.7L',\n",
       " '₹ 12.4L',\n",
       " '₹ 11.9L']"
      ]
     },
     "execution_count": 161,
     "metadata": {},
     "output_type": "execute_result"
    }
   ],
   "source": [
    "averagesalary= []\n",
    "\n",
    "for i in averagesalary_tags:\n",
    "    averagesalary.append(i.text)\n",
    "len(averagesalary)\n",
    "averagesalary[0:10]"
   ]
  },
  {
   "cell_type": "code",
   "execution_count": 163,
   "id": "b25f8de0",
   "metadata": {},
   "outputs": [
    {
     "data": {
      "text/plain": [
       "[<selenium.webdriver.remote.webelement.WebElement (session=\"aab82c72427f77009cf58480c5aba8c0\", element=\"9225cf6d-23ba-4f89-ad4e-0857cb550586\")>,\n",
       " <selenium.webdriver.remote.webelement.WebElement (session=\"aab82c72427f77009cf58480c5aba8c0\", element=\"20a5ba6f-dce6-457b-a2c0-33cf9479569f\")>,\n",
       " <selenium.webdriver.remote.webelement.WebElement (session=\"aab82c72427f77009cf58480c5aba8c0\", element=\"9da4be1b-e12f-4d77-ba39-390fe9a49cac\")>,\n",
       " <selenium.webdriver.remote.webelement.WebElement (session=\"aab82c72427f77009cf58480c5aba8c0\", element=\"e466935f-f611-4cc6-8a74-f7c517658508\")>,\n",
       " <selenium.webdriver.remote.webelement.WebElement (session=\"aab82c72427f77009cf58480c5aba8c0\", element=\"90307c3a-257a-40f4-94fa-211b1382e9b5\")>,\n",
       " <selenium.webdriver.remote.webelement.WebElement (session=\"aab82c72427f77009cf58480c5aba8c0\", element=\"1c16d8f3-2677-408f-9df0-8b84430d4c2c\")>,\n",
       " <selenium.webdriver.remote.webelement.WebElement (session=\"aab82c72427f77009cf58480c5aba8c0\", element=\"7605a256-4f57-472d-8247-55bcd23d242f\")>,\n",
       " <selenium.webdriver.remote.webelement.WebElement (session=\"aab82c72427f77009cf58480c5aba8c0\", element=\"483dc8a1-4971-46eb-8204-80af4e762b5d\")>,\n",
       " <selenium.webdriver.remote.webelement.WebElement (session=\"aab82c72427f77009cf58480c5aba8c0\", element=\"96a77032-8fe1-463f-9e69-9ebf39e86bc2\")>,\n",
       " <selenium.webdriver.remote.webelement.WebElement (session=\"aab82c72427f77009cf58480c5aba8c0\", element=\"b9f19d51-46e3-4a0a-968f-c0b23bcbe560\")>]"
      ]
     },
     "execution_count": 163,
     "metadata": {},
     "output_type": "execute_result"
    }
   ],
   "source": [
    "minimumsalary_tags = driver.find_elements_by_xpath('//div[@class=\"value body-medium\"]')\n",
    "minimumsalary_tags[0:10]"
   ]
  },
  {
   "cell_type": "code",
   "execution_count": 164,
   "id": "9a570bdc",
   "metadata": {},
   "outputs": [
    {
     "data": {
      "text/plain": [
       "['₹ 17.7L',\n",
       " '₹ 35.0L',\n",
       " '₹ 15.0L',\n",
       " '₹ 25.0L',\n",
       " '₹ 9.8L',\n",
       " '₹ 20.0L',\n",
       " '₹ 9.5L',\n",
       " '₹ 22.0L',\n",
       " '₹ 11.0L',\n",
       " '₹ 21.3L']"
      ]
     },
     "execution_count": 164,
     "metadata": {},
     "output_type": "execute_result"
    }
   ],
   "source": [
    "minimumsalary= []\n",
    "\n",
    "for i in minimumsalary_tags:\n",
    "    minimumsalary.append(i.text)\n",
    "len(minimumsalary)\n",
    "minimumsalary[0:10]"
   ]
  },
  {
   "cell_type": "code",
   "execution_count": 167,
   "id": "e2dfa142",
   "metadata": {},
   "outputs": [
    {
     "data": {
      "text/plain": [
       "[<selenium.webdriver.remote.webelement.WebElement (session=\"aab82c72427f77009cf58480c5aba8c0\", element=\"9225cf6d-23ba-4f89-ad4e-0857cb550586\")>,\n",
       " <selenium.webdriver.remote.webelement.WebElement (session=\"aab82c72427f77009cf58480c5aba8c0\", element=\"20a5ba6f-dce6-457b-a2c0-33cf9479569f\")>,\n",
       " <selenium.webdriver.remote.webelement.WebElement (session=\"aab82c72427f77009cf58480c5aba8c0\", element=\"9da4be1b-e12f-4d77-ba39-390fe9a49cac\")>,\n",
       " <selenium.webdriver.remote.webelement.WebElement (session=\"aab82c72427f77009cf58480c5aba8c0\", element=\"e466935f-f611-4cc6-8a74-f7c517658508\")>,\n",
       " <selenium.webdriver.remote.webelement.WebElement (session=\"aab82c72427f77009cf58480c5aba8c0\", element=\"90307c3a-257a-40f4-94fa-211b1382e9b5\")>,\n",
       " <selenium.webdriver.remote.webelement.WebElement (session=\"aab82c72427f77009cf58480c5aba8c0\", element=\"1c16d8f3-2677-408f-9df0-8b84430d4c2c\")>,\n",
       " <selenium.webdriver.remote.webelement.WebElement (session=\"aab82c72427f77009cf58480c5aba8c0\", element=\"7605a256-4f57-472d-8247-55bcd23d242f\")>,\n",
       " <selenium.webdriver.remote.webelement.WebElement (session=\"aab82c72427f77009cf58480c5aba8c0\", element=\"483dc8a1-4971-46eb-8204-80af4e762b5d\")>,\n",
       " <selenium.webdriver.remote.webelement.WebElement (session=\"aab82c72427f77009cf58480c5aba8c0\", element=\"96a77032-8fe1-463f-9e69-9ebf39e86bc2\")>,\n",
       " <selenium.webdriver.remote.webelement.WebElement (session=\"aab82c72427f77009cf58480c5aba8c0\", element=\"b9f19d51-46e3-4a0a-968f-c0b23bcbe560\")>]"
      ]
     },
     "execution_count": 167,
     "metadata": {},
     "output_type": "execute_result"
    }
   ],
   "source": [
    "maximumsalary_tags = driver.find_elements_by_xpath('//div[@class=\"value body-medium\"]')\n",
    "maximumsalary_tags[0:10]"
   ]
  },
  {
   "cell_type": "code",
   "execution_count": 168,
   "id": "b09158f2",
   "metadata": {},
   "outputs": [
    {
     "data": {
      "text/plain": [
       "['₹ 17.7L',\n",
       " '₹ 35.0L',\n",
       " '₹ 15.0L',\n",
       " '₹ 25.0L',\n",
       " '₹ 9.8L',\n",
       " '₹ 20.0L',\n",
       " '₹ 9.5L',\n",
       " '₹ 22.0L',\n",
       " '₹ 11.0L',\n",
       " '₹ 21.3L']"
      ]
     },
     "execution_count": 168,
     "metadata": {},
     "output_type": "execute_result"
    }
   ],
   "source": [
    "maximumsalary= []\n",
    "\n",
    "for i in maximumsalary_tags:\n",
    "    maximumsalary.append(i.text)\n",
    "len(maximumsalary)\n",
    "maximumsalary[0:10]"
   ]
  },
  {
   "cell_type": "code",
   "execution_count": 172,
   "id": "d9f8846d",
   "metadata": {},
   "outputs": [
    {
     "data": {
      "text/plain": [
       "(10, 10, 20, 20)"
      ]
     },
     "execution_count": 172,
     "metadata": {},
     "output_type": "execute_result"
    }
   ],
   "source": [
    "len(company_names),len(averagesalary),len(minimumsalary),len(maximumsalary)"
   ]
  },
  {
   "cell_type": "code",
   "execution_count": 174,
   "id": "c44b5953",
   "metadata": {},
   "outputs": [
    {
     "data": {
      "text/html": [
       "<div>\n",
       "<style scoped>\n",
       "    .dataframe tbody tr th:only-of-type {\n",
       "        vertical-align: middle;\n",
       "    }\n",
       "\n",
       "    .dataframe tbody tr th {\n",
       "        vertical-align: top;\n",
       "    }\n",
       "\n",
       "    .dataframe thead th {\n",
       "        text-align: right;\n",
       "    }\n",
       "</style>\n",
       "<table border=\"1\" class=\"dataframe\">\n",
       "  <thead>\n",
       "    <tr style=\"text-align: right;\">\n",
       "      <th></th>\n",
       "      <th>Company Name</th>\n",
       "      <th>Average salary</th>\n",
       "      <th>minimum salary</th>\n",
       "      <th>maximum salary</th>\n",
       "    </tr>\n",
       "  </thead>\n",
       "  <tbody>\n",
       "    <tr>\n",
       "      <th>0</th>\n",
       "      <td>Walmart\\nbased on 10 salaries</td>\n",
       "      <td>₹ 28.7L</td>\n",
       "      <td>₹ 17.7L</td>\n",
       "      <td>₹ 17.7L</td>\n",
       "    </tr>\n",
       "    <tr>\n",
       "      <th>1</th>\n",
       "      <td>Ab Inbev\\nbased on 22 salaries</td>\n",
       "      <td>₹ 19.5L</td>\n",
       "      <td>₹ 35.0L</td>\n",
       "      <td>₹ 35.0L</td>\n",
       "    </tr>\n",
       "    <tr>\n",
       "      <th>2</th>\n",
       "      <td>ZS\\nbased on 14 salaries</td>\n",
       "      <td>₹ 15.8L</td>\n",
       "      <td>₹ 15.0L</td>\n",
       "      <td>₹ 15.0L</td>\n",
       "    </tr>\n",
       "    <tr>\n",
       "      <th>3</th>\n",
       "      <td>Fractal Analytics\\nbased on 72 salaries</td>\n",
       "      <td>₹ 15.0L</td>\n",
       "      <td>₹ 25.0L</td>\n",
       "      <td>₹ 25.0L</td>\n",
       "    </tr>\n",
       "    <tr>\n",
       "      <th>4</th>\n",
       "      <td>Optum\\nbased on 23 salaries</td>\n",
       "      <td>₹ 15.0L</td>\n",
       "      <td>₹ 9.8L</td>\n",
       "      <td>₹ 9.8L</td>\n",
       "    </tr>\n",
       "    <tr>\n",
       "      <th>5</th>\n",
       "      <td>UnitedHealth\\nbased on 49 salaries</td>\n",
       "      <td>₹ 13.5L</td>\n",
       "      <td>₹ 20.0L</td>\n",
       "      <td>₹ 20.0L</td>\n",
       "    </tr>\n",
       "    <tr>\n",
       "      <th>6</th>\n",
       "      <td>Tiger Analytics\\nbased on 27 salaries</td>\n",
       "      <td>₹ 13.5L</td>\n",
       "      <td>₹ 9.5L</td>\n",
       "      <td>₹ 9.5L</td>\n",
       "    </tr>\n",
       "    <tr>\n",
       "      <th>7</th>\n",
       "      <td>Verizon\\nbased on 14 salaries</td>\n",
       "      <td>₹ 12.7L</td>\n",
       "      <td>₹ 22.0L</td>\n",
       "      <td>₹ 22.0L</td>\n",
       "    </tr>\n",
       "    <tr>\n",
       "      <th>8</th>\n",
       "      <td>Ganit Business Solutions\\nbased on 13 salaries</td>\n",
       "      <td>₹ 12.4L</td>\n",
       "      <td>₹ 11.0L</td>\n",
       "      <td>₹ 11.0L</td>\n",
       "    </tr>\n",
       "    <tr>\n",
       "      <th>9</th>\n",
       "      <td>Ericsson\\nbased on 42 salaries</td>\n",
       "      <td>₹ 11.9L</td>\n",
       "      <td>₹ 21.3L</td>\n",
       "      <td>₹ 21.3L</td>\n",
       "    </tr>\n",
       "  </tbody>\n",
       "</table>\n",
       "</div>"
      ],
      "text/plain": [
       "                                     Company Name Average salary  \\\n",
       "0                   Walmart\\nbased on 10 salaries        ₹ 28.7L   \n",
       "1                  Ab Inbev\\nbased on 22 salaries        ₹ 19.5L   \n",
       "2                        ZS\\nbased on 14 salaries        ₹ 15.8L   \n",
       "3         Fractal Analytics\\nbased on 72 salaries        ₹ 15.0L   \n",
       "4                     Optum\\nbased on 23 salaries        ₹ 15.0L   \n",
       "5              UnitedHealth\\nbased on 49 salaries        ₹ 13.5L   \n",
       "6           Tiger Analytics\\nbased on 27 salaries        ₹ 13.5L   \n",
       "7                   Verizon\\nbased on 14 salaries        ₹ 12.7L   \n",
       "8  Ganit Business Solutions\\nbased on 13 salaries        ₹ 12.4L   \n",
       "9                  Ericsson\\nbased on 42 salaries        ₹ 11.9L   \n",
       "\n",
       "  minimum salary maximum salary  \n",
       "0        ₹ 17.7L        ₹ 17.7L  \n",
       "1        ₹ 35.0L        ₹ 35.0L  \n",
       "2        ₹ 15.0L        ₹ 15.0L  \n",
       "3        ₹ 25.0L        ₹ 25.0L  \n",
       "4         ₹ 9.8L         ₹ 9.8L  \n",
       "5        ₹ 20.0L        ₹ 20.0L  \n",
       "6         ₹ 9.5L         ₹ 9.5L  \n",
       "7        ₹ 22.0L        ₹ 22.0L  \n",
       "8        ₹ 11.0L        ₹ 11.0L  \n",
       "9        ₹ 21.3L        ₹ 21.3L  "
      ]
     },
     "execution_count": 174,
     "metadata": {},
     "output_type": "execute_result"
    }
   ],
   "source": [
    "jobs = pd.DataFrame({})\n",
    "jobs['Company Name'] = company_names[:10]\n",
    "jobs['Average salary'] = averagesalary[:10]\n",
    "jobs['minimum salary'] = minimumsalary[:10]\n",
    "jobs['maximum salary'] = maximumsalary[0:10]\n",
    "jobs"
   ]
  },
  {
   "cell_type": "code",
   "execution_count": null,
   "id": "53e436d8",
   "metadata": {},
   "outputs": [],
   "source": []
  }
 ],
 "metadata": {
  "kernelspec": {
   "display_name": "Python 3",
   "language": "python",
   "name": "python3"
  },
  "language_info": {
   "codemirror_mode": {
    "name": "ipython",
    "version": 3
   },
   "file_extension": ".py",
   "mimetype": "text/x-python",
   "name": "python",
   "nbconvert_exporter": "python",
   "pygments_lexer": "ipython3",
   "version": "3.8.8"
  }
 },
 "nbformat": 4,
 "nbformat_minor": 5
}
